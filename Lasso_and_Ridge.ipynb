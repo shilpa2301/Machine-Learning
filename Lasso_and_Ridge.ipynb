{
  "cells": [
    {
      "cell_type": "code",
      "execution_count": 2,
      "metadata": {
        "id": "zuEiVowtgEii"
      },
      "outputs": [],
      "source": [
        "from sklearn.datasets import load_svmlight_files\n",
        "X_train, y_train, X_test, y_test = load_svmlight_files((\"/content/E2006.train\", \"/content/E2006.test\"))"
      ]
    },
    {
      "cell_type": "code",
      "execution_count": 3,
      "metadata": {
        "colab": {
          "base_uri": "https://localhost:8080/"
        },
        "id": "9Bvim0p_gEik",
        "outputId": "bfa29cc2-0c2f-411c-dfbc-0e5208f87af6"
      },
      "outputs": [
        {
          "output_type": "stream",
          "name": "stdout",
          "text": [
            "(16087, 150360) (16087,) (3308, 150360) (3308,)\n"
          ]
        }
      ],
      "source": [
        "print(X_train.shape, y_train.shape, X_test.shape, y_test.shape)"
      ]
    },
    {
      "cell_type": "markdown",
      "source": [
        "**QUESTION 4 -PART 1 **"
      ],
      "metadata": {
        "id": "KIXGUwRDu8Ir"
      }
    },
    {
      "cell_type": "code",
      "execution_count": null,
      "metadata": {
        "id": "m4ecJPeMgEil"
      },
      "outputs": [],
      "source": [
        "import numpy as np\n",
        "from sklearn.metrics import mean_squared_error\n",
        "from sklearn import linear_model\n",
        "\n",
        "#lambda_vals = [0, 1e-5, 1e-3, 1e-2, 0.1, 1, 10, 100, 1e3, 1e4, 1e5, 1e6]\n",
        "lambda_vals=[0.1]\n",
        "\n",
        "ridge_train_err = []\n",
        "ridge_test_err = []\n",
        "ridge_nonzero = []\n",
        "ridge_l2_norm = []\n",
        "\n",
        "lasso_train_err = []\n",
        "lasso_test_err = []\n",
        "lasso_nonzero = []\n",
        "lasso_l2_norm = []\n",
        "\n",
        "for lambda_val in lambda_vals:\n",
        "    # Ridge regression\n",
        "    ridge_reg = linear_model.Ridge(alpha=lambda_val, max_iter=1000)\n",
        "    ridge_reg.fit(X_train, y_train)\n",
        "    ridge_coefs = ridge_reg.coef_\n",
        "    ridge_intercept = ridge_reg.intercept_\n",
        "\n",
        "\n",
        "    \n",
        "    # Lasso\n",
        "    if lambda_val>0:\n",
        "      lasso_reg = linear_model.Lasso(alpha=lambda_val/X_train.shape[0], max_iter=1000)\n",
        "      lasso_reg.fit(X_train, y_train)\n",
        "      lasso_coefs = lasso_reg.coef_\n",
        "      lasso_intercept = lasso_reg.intercept_\n",
        "\n"
      ]
    },
    {
      "cell_type": "code",
      "execution_count": null,
      "metadata": {
        "id": "v9RXhFBMgEin",
        "outputId": "6cb2084f-1245-4614-db02-96caf16062ca"
      },
      "outputs": [
        {
          "name": "stdout",
          "output_type": "stream",
          "text": [
            "no of nonzero elements in ridge coefficients: 150348\n"
          ]
        }
      ],
      "source": [
        "count_ridge_nonzero_coefficients = sum(val != 0.0 for val in ridge_coefs)\n",
        "\n",
        "print(\"no of nonzero elements in ridge coefficients: \"+str(count_ridge_nonzero_coefficients))"
      ]
    },
    {
      "cell_type": "code",
      "execution_count": null,
      "metadata": {
        "id": "wiZRJ0pfgEin",
        "outputId": "cc1f2b09-9b94-451c-97be-cb55468ea7ac"
      },
      "outputs": [
        {
          "name": "stdout",
          "output_type": "stream",
          "text": [
            "no of nonzero elements in lasso coefficients: 102\n"
          ]
        }
      ],
      "source": [
        "count_lasso_nonzero_coefficients = sum(val != 0.0 for val in lasso_coefs)\n",
        "print(\"no of nonzero elements in lasso coefficients: \"+str(count_lasso_nonzero_coefficients))"
      ]
    },
    {
      "cell_type": "markdown",
      "source": [
        "**Question 4- part 1 Discussion**\n",
        "\n",
        "The cause of the different number of nonzero elements in the coefficient solutions of Ridge regression and Lasso is due to the penalty term used in each method.\n",
        "\n",
        "Ridge regression uses a penalty term that is proportional to the square of the magnitude of the coefficients, whereas Lasso uses a penalty term that is proportional to the absolute value of the coefficients.\n",
        "\n",
        "This difference in penalty terms results in Ridge regression tending to shrink the coefficients towards zero, but not necessarily to exactly zero, while Lasso tends to shrink some of the coefficients exactly to zero, resulting in a sparse coefficient solution.\n",
        "\n",
        "This implication is that Lasso can be useful for feature selection, as it can identify which features are important for predicting the outcome, and which are not. In contrast, Ridge regression may include all features in the model to some degree, even if they are not relevant for predicting the outcome.\n"
      ],
      "metadata": {
        "id": "c1_d_yg3rwZ_"
      }
    },
    {
      "cell_type": "markdown",
      "source": [
        "**QUESTION 4 -PART 2 **"
      ],
      "metadata": {
        "id": "S0srwgi5usU8"
      }
    },
    {
      "cell_type": "code",
      "execution_count": null,
      "metadata": {
        "scrolled": true,
        "id": "1WhcpYBMgEin",
        "outputId": "7f86022b-e1c7-407a-8053-a073e3fc663e"
      },
      "outputs": [
        {
          "name": "stdout",
          "output_type": "stream",
          "text": [
            "executing for lambda=0\n",
            "Ridge Train with lambda=0 RMSE:0.34338120553994\n",
            "Ridge Test with lambda=0 RMSE:0.36931654896570226\n",
            "executing for lambda=1e-05\n",
            "Ridge Train with lambda=1e-05 RMSE:0.34334338202369247\n",
            "Ridge Test with lambda=1e-05 RMSE:0.3693158901938875\n"
          ]
        },
        {
          "name": "stderr",
          "output_type": "stream",
          "text": [
            "/sw/eb/sw/Anaconda3/5.3.0/lib/python3.7/site-packages/sklearn/linear_model/coordinate_descent.py:491: ConvergenceWarning: Objective did not converge. You might want to increase the number of iterations. Fitting data with very small alpha may cause precision problems.\n",
            "  ConvergenceWarning)\n"
          ]
        },
        {
          "name": "stdout",
          "output_type": "stream",
          "text": [
            "Lasso Train with lambda=1e-05 RMSE:0.0029901096379031755\n",
            "Lasso Test with lambda=1e-05 RMSE:0.56112048343611\n",
            "executing for lambda=0.001\n",
            "Ridge Train with lambda=0.001 RMSE:0.3439615328303954\n",
            "Ridge Test with lambda=0.001 RMSE:0.36935895669145474\n",
            "Lasso Train with lambda=0.001 RMSE:0.10843356504975925\n",
            "Lasso Test with lambda=0.001 RMSE:0.45207023321178635\n",
            "executing for lambda=0.01\n",
            "Ridge Train with lambda=0.01 RMSE:0.3483144918809177\n",
            "Ridge Test with lambda=0.01 RMSE:0.36974003441073283\n",
            "Lasso Train with lambda=0.01 RMSE:0.27121476304038067\n",
            "Lasso Test with lambda=0.01 RMSE:0.37152207354607364\n",
            "executing for lambda=0.1\n",
            "Ridge Train with lambda=0.1 RMSE:0.3621209683924796\n",
            "Ridge Test with lambda=0.1 RMSE:0.3716956294803696\n",
            "Lasso Train with lambda=0.1 RMSE:0.3614539385024552\n",
            "Lasso Test with lambda=0.1 RMSE:0.36866048420636616\n",
            "executing for lambda=1\n",
            "Ridge Train with lambda=1 RMSE:0.3703467258839155\n",
            "Ridge Test with lambda=1 RMSE:0.3738372661827589\n",
            "Lasso Train with lambda=1 RMSE:0.3720207570717243\n",
            "Lasso Test with lambda=1 RMSE:0.37450981126682137\n",
            "executing for lambda=10\n",
            "Ridge Train with lambda=10 RMSE:0.3718355413419254\n",
            "Ridge Test with lambda=10 RMSE:0.37437113277351874\n",
            "Lasso Train with lambda=10 RMSE:0.3720222216988522\n",
            "Lasso Test with lambda=10 RMSE:0.37445543272702997\n",
            "executing for lambda=100\n",
            "Ridge Train with lambda=100 RMSE:0.3721453937846206\n",
            "Ridge Test with lambda=100 RMSE:0.3740693824653222\n",
            "Lasso Train with lambda=100 RMSE:0.3721686553040908\n",
            "Lasso Test with lambda=100 RMSE:0.37404420867135896\n",
            "executing for lambda=1000.0\n",
            "Ridge Train with lambda=1000.0 RMSE:0.38013024959623193\n",
            "Ridge Test with lambda=1000.0 RMSE:0.3781281845967574\n",
            "Lasso Train with lambda=1000.0 RMSE:0.386531969313509\n",
            "Lasso Test with lambda=1000.0 RMSE:0.3831169403211038\n",
            "executing for lambda=10000.0\n",
            "Ridge Train with lambda=10000.0 RMSE:0.49511800150792296\n",
            "Ridge Test with lambda=10000.0 RMSE:0.48378204791611007\n",
            "Lasso Train with lambda=10000.0 RMSE:0.6322783539114604\n",
            "Lasso Test with lambda=10000.0 RMSE:0.618639780982641\n",
            "executing for lambda=100000.0\n",
            "Ridge Train with lambda=100000.0 RMSE:0.6103827444644189\n",
            "Ridge Test with lambda=100000.0 RMSE:0.5966515870489479\n",
            "Lasso Train with lambda=100000.0 RMSE:0.6322783539114604\n",
            "Lasso Test with lambda=100000.0 RMSE:0.618639780982641\n",
            "executing for lambda=1000000.0\n",
            "Ridge Train with lambda=1000000.0 RMSE:0.6299571156570283\n",
            "Ridge Test with lambda=1000000.0 RMSE:0.6163326745606765\n",
            "Lasso Train with lambda=1000000.0 RMSE:0.6322783539114604\n",
            "Lasso Test with lambda=1000000.0 RMSE:0.618639780982641\n"
          ]
        }
      ],
      "source": [
        "import numpy as np\n",
        "from sklearn.metrics import mean_squared_error\n",
        "from sklearn import linear_model\n",
        "lambda_vals_list = [0, 1e-5, 1e-3, 1e-2, 0.1, 1, 10, 100, 1e3, 1e4, 1e5, 1e6]\n",
        "#lambda_vals=[0.1]\n",
        "\n",
        "ridge_train_err = []\n",
        "ridge_test_err = []\n",
        "ridge_nonzero = []\n",
        "ridge_l2_norm = []\n",
        "\n",
        "lasso_train_err = []\n",
        "lasso_test_err = []\n",
        "lasso_nonzero = []\n",
        "lasso_l2_norm = []\n",
        "\n",
        "for lambda_val in lambda_vals_list:\n",
        "    print(\"executing for lambda=\"+str(lambda_val))\n",
        "    # Ridge regression\n",
        "    ridge_reg = linear_model.Ridge(alpha=lambda_val, max_iter=1000)\n",
        "    ridge_reg.fit(X_train, y_train)\n",
        "    ridge_coefs = ridge_reg.coef_\n",
        "    ridge_intercept = ridge_reg.intercept_\n",
        "\n",
        "    ridge_y_Pred=ridge_reg.predict(X_train)\n",
        "    ridge_rmse = np.sqrt(mean_squared_error(y_train, ridge_y_Pred))\n",
        "    print(\"Ridge Train with lambda=\"+str(lambda_val)+\" RMSE:\"+str(ridge_rmse))\n",
        "    ridge_train_err.append(ridge_rmse)\n",
        "    \n",
        "\n",
        "    ridge_ytest_Pred=ridge_reg.predict(X_test)\n",
        "    ridge_test_rmse = np.sqrt(mean_squared_error(y_test, ridge_ytest_Pred))\n",
        "    print(\"Ridge Test with lambda=\"+str(lambda_val)+\" RMSE:\"+str(ridge_test_rmse))\n",
        "    ridge_test_err.append(ridge_test_rmse)\n",
        "    \n",
        "    count_ridge_nonzero_coefficients = sum(val != 0.0 for val in ridge_coefs)\n",
        "    ridge_nonzero.append(count_ridge_nonzero_coefficients)\n",
        "    \n",
        "    ridge_l2_norm.append(np.linalg.norm(ridge_coefs, ord=2))\n",
        "    \n",
        "    \n",
        "    #ridge_train_pred = np.dot(X_train, ridge_coefs) + ridge_intercept\n",
        "    #ridge_test_pred = np.dot(X_test, ridge_coefs) + ridge_intercept\n",
        "    #\n",
        "    #ridge_train_err.append(np.sqrt(mean_squared_error(y_train, ridge_train_pred)))\n",
        "    #ridge_test_err.append(np.sqrt(mean_squared_error(y_test, ridge_test_pred)))\n",
        "    #ridge_nonzero.append(len(ridge_coefs[ridge_coefs != 0]))\n",
        "    #ridge_l2_norm.append(np.linalg.norm(ridge_coefs, ord=2))\n",
        "    \n",
        "    # Lasso\n",
        "    if lambda_val==0:\n",
        "      lasso_train_err.append(0.0)\n",
        "      lasso_test_err.append(0.0)\n",
        "      lasso_nonzero.append(0)\n",
        "      lasso_l2_norm.append(0)\n",
        "    elif lambda_val>0:\n",
        "      lasso_reg = linear_model.Lasso(alpha=lambda_val/X_train.shape[0], max_iter=800)\n",
        "      lasso_reg.fit(X_train, y_train)\n",
        "      lasso_coefs = lasso_reg.coef_\n",
        "      lasso_intercept = lasso_reg.intercept_\n",
        "\n",
        "      lasso_y_Pred=lasso_reg.predict(X_train)\n",
        "      lasso_rmse = np.sqrt(mean_squared_error(y_train, lasso_y_Pred))\n",
        "      print(\"Lasso Train with lambda=\"+str(lambda_val)+\" RMSE:\"+str(lasso_rmse))\n",
        "      lasso_train_err.append(lasso_rmse)\n",
        "\n",
        "      lasso_ytest_Pred=lasso_reg.predict(X_test)\n",
        "      lasso_test_rmse = np.sqrt(mean_squared_error(y_test, lasso_ytest_Pred))\n",
        "      print(\"Lasso Test with lambda=\"+str(lambda_val)+\" RMSE:\"+str(lasso_test_rmse))\n",
        "      lasso_test_err.append(lasso_test_rmse)\n",
        "        \n",
        "      count_lasso_nonzero_coefficients = sum(val != 0.0 for val in lasso_coefs)\n",
        "      lasso_nonzero.append(count_lasso_nonzero_coefficients)\n",
        "        \n",
        "      lasso_l2_norm.append(np.linalg.norm(lasso_coefs, ord=2))\n",
        "#\n",
        "    #  lasso_train_pred = np.dot(X_train, lasso_coefs) + lasso_intercept\n",
        "    #  lasso_test_pred = np.dot(X_test, lasso_coefs) + lasso_intercept\n",
        "#\n",
        "    #  lasso_train_err.append(np.sqrt(mean_squared_error(y_train, lasso_train_pred)))\n",
        "    #  lasso_test_err\n"
      ]
    },
    {
      "cell_type": "code",
      "execution_count": null,
      "metadata": {
        "id": "B6vBc4-IgEio",
        "outputId": "dba63bf2-3101-416f-c169-ea0f6cf7b6ba"
      },
      "outputs": [
        {
          "name": "stdout",
          "output_type": "stream",
          "text": [
            "Ridge- RMSE for training data:\n",
            "[0.34338120553994, 0.34334338202369247, 0.3439615328303954, 0.3483144918809177, 0.3621209683924796, 0.3703467258839155, 0.3718355413419254, 0.3721453937846206, 0.38013024959623193, 0.49511800150792296, 0.6103827444644189, 0.6299571156570283]\n",
            "-----------------------------------------------------------------\n",
            "Ridge- RMSE for test data:\n",
            "[0.36931654896570226, 0.3693158901938875, 0.36935895669145474, 0.36974003441073283, 0.3716956294803696, 0.3738372661827589, 0.37437113277351874, 0.3740693824653222, 0.3781281845967574, 0.48378204791611007, 0.5966515870489479, 0.6163326745606765]\n",
            "-----------------------------------------------------------------\n",
            "Lasso- RMSE for training data:\n",
            "[0.0, 0.0029901096379031755, 0.10843356504975925, 0.27121476304038067, 0.3614539385024552, 0.3720207570717243, 0.3720222216988522, 0.3721686553040908, 0.386531969313509, 0.6322783539114604, 0.6322783539114604, 0.6322783539114604]\n",
            "-----------------------------------------------------------------\n",
            "Lasso- RMSE for test data:\n",
            "[0.0, 0.56112048343611, 0.45207023321178635, 0.37152207354607364, 0.36866048420636616, 0.37450981126682137, 0.37445543272702997, 0.37404420867135896, 0.3831169403211038, 0.618639780982641, 0.618639780982641, 0.618639780982641]\n",
            "-----------------------------------------------------------------\n"
          ]
        }
      ],
      "source": [
        "print(\"Ridge- RMSE for training data:\")\n",
        "print(ridge_train_err)\n",
        "print('-----------------------------------------------------------------')\n",
        "\n",
        "print(\"Ridge- RMSE for test data:\")\n",
        "print(ridge_test_err)\n",
        "print('-----------------------------------------------------------------')\n",
        "\n",
        "print(\"Lasso- RMSE for training data:\")\n",
        "print(lasso_train_err)\n",
        "print('-----------------------------------------------------------------')\n",
        "\n",
        "print(\"Lasso- RMSE for test data:\")\n",
        "print(lasso_test_err)\n",
        "print('-----------------------------------------------------------------')"
      ]
    },
    {
      "cell_type": "code",
      "execution_count": null,
      "metadata": {
        "id": "pnBCZLMhgEip"
      },
      "outputs": [],
      "source": [
        "import pickle\n",
        "\n",
        "with open('ridge_train_err.pkl', 'wb') as file:\n",
        "      \n",
        "    # A new file will be created\n",
        "    pickle.dump(ridge_train_err, file)"
      ]
    },
    {
      "cell_type": "code",
      "execution_count": null,
      "metadata": {
        "id": "16fQ_pm2gEip"
      },
      "outputs": [],
      "source": [
        "with open('ridge_test_err.pkl', 'wb') as file:\n",
        "      \n",
        "    # A new file will be created\n",
        "    pickle.dump(ridge_test_err, file)\n",
        "    \n",
        "with open('ridge_nonzero.pkl', 'wb') as file:\n",
        "      \n",
        "    # A new file will be created\n",
        "    pickle.dump(ridge_nonzero, file)\n",
        "    \n",
        "with open('ridge_l2_norm.pkl', 'wb') as file:\n",
        "      \n",
        "    # A new file will be created\n",
        "    pickle.dump(ridge_l2_norm, file)\n",
        "    \n",
        "    \n",
        "with open('lasso_train_err.pkl', 'wb') as file:\n",
        "      \n",
        "    # A new file will be created\n",
        "    pickle.dump(lasso_train_err, file)\n",
        "    \n",
        "with open('lasso_test_err.pkl', 'wb') as file:\n",
        "      \n",
        "    # A new file will be created\n",
        "    pickle.dump(lasso_test_err, file)\n",
        "    \n",
        "with open('lasso_nonzero.pkl', 'wb') as file:\n",
        "      \n",
        "    # A new file will be created\n",
        "    pickle.dump(lasso_nonzero, file)\n",
        "    \n",
        "with open('lasso_l2_norm.pkl', 'wb') as file:\n",
        "      \n",
        "    # A new file will be created\n",
        "    pickle.dump(lasso_l2_norm, file)"
      ]
    },
    {
      "cell_type": "code",
      "source": [
        "import pickle\n",
        "with open('ridge_train_err.pkl', 'rb') as f:\n",
        "   ridge_train_err = pickle.load(f)\n",
        "\n",
        "with open('ridge_test_err.pkl', 'rb') as f:\n",
        "   ridge_test_err = pickle.load(f)\n",
        "\n",
        "with open('ridge_nonzero.pkl', 'rb') as f:\n",
        "   ridge_nonzero = pickle.load(f)\n",
        "\n",
        "with open('ridge_l2_norm.pkl', 'rb') as f:\n",
        "   ridge_l2_norm = pickle.load(f)\n",
        "\n",
        "with open('lasso_train_err.pkl', 'rb') as f:\n",
        "   lasso_train_err = pickle.load(f)\n",
        "\n",
        "with open('lasso_test_err.pkl', 'rb') as f:\n",
        "   lasso_test_err = pickle.load(f)\n",
        "\n",
        "with open('lasso_nonzero.pkl', 'rb') as f:\n",
        "   lasso_nonzero = pickle.load(f)\n",
        "\n",
        "with open('lasso_l2_norm.pkl', 'rb') as f:\n",
        "   lasso_l2_norm = pickle.load(f)"
      ],
      "metadata": {
        "id": "3SdVG38HiI5b"
      },
      "execution_count": 3,
      "outputs": []
    },
    {
      "cell_type": "code",
      "execution_count": 7,
      "metadata": {
        "id": "aO1dTNoRgEip"
      },
      "outputs": [],
      "source": [
        "import matplotlib.pyplot as plt"
      ]
    },
    {
      "cell_type": "code",
      "source": [
        "lambda_vals_list = [0, 1e-5, 1e-3, 1e-2, 0.1, 1, 10, 100, 1e3, 1e4, 1e5, 1e6]"
      ],
      "metadata": {
        "id": "6JiX0CqWj2L-"
      },
      "execution_count": 4,
      "outputs": []
    },
    {
      "cell_type": "code",
      "execution_count": 9,
      "metadata": {
        "colab": {
          "base_uri": "https://localhost:8080/",
          "height": 317
        },
        "id": "EITa5KQJgEip",
        "outputId": "57c9f35d-b3c4-4617-d4f0-5113f4b02ca9"
      },
      "outputs": [
        {
          "output_type": "stream",
          "name": "stdout",
          "text": [
            "Ridge Plot- RMSE(train data) vs Lambda\n"
          ]
        },
        {
          "output_type": "display_data",
          "data": {
            "text/plain": [
              "<Figure size 432x288 with 1 Axes>"
            ],
            "image/png": "[encoded data removed]"
          },
          "metadata": {
            "needs_background": "light"
          }
        }
      ],
      "source": [
        "print(\"Ridge Plot- RMSE(train data) vs Lambda\")\n",
        "#plt.plot(ridge_train_err, lambda_vals_list, 'r--', t, t**2, 'bs', t, t**3, 'g^')\n",
        "plt.plot(lambda_vals_list, ridge_train_err, 'ro')\n",
        "plt.ylabel(\"RMSE(train data)\")\n",
        "plt.xlabel(\"Lambda\")\n",
        "plt.title(\"Ridge Plot- RMSE(train data) vs Lambda\")\n",
        "#plt.xscale(\"log\")\n",
        "plt.xscale(\"log\")\n",
        "#plt.legend()\n",
        "plt.show()"
      ]
    },
    {
      "cell_type": "markdown",
      "source": [
        "We can see that the least value of RMSE for Ridge Train error is 0.34334338202369247 at Lambda=1e-05"
      ],
      "metadata": {
        "id": "r6_4d54yotNo"
      }
    },
    {
      "cell_type": "code",
      "execution_count": 11,
      "metadata": {
        "colab": {
          "base_uri": "https://localhost:8080/",
          "height": 317
        },
        "id": "p0HYdwMlgEiq",
        "outputId": "f683cb6e-5e59-4daa-92bd-518a9eadb8c5"
      },
      "outputs": [
        {
          "output_type": "stream",
          "name": "stdout",
          "text": [
            "Ridge Plot- RMSE(test data) vs Lambda\n"
          ]
        },
        {
          "output_type": "display_data",
          "data": {
            "text/plain": [
              "<Figure size 432x288 with 1 Axes>"
            ],
            "image/png": "[encoded data removed]"
          },
          "metadata": {
            "needs_background": "light"
          }
        }
      ],
      "source": [
        "print(\"Ridge Plot- RMSE(test data) vs Lambda\")\n",
        "#plt.plot(ridge_train_err, lambda_vals_list, 'r--', t, t**2, 'bs', t, t**3, 'g^')\n",
        "plt.plot( lambda_vals_list,ridge_test_err, 'ro')\n",
        "plt.ylabel(\"RMSE(test data)\")\n",
        "plt.xlabel(\"Lambda\")\n",
        "plt.title(\"Ridge Plot- RMSE(test data) vs Lambda\")\n",
        "#plt.xscale(\"log\")\n",
        "plt.xscale(\"log\")\n",
        "#plt.legend()\n",
        "\n",
        "plt.show()"
      ]
    },
    {
      "cell_type": "markdown",
      "source": [
        "We can see that the least value of RMSE for Ridge Test error is 0.3693158901938875 at Lambda=1e-05"
      ],
      "metadata": {
        "id": "C5ebixB7pNmH"
      }
    },
    {
      "cell_type": "code",
      "execution_count": 18,
      "metadata": {
        "colab": {
          "base_uri": "https://localhost:8080/",
          "height": 317
        },
        "id": "uxt9M1RPgEiq",
        "outputId": "243e7bef-2c96-482f-acda-782dc38a5c61"
      },
      "outputs": [
        {
          "output_type": "stream",
          "name": "stdout",
          "text": [
            "Lasso Plot- RMSE(train data) vs Lambda\n"
          ]
        },
        {
          "output_type": "display_data",
          "data": {
            "text/plain": [
              "<Figure size 432x288 with 1 Axes>"
            ],
            "image/png": "[encoded data removed]"
          },
          "metadata": {
            "needs_background": "light"
          }
        }
      ],
      "source": [
        "print(\"Lasso Plot- RMSE(train data) vs Lambda\")\n",
        "#plt.plot(ridge_train_err, lambda_vals_list, 'r--', t, t**2, 'bs', t, t**3, 'g^')\n",
        "plt.plot(lambda_vals_list,lasso_train_err,  'ro')\n",
        "plt.ylabel(\"RMSE(train) data)\")\n",
        "plt.xlabel(\"Lambda\")\n",
        "plt.title(\"Lasso Plot- RMSE(train data) vs Lambda\")\n",
        "#plt.xscale(\"log\")\n",
        "plt.xscale(\"log\")\n",
        "#plt.legend()\n",
        "plt.show()"
      ]
    },
    {
      "cell_type": "markdown",
      "source": [
        "We can see that the least value of RMSE for Lasso Train error is 0.0029901096379031755 at Lambda=1e-05"
      ],
      "metadata": {
        "id": "iPL9xcvypuNN"
      }
    },
    {
      "cell_type": "code",
      "execution_count": 19,
      "metadata": {
        "colab": {
          "base_uri": "https://localhost:8080/",
          "height": 317
        },
        "id": "zhuGu3j5gEiq",
        "outputId": "585c5645-9c6b-4a76-b627-463d6fa0811f"
      },
      "outputs": [
        {
          "output_type": "stream",
          "name": "stdout",
          "text": [
            "Lasso Plot- RMSE(test data) vs Lambda\n"
          ]
        },
        {
          "output_type": "display_data",
          "data": {
            "text/plain": [
              "<Figure size 432x288 with 1 Axes>"
            ],
            "image/png": "[encoded data removed]"
          },
          "metadata": {
            "needs_background": "light"
          }
        }
      ],
      "source": [
        "print(\"Lasso Plot- RMSE(test data) vs Lambda\")\n",
        "#plt.plot(ridge_train_err, lambda_vals_list, 'r--', t, t**2, 'bs', t, t**3, 'g^')\n",
        "plt.plot(lambda_vals_list,lasso_test_err,  'ro')\n",
        "plt.ylabel(\"RMSE(test data)\")\n",
        "plt.xlabel(\"Lambda\")\n",
        "plt.title(\"Lasso Plot- RMSE(test data) vs Lambda\")\n",
        "#plt.xscale(\"log\")\n",
        "plt.xscale(\"log\")\n",
        "#plt.legend()\n",
        "plt.show()"
      ]
    },
    {
      "cell_type": "markdown",
      "source": [
        "We can see that the least value of RMSE for Lasso Test error is 0.36866048420636616 at Lambda=0.1"
      ],
      "metadata": {
        "id": "8ydYvSHHp_vA"
      }
    },
    {
      "cell_type": "markdown",
      "source": [
        "**Overall Comparison for Lowest Error(RMSE) with the best value of Lambda**\n",
        "\n",
        "We can see that the least value of RMSE for Ridge Train error is 0.34334338202369247 at Lambda=1e-05\n",
        "\n",
        "\n",
        "---\n",
        "\n",
        "\n",
        "We can see that the least value of RMSE for Ridge Test error is 0.3693158901938875 at Lambda=1e-05\n",
        "\n",
        "\n",
        "---\n",
        "\n",
        "\n",
        "We can see that the least value of RMSE for Lasso Train error is 0.0029901096379031755 at Lambda=1e-05\n",
        "\n",
        "\n",
        "---\n",
        "\n",
        "\n",
        "We can see that the least value of RMSE for Lasso Test error is 0.36866048420636616 at Lambda=0.1"
      ],
      "metadata": {
        "id": "C908xLm5t7Jk"
      }
    },
    {
      "cell_type": "markdown",
      "source": [
        "**Overall Discussion on RMSE(error curve) vs lambda for Ridge and Lasso**\n",
        "\n",
        "We can see, as the value of Lambda increases, the RMSE values for both methods also increase. However, Ridge regression seems to have a smoother increase in RMSE values as Lambda increases, while Lasso regression has a more abrupt increase. This suggests that Ridge regression may be more robust to overfitting, while Lasso regression may be more prone to overfitting."
      ],
      "metadata": {
        "id": "upM7WWXEq98Q"
      }
    },
    {
      "cell_type": "code",
      "execution_count": 20,
      "metadata": {
        "colab": {
          "base_uri": "https://localhost:8080/",
          "height": 372
        },
        "id": "xUs9cDCHgEiq",
        "outputId": "f75f7994-5379-443d-a872-6db59202278e"
      },
      "outputs": [
        {
          "output_type": "stream",
          "name": "stdout",
          "text": [
            "ridge non zero array:\n",
            "[150348, 150348, 150348, 150348, 150348, 150348, 150348, 150348, 150348, 150348, 150234, 150345]\n",
            "----------------------------------------------------------------------\n",
            "Ridge Plot- Non-zero solution in w vs Lambda\n"
          ]
        },
        {
          "output_type": "display_data",
          "data": {
            "text/plain": [
              "<Figure size 432x288 with 1 Axes>"
            ],
            "image/png": "[encoded data removed]"
          },
          "metadata": {
            "needs_background": "light"
          }
        }
      ],
      "source": [
        "print(\"ridge non zero array:\")\n",
        "print(ridge_nonzero)\n",
        "print(\"----------------------------------------------------------------------\")\n",
        "\n",
        "print(\"Ridge Plot- Non-zero solution in w vs Lambda\")\n",
        "#plt.plot(ridge_train_err, lambda_vals_list, 'r--', t, t**2, 'bs', t, t**3, 'g^')\n",
        "plt.plot(lambda_vals_list,ridge_nonzero,  'ro')\n",
        "plt.ylabel(\"Non-zero solution in w\")\n",
        "plt.xlabel(\"Lambda\")\n",
        "plt.title(\"Ridge Plot- Non-zero solution in w vs Lambda\")\n",
        "#plt.xscale(\"log\")\n",
        "plt.xscale(\"log\")\n",
        "#plt.legend()\n",
        "plt.show()"
      ]
    },
    {
      "cell_type": "code",
      "execution_count": 21,
      "metadata": {
        "scrolled": true,
        "colab": {
          "base_uri": "https://localhost:8080/",
          "height": 372
        },
        "id": "BKWYmMiBgEir",
        "outputId": "8ca7db76-1337-4b5a-fc11-28dd01c033c4"
      },
      "outputs": [
        {
          "output_type": "stream",
          "name": "stdout",
          "text": [
            "lasso non zero array:\n",
            "[0, 27379, 11259, 3060, 102, 1, 1, 1, 1, 0, 0, 0]\n",
            "----------------------------------------------------------------------\n",
            "Lasso Plot- Non-zero solution in w vs Lambda\n"
          ]
        },
        {
          "output_type": "display_data",
          "data": {
            "text/plain": [
              "<Figure size 432x288 with 1 Axes>"
            ],
            "image/png": "[encoded data removed]"
          },
          "metadata": {
            "needs_background": "light"
          }
        }
      ],
      "source": [
        "print(\"lasso non zero array:\")\n",
        "print(lasso_nonzero)\n",
        "print(\"----------------------------------------------------------------------\")\n",
        "\n",
        "print(\"Lasso Plot- Non-zero solution in w vs Lambda\")\n",
        "#plt.plot(ridge_train_err, lambda_vals_list, 'r--', t, t**2, 'bs', t, t**3, 'g^')\n",
        "plt.plot( lambda_vals_list,lasso_nonzero, 'ro')\n",
        "plt.ylabel(\"Non-zero solution in w\")\n",
        "plt.xlabel(\"Lambda\")\n",
        "plt.title(\"Lasso Plot- Non-zero solution in w vs Lambda\")\n",
        "#plt.xscale(\"log\")\n",
        "plt.xscale(\"log\")\n",
        "#plt.legend()\n",
        "plt.show()"
      ]
    },
    {
      "cell_type": "markdown",
      "source": [
        "**Discussion on number of non-zero weights vs lambda for lasso and ridge**\n",
        "\n",
        "As we can see, as lambda increases, the number of non-zero terms decreases for both Lasso and Ridge regression (even though Ridge shows more stable and little dicreases at points). However, Lasso regression is more likely to set coefficients exactly to zero, resulting in a larger drop in the number of non-zero terms for Lasso regression compared to Ridge regression.\n",
        "\n",
        "Overall, this plot can be helpful in understanding the trade-off between model complexity and regularization strength for both Lasso and Ridge regression. A higher value of λ will result in a simpler model with fewer non-zero terms, but may also lead to higher bias (i.e., underfitting). Conversely, a lower value of λ will result in a more complex model with more non-zero terms, but may also lead to higher variance (i.e., overfitting)."
      ],
      "metadata": {
        "id": "J9H3k84Ir8Kk"
      }
    },
    {
      "cell_type": "code",
      "execution_count": 22,
      "metadata": {
        "colab": {
          "base_uri": "https://localhost:8080/",
          "height": 392
        },
        "id": "pE3_yjNHgEir",
        "outputId": "0cc7ff28-40a5-4255-c0a7-a8dc67123686"
      },
      "outputs": [
        {
          "output_type": "stream",
          "name": "stdout",
          "text": [
            "ridge l2 norm:\n",
            "[69.96172595214044, 70.07125168297782, 68.2410751497113, 55.73481341341398, 20.541889726697935, 3.2170244253720237, 0.9234693428038793, 0.846075953054323, 0.73104911960801, 0.3114545756180977, 0.04614647838442532, 0.004849921089159851]\n",
            "----------------------------------------------------------------------\n",
            "Ridge Plot-L2 Norm of w vs Lambda\n"
          ]
        },
        {
          "output_type": "display_data",
          "data": {
            "text/plain": [
              "<Figure size 432x288 with 1 Axes>"
            ],
            "image/png": "[encoded data removed]"
          },
          "metadata": {
            "needs_background": "light"
          }
        }
      ],
      "source": [
        "print(\"ridge l2 norm:\")\n",
        "print(ridge_l2_norm)\n",
        "print(\"----------------------------------------------------------------------\")\n",
        "\n",
        "print(\"Ridge Plot-L2 Norm of w vs Lambda\")\n",
        "#plt.plot(ridge_train_err, lambda_vals_list, 'r--', t, t**2, 'bs', t, t**3, 'g^')\n",
        "plt.plot(lambda_vals_list,ridge_l2_norm,  'ro')\n",
        "plt.ylabel(\"L2 Norm of w\")\n",
        "plt.xlabel(\"Lambda\")\n",
        "plt.title(\"Ridge Plot- L2 Norm of w vs Lambda\")\n",
        "#plt.xscale(\"log\")\n",
        "plt.xscale(\"log\")\n",
        "#plt.legend()\n",
        "plt.show()"
      ]
    },
    {
      "cell_type": "code",
      "execution_count": 23,
      "metadata": {
        "colab": {
          "base_uri": "https://localhost:8080/",
          "height": 372
        },
        "id": "84tk0IC0gEir",
        "outputId": "f6456bca-7afc-45a4-addd-96ca7d0894f6"
      },
      "outputs": [
        {
          "output_type": "stream",
          "name": "stdout",
          "text": [
            "lasso l2 norm:\n",
            "[0, 7681.285067717054, 3692.2695793848065, 778.5489101524644, 76.6796635074215, 0.8627086158709848, 0.8611149125657082, 0.8451778795129439, 0.6858075489852984, 0.0, 0.0, 0.0]\n",
            "----------------------------------------------------------------------\n",
            "lasso Plot-L2 Norm of w vs Lambda\n"
          ]
        },
        {
          "output_type": "display_data",
          "data": {
            "text/plain": [
              "<Figure size 432x288 with 1 Axes>"
            ],
            "image/png": "[encoded data removed]"
          },
          "metadata": {
            "needs_background": "light"
          }
        }
      ],
      "source": [
        "print(\"lasso l2 norm:\")\n",
        "print(lasso_l2_norm)\n",
        "print(\"----------------------------------------------------------------------\")\n",
        "\n",
        "print(\"lasso Plot-L2 Norm of w vs Lambda\")\n",
        "#plt.plot(ridge_train_err, lambda_vals_list, 'r--', t, t**2, 'bs', t, t**3, 'g^')\n",
        "plt.plot(lambda_vals_list,lasso_l2_norm,  'ro')\n",
        "plt.ylabel(\"L2 Norm of w\")\n",
        "plt.xlabel(\"Lambda\")\n",
        "plt.title(\"lasso Plot- L2 Norm of w vs Lambda\")\n",
        "#plt.xscale(\"log\")\n",
        "plt.xscale(\"log\")\n",
        "#plt.legend()\n",
        "plt.show()"
      ]
    },
    {
      "cell_type": "markdown",
      "source": [
        "**Discussion on L2 norm of w vs lambda for Lasso and ridge**\n",
        "\n",
        "As we can see, as the value of lambda increases, the L2 norm of the weight vector decreases for both Lasso and Ridge regression. However, Lasso regression tends to drive the weight vector to exactly zero, resulting in a sharper decrease in the L2 norm compared to Ridge regression.\n",
        "\n",
        "Overall, this plot can be helpful in understanding how the regularization parameter affects the magnitude of the weight vector for both Lasso and Ridge regression. A higher value of lambda will result in a simpler model with smaller weight vectors, but may also lead to higher bias (i.e., underfitting). Conversely, a lower value of lambda will result in a more complex model with larger weight vectors, but may also lead to higher variance (i.e., overfitting)."
      ],
      "metadata": {
        "id": "D9NPflnithkq"
      }
    },
    {
      "cell_type": "markdown",
      "source": [
        "**QUESTION 4 -PART 3 **"
      ],
      "metadata": {
        "id": "BWwwhRjjvHW_"
      }
    },
    {
      "cell_type": "code",
      "execution_count": 16,
      "metadata": {
        "colab": {
          "base_uri": "https://localhost:8080/"
        },
        "id": "IqA5WTbEgEir",
        "outputId": "64d78d58-ac28-458c-fb23-1cdea75db8fa"
      },
      "outputs": [
        {
          "output_type": "stream",
          "name": "stdout",
          "text": [
            "0.01\n"
          ]
        }
      ],
      "source": [
        "#question 4- part 3\n",
        "\n",
        "from sklearn.linear_model import RidgeCV\n",
        "\n",
        "Ridge_regressor = RidgeCV(alphas=lambda_vals_list, cv=5)#.fit(X_train, y_train)\n",
        "Ridge_regressor.fit(X_train, y_train)\n",
        "#cv_mse = np.mean(regressor.cv_values_, axis=0)\n",
        "\n",
        "# Best alpha\n",
        "print(Ridge_regressor.alpha_)"
      ]
    },
    {
      "cell_type": "code",
      "source": [
        "Ridge_regressor_best_model = RidgeCV(alphas= [Ridge_regressor.alpha_], cv = 5).fit(X_train, y_train)\n",
        "y_test_predicted_Ridgecv = Ridge_regressor_best_model.predict(X_test)\n",
        "RMSE_Ridge_regressor_best_model = np.sqrt(mean_squared_error(y_test, y_test_predicted_Ridgecv))\n",
        "print(\"Best lambda = {} and RMSE for test data on Ridge is {}\".format(Ridge_regressor.alpha_, RMSE_Ridge_regressor_best_model))"
      ],
      "metadata": {
        "colab": {
          "base_uri": "https://localhost:8080/"
        },
        "id": "omgIDlkbQEXe",
        "outputId": "870ebfdc-048b-4dd2-bb97-7c0d2a3a0865"
      },
      "execution_count": 18,
      "outputs": [
        {
          "output_type": "stream",
          "name": "stdout",
          "text": [
            "Best lambda = 0.01 and RMSE for test data on Ridge is 0.368049852469026\n"
          ]
        }
      ]
    },
    {
      "cell_type": "code",
      "execution_count": 5,
      "metadata": {
        "colab": {
          "base_uri": "https://localhost:8080/"
        },
        "id": "NUaUANMJgEis",
        "outputId": "0a163074-026b-4c49-e05f-22fe755602db"
      },
      "outputs": [
        {
          "output_type": "stream",
          "name": "stderr",
          "text": [
            "/usr/local/lib/python3.8/dist-packages/sklearn/linear_model/_coordinate_descent.py:609: ConvergenceWarning: Objective did not converge. You might want to increase the number of iterations. Duality gap: 507.2496643706709, tolerance: 0.5195343159707846\n",
            "  model = cd_fast.sparse_enet_coordinate_descent(\n",
            "/usr/local/lib/python3.8/dist-packages/sklearn/linear_model/_coordinate_descent.py:609: ConvergenceWarning: Objective did not converge. You might want to increase the number of iterations. Duality gap: 186.3485781786198, tolerance: 0.5195343159707846\n",
            "  model = cd_fast.sparse_enet_coordinate_descent(\n",
            "/usr/local/lib/python3.8/dist-packages/sklearn/linear_model/_coordinate_descent.py:609: ConvergenceWarning: Objective did not converge. You might want to increase the number of iterations. Duality gap: 3.634016264381906, tolerance: 0.5195343159707846\n",
            "  model = cd_fast.sparse_enet_coordinate_descent(\n",
            "/usr/local/lib/python3.8/dist-packages/sklearn/linear_model/_coordinate_descent.py:609: ConvergenceWarning: Objective did not converge. You might want to increase the number of iterations. Duality gap: 537.8721525837784, tolerance: 0.5143356582667492\n",
            "  model = cd_fast.sparse_enet_coordinate_descent(\n",
            "/usr/local/lib/python3.8/dist-packages/sklearn/linear_model/_coordinate_descent.py:609: ConvergenceWarning: Objective did not converge. You might want to increase the number of iterations. Duality gap: 189.194939953118, tolerance: 0.5143356582667492\n",
            "  model = cd_fast.sparse_enet_coordinate_descent(\n",
            "/usr/local/lib/python3.8/dist-packages/sklearn/linear_model/_coordinate_descent.py:609: ConvergenceWarning: Objective did not converge. You might want to increase the number of iterations. Duality gap: 3.693053615768556, tolerance: 0.5143356582667492\n",
            "  model = cd_fast.sparse_enet_coordinate_descent(\n",
            "/usr/local/lib/python3.8/dist-packages/sklearn/linear_model/_coordinate_descent.py:609: ConvergenceWarning: Objective did not converge. You might want to increase the number of iterations. Duality gap: 446.8229955023571, tolerance: 0.5138856971978306\n",
            "  model = cd_fast.sparse_enet_coordinate_descent(\n",
            "/usr/local/lib/python3.8/dist-packages/sklearn/linear_model/_coordinate_descent.py:609: ConvergenceWarning: Objective did not converge. You might want to increase the number of iterations. Duality gap: 187.7586762719741, tolerance: 0.5138856971978306\n",
            "  model = cd_fast.sparse_enet_coordinate_descent(\n",
            "/usr/local/lib/python3.8/dist-packages/sklearn/linear_model/_coordinate_descent.py:609: ConvergenceWarning: Objective did not converge. You might want to increase the number of iterations. Duality gap: 3.682709780508461, tolerance: 0.5138856971978306\n",
            "  model = cd_fast.sparse_enet_coordinate_descent(\n",
            "/usr/local/lib/python3.8/dist-packages/sklearn/linear_model/_coordinate_descent.py:609: ConvergenceWarning: Objective did not converge. You might want to increase the number of iterations. Duality gap: 543.9620350544701, tolerance: 0.5134583296419515\n",
            "  model = cd_fast.sparse_enet_coordinate_descent(\n",
            "/usr/local/lib/python3.8/dist-packages/sklearn/linear_model/_coordinate_descent.py:609: ConvergenceWarning: Objective did not converge. You might want to increase the number of iterations. Duality gap: 190.16226749390128, tolerance: 0.5134583296419515\n",
            "  model = cd_fast.sparse_enet_coordinate_descent(\n",
            "/usr/local/lib/python3.8/dist-packages/sklearn/linear_model/_coordinate_descent.py:609: ConvergenceWarning: Objective did not converge. You might want to increase the number of iterations. Duality gap: 3.769900743462501, tolerance: 0.5134583296419515\n",
            "  model = cd_fast.sparse_enet_coordinate_descent(\n",
            "/usr/local/lib/python3.8/dist-packages/sklearn/linear_model/_coordinate_descent.py:609: ConvergenceWarning: Objective did not converge. You might want to increase the number of iterations. Duality gap: 50.218278950687136, tolerance: 0.5111373597689607\n",
            "  model = cd_fast.sparse_enet_coordinate_descent(\n",
            "/usr/local/lib/python3.8/dist-packages/sklearn/linear_model/_coordinate_descent.py:609: ConvergenceWarning: Objective did not converge. You might want to increase the number of iterations. Duality gap: 186.09454074806877, tolerance: 0.5111373597689607\n",
            "  model = cd_fast.sparse_enet_coordinate_descent(\n",
            "/usr/local/lib/python3.8/dist-packages/sklearn/linear_model/_coordinate_descent.py:609: ConvergenceWarning: Objective did not converge. You might want to increase the number of iterations. Duality gap: 3.663669206308301, tolerance: 0.5111373597689607\n",
            "  model = cd_fast.sparse_enet_coordinate_descent(\n"
          ]
        },
        {
          "output_type": "stream",
          "name": "stdout",
          "text": [
            "6.216199415677255e-06\n"
          ]
        }
      ],
      "source": [
        "from sklearn.linear_model import LassoCV\n",
        "\n",
        "newLambdaList = [i / X_train.shape[0] for i in lambda_vals_list]\n",
        "Lasso_regressor = LassoCV(alphas=newLambdaList[1:], max_iter=100, cv=5)#.fit(X_train, y_train)\n",
        "Lasso_regressor.fit(X_train, y_train)\n",
        "#cv_mse = np.mean(regressor.cv_values_, axis=0)\n",
        "\n",
        "# Best alpha\n",
        "print(Lasso_regressor.alpha_)"
      ]
    },
    {
      "cell_type": "code",
      "source": [
        "import numpy as np\n",
        "from sklearn.linear_model import RidgeCV\n",
        "from sklearn.metrics import mean_squared_error"
      ],
      "metadata": {
        "id": "exzj90Ey8-Et"
      },
      "execution_count": 13,
      "outputs": []
    },
    {
      "cell_type": "code",
      "source": [
        "Lasso_regressor_best_model = LassoCV(alphas= [Lasso_regressor.alpha_], cv = 5, max_iter=100).fit(X_train, y_train)\n",
        "y_test_predicted_Lassocv = Lasso_regressor_best_model.predict(X_test)\n",
        "RMSE_Lasso_regressor_best_model = np.sqrt(mean_squared_error(y_test, y_test_predicted_Lassocv))\n",
        "print(\"Best lambda = {} and RMSE for test data on Lasso is {}\".format(Lasso_regressor.alpha_, RMSE_Lasso_regressor_best_model))"
      ],
      "metadata": {
        "colab": {
          "base_uri": "https://localhost:8080/"
        },
        "id": "TiOn0LQL_bxP",
        "outputId": "5a9d1013-eda1-454e-d548-670eb7cf56f5"
      },
      "execution_count": 14,
      "outputs": [
        {
          "output_type": "stream",
          "name": "stdout",
          "text": [
            "Best lambda = 6.216199415677255e-06 and RMSE for test data on Lasso is 0.36866048420636616\n"
          ]
        }
      ]
    }
  ],
  "metadata": {
    "kernelspec": {
      "display_name": "Python 3",
      "language": "python",
      "name": "python3"
    },
    "language_info": {
      "codemirror_mode": {
        "name": "ipython",
        "version": 3
      },
      "file_extension": ".py",
      "mimetype": "text/x-python",
      "name": "python",
      "nbconvert_exporter": "python",
      "pygments_lexer": "ipython3",
      "version": "3.7.0"
    },
    "colab": {
      "provenance": []
    }
  },
  "nbformat": 4,
  "nbformat_minor": 0
}