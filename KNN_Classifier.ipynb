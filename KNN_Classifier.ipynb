{
  "nbformat": 4,
  "nbformat_minor": 0,
  "metadata": {
    "colab": {
      "provenance": []
    },
    "kernelspec": {
      "name": "python3",
      "display_name": "Python 3"
    },
    "language_info": {
      "name": "python"
    }
  },
  "cells": [
    {
      "cell_type": "markdown",
      "source": [
        "# **Problem 1 : kNN Classifier**"
      ],
      "metadata": {
        "id": "NkY8xqptgXub"
      }
    },
    {
      "cell_type": "markdown",
      "source": [
        "To build a k-Nearest Neighbor (kNN) classifier for the heart data set, I have done the given steps:\n",
        "\n",
        "1. Load the trainSet, trainLabels, and \n",
        "testSet data.\n",
        "\n",
        "2. Defined Leave One Out (LOO) model\n",
        "3. For each k from 1 to 10, performed KNN with LOO split, calculated error\n",
        "\n",
        "4. Check the least error and assign that k as the best k\n",
        "\n",
        "5. Predict the labels of test data with the best value of k obtained"
      ],
      "metadata": {
        "id": "VBH3OZo3flIi"
      }
    },
    {
      "cell_type": "code",
      "execution_count": 8,
      "metadata": {
        "colab": {
          "base_uri": "https://localhost:8080/"
        },
        "id": "VpW_huFvZa_e",
        "outputId": "6d305cc2-d08e-4c11-dfdb-e4370851c268"
      },
      "outputs": [
        {
          "output_type": "stream",
          "name": "stdout",
          "text": [
            "Error value for each k:\n",
            "k | error\n",
            "--------------------------\n",
            "0 [0.22633745]\n",
            "1 [0.22633745]\n",
            "2 [0.17283951]\n",
            "3 [0.18518519]\n",
            "4 [0.18106996]\n",
            "5 [0.16460905]\n",
            "6 [0.16872428]\n",
            "7 [0.18106996]\n",
            "8 [0.18106996]\n",
            "9 [0.17695473]\n",
            "\n",
            "Best value of k=5\n",
            "\n",
            "Predicted labels of Xtest:\n",
            "[-1. -1.  1. -1.  1. -1. -1.  1. -1.  1.  1.  1. -1. -1. -1.  1.  1. -1.\n",
            "  1. -1.  1.  1.  1.  1. -1. -1.  1.]\n"
          ]
        }
      ],
      "source": [
        "\n",
        "import numpy as np\n",
        "from sklearn.model_selection import LeaveOneOut\n",
        "from sklearn.neighbors import KNeighborsClassifier\n",
        "\n",
        "# Load the training data and labels\n",
        "X_train = np.loadtxt(\"/content/heart_trainSet.txt\", delimiter=\",\")\n",
        "y_train = np.loadtxt(\"/content/heart_trainLabels.txt\", delimiter=\",\")\n",
        "\n",
        "# Perform Leave-One-Out cross-validation to find the best value of k\n",
        "loo = LeaveOneOut()\n",
        "error_val_for_each_k = []\n",
        "for k in range(1, 11): \n",
        "    model = KNeighborsClassifier(n_neighbors=k)\n",
        "    error = 0\n",
        "    for train_index, test_index in loo.split(X_train):\n",
        "        model.fit(X_train[train_index], y_train[train_index])\n",
        "        y_pred = model.predict(X_train[test_index])\n",
        "        error += y_pred != y_train[test_index]\n",
        "    error_val_for_each_k.append(error / X_train.shape[0])\n",
        "\n",
        "# Find the best value of k\n",
        "min_index = np.argmin(error_val_for_each_k)\n",
        "print(\"Error value for each k:\")\n",
        "print(\"k | error\")\n",
        "print(\"--------------------------\")\n",
        "for index, value in enumerate(error_val_for_each_k):\n",
        "    print(index, value)\n",
        "\n",
        "print()\n",
        "print(\"Best value of k={}\".format(min_index))\n",
        "\n",
        "# Use the best value of k to train the model and make predictions on the test set\n",
        "X_test = np.loadtxt(\"/content/heart_testSet.txt\", delimiter=\",\")\n",
        "knn = KNeighborsClassifier(n_neighbors=(min_index))\n",
        "knn.fit(X_train, y_train)\n",
        "y_pred = knn.predict(X_test)\n",
        "print()\n",
        "print(\"Predicted labels of Xtest:\")\n",
        "print(y_pred)\n",
        "\n",
        "\n"
      ]
    }
  ]
}