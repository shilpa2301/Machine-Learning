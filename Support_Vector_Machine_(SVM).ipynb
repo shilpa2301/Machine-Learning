{
  "nbformat": 4,
  "nbformat_minor": 0,
  "metadata": {
    "colab": {
      "provenance": []
    },
    "kernelspec": {
      "name": "python3",
      "display_name": "Python 3"
    },
    "language_info": {
      "name": "python"
    }
  },
  "cells": [
    {
      "cell_type": "code",
      "execution_count": 1,
      "metadata": {
        "colab": {
          "base_uri": "https://localhost:8080/"
        },
        "id": "Y0HpsVFkdC4S",
        "outputId": "ac58e95a-4fb1-477c-c89a-507a5dba0c36"
      },
      "outputs": [
        {
          "output_type": "stream",
          "name": "stdout",
          "text": [
            "Looking in indexes: https://pypi.org/simple, https://us-python.pkg.dev/colab-wheels/public/simple/\n",
            "Collecting libsvm-official\n",
            "  Downloading libsvm-official-3.31.0.tar.gz (39 kB)\n",
            "  Preparing metadata (setup.py) ... \u001b[?25l\u001b[?25hdone\n",
            "Requirement already satisfied: scipy in /usr/local/lib/python3.10/dist-packages (from libsvm-official) (1.10.1)\n",
            "Requirement already satisfied: numpy<1.27.0,>=1.19.5 in /usr/local/lib/python3.10/dist-packages (from scipy->libsvm-official) (1.22.4)\n",
            "Building wheels for collected packages: libsvm-official\n",
            "  Building wheel for libsvm-official (setup.py) ... \u001b[?25l\u001b[?25hdone\n",
            "  Created wheel for libsvm-official: filename=libsvm_official-3.31.0-cp310-cp310-linux_x86_64.whl size=125912 sha256=d92b27664d1e6c4df4f8eaea4c2ffbd3801a82ad3e989347b9bc5107f6bb80e5\n",
            "  Stored in directory: /root/.cache/pip/wheels/93/04/ec/306a03478d811cf83c10665ca5e60231f47360a367e06d94d0\n",
            "Successfully built libsvm-official\n",
            "Installing collected packages: libsvm-official\n",
            "Successfully installed libsvm-official-3.31.0\n",
            "Looking in indexes: https://pypi.org/simple, https://us-python.pkg.dev/colab-wheels/public/simple/\n",
            "Collecting liblinear-official\n",
            "  Downloading liblinear-official-2.46.1.tar.gz (46 kB)\n",
            "\u001b[2K     \u001b[90m━━━━━━━━━━━━━━━━━━━━━━━━━━━━━━━━━━━━━━━━\u001b[0m \u001b[32m46.9/46.9 kB\u001b[0m \u001b[31m2.3 MB/s\u001b[0m eta \u001b[36m0:00:00\u001b[0m\n",
            "\u001b[?25h  Preparing metadata (setup.py) ... \u001b[?25l\u001b[?25hdone\n",
            "Requirement already satisfied: scipy in /usr/local/lib/python3.10/dist-packages (from liblinear-official) (1.10.1)\n",
            "Requirement already satisfied: numpy<1.27.0,>=1.19.5 in /usr/local/lib/python3.10/dist-packages (from scipy->liblinear-official) (1.22.4)\n",
            "Building wheels for collected packages: liblinear-official\n",
            "  Building wheel for liblinear-official (setup.py) ... \u001b[?25l\u001b[?25hdone\n",
            "  Created wheel for liblinear-official: filename=liblinear_official-2.46.1-cp310-cp310-linux_x86_64.whl size=146571 sha256=39cbd0c9d368069628ec46c09a5cad70d304e82f6b135766a8a6bdee30648380\n",
            "  Stored in directory: /root/.cache/pip/wheels/d1/c4/f5/0f9664e5a5484cfe73e265aaa8eb83d8d51342760c979cb846\n",
            "Successfully built liblinear-official\n",
            "Installing collected packages: liblinear-official\n",
            "Successfully installed liblinear-official-2.46.1\n"
          ]
        }
      ],
      "source": [
        "!pip install -U libsvm-official\n",
        "!pip install -U liblinear-official"
      ]
    },
    {
      "cell_type": "code",
      "source": [
        "import numpy as np\n",
        "#from sklearn.datasets import load_breast_cancer\n",
        "from sklearn.preprocessing import StandardScaler\n",
        "from sklearn.metrics import accuracy_score\n",
        "from sklearn.model_selection import train_test_split\n",
        "from liblinear.liblinearutil import *\n",
        "import pandas as pd"
      ],
      "metadata": {
        "id": "N8vo3BANegn4"
      },
      "execution_count": 2,
      "outputs": []
    },
    {
      "cell_type": "code",
      "source": [
        "total_data=pd.read_csv(\"/content/breast-cancer_scale.txt\", header=None, sep=\"[: ]+\")\n",
        "print(\"loaded data:\")\n",
        "print(total_data)\n",
        "print()\n",
        "\n",
        "total_data = total_data.iloc[:, ::2]\n",
        "total_data.columns = range(total_data.shape[1])\n",
        "print(\"modified data:\")\n",
        "print(total_data)\n",
        "print()\n",
        "\n",
        "train_indices = pd.read_csv(\"/content/breast-cancer-scale-train-indices.txt\",header=None)\n",
        "test_indices = pd.read_csv(\"/content/breast-cancer-scale-test-indices.txt\",header=None)\n",
        "\n",
        "# Select rows from data based on train_indices\n",
        "train_data = total_data[total_data.index.isin(train_indices[0].values)]\n",
        "# Select rows from data based on test_indices\n",
        "test_data = total_data[total_data.index.isin(test_indices[0].values)]\n",
        "print(\"checking train data:\")\n",
        "print(train_data)\n",
        "print()\n",
        "\n",
        "# Split train_data into X_train and y_train\n",
        "X_train = train_data.drop(columns=train_data.columns[0]).values\n",
        "y_train = train_data.iloc[:, 0].values.reshape(-1, 1)\n",
        "\n",
        "# Split test_data into X_test and y_test\n",
        "X_test = test_data.drop(columns=test_data.columns[0]).values\n",
        "y_test = test_data.iloc[:, 0].values.reshape(-1, 1)\n"
      ],
      "metadata": {
        "colab": {
          "base_uri": "https://localhost:8080/"
        },
        "id": "EY6zIwakei8D",
        "outputId": "3b82a1b6-92d3-4bc9-8933-04931f37cf1b"
      },
      "execution_count": 3,
      "outputs": [
        {
          "output_type": "stream",
          "name": "stdout",
          "text": [
            "loaded data:\n",
            "     0   1         2   3         4   5         6   7         8   9   ...  11  \\\n",
            "0     2   1 -0.860107   2 -0.111111   3 -1.000000   4 -1.000000   5  ...   6   \n",
            "1     2   1 -0.859671   2 -0.111111   3 -0.333333   4 -0.333333   5  ...   6   \n",
            "2     2   1 -0.857807   2 -0.555556   3 -1.000000   4 -1.000000   5  ...   6   \n",
            "3     2   1 -0.857680   2  0.111111   3  0.555556   4  0.555556   5  ...   6   \n",
            "4     2   1 -0.857569   2 -0.333333   3 -1.000000   4 -1.000000   5  ...   6   \n",
            "..   ..  ..       ...  ..       ...  ..       ...  ..       ...  ..  ...  ..   \n",
            "678   2   1 -0.893460   2 -0.555556   3 -1.000000   4 -1.000000   5  ...   6   \n",
            "679   2   1 -0.883744   2 -0.777778   3 -1.000000   4 -1.000000   5  ...   6   \n",
            "680   4   1 -0.876716   2 -0.111111   3  1.000000   4  1.000000   5  ...   6   \n",
            "681   4   1 -0.875424   2 -0.333333   3  0.555556   4  0.111111   5  ...   6   \n",
            "682   4   1 -0.875424   2 -0.333333   3  0.555556   4  0.555556   5  ...   6   \n",
            "\n",
            "           12  13        14  15        16  17        18  19        20  \n",
            "0   -0.777778   7 -1.000000   8 -0.555556   9 -1.000000  10 -1.000000  \n",
            "1    0.333333   7  1.000000   8 -0.555556   9 -0.777778  10 -1.000000  \n",
            "2   -0.777778   7 -0.777778   8 -0.555556   9 -1.000000  10 -1.000000  \n",
            "3   -0.555556   7 -0.333333   8 -0.555556   9  0.333333  10 -1.000000  \n",
            "4   -0.777778   7 -1.000000   8 -0.555556   9 -1.000000  10 -1.000000  \n",
            "..        ...  ..       ...  ..       ...  ..       ...  ..       ...  \n",
            "678 -0.555556   7 -0.777778   8 -1.000000   9 -1.000000  10 -1.000000  \n",
            "679 -0.777778   7 -1.000000   8 -1.000000   9 -1.000000  10 -1.000000  \n",
            "680  0.333333   7 -0.555556   8  0.555556   9  1.000000  10 -0.777778  \n",
            "681 -0.555556   7 -0.333333   8  1.000000   9  0.111111  10 -1.000000  \n",
            "682 -0.333333   7 -0.111111   8  1.000000   9 -0.333333  10 -1.000000  \n",
            "\n",
            "[683 rows x 21 columns]\n",
            "\n",
            "modified data:\n",
            "     0         1         2         3         4         5         6         7   \\\n",
            "0     2 -0.860107 -0.111111 -1.000000 -1.000000 -1.000000 -0.777778 -1.000000   \n",
            "1     2 -0.859671 -0.111111 -0.333333 -0.333333 -0.111111  0.333333  1.000000   \n",
            "2     2 -0.857807 -0.555556 -1.000000 -1.000000 -1.000000 -0.777778 -0.777778   \n",
            "3     2 -0.857680  0.111111  0.555556  0.555556 -1.000000 -0.555556 -0.333333   \n",
            "4     2 -0.857569 -0.333333 -1.000000 -1.000000 -0.555556 -0.777778 -1.000000   \n",
            "..   ..       ...       ...       ...       ...       ...       ...       ...   \n",
            "678   2 -0.893460 -0.555556 -1.000000 -1.000000 -1.000000 -0.555556 -0.777778   \n",
            "679   2 -0.883744 -0.777778 -1.000000 -1.000000 -1.000000 -0.777778 -1.000000   \n",
            "680   4 -0.876716 -0.111111  1.000000  1.000000 -0.555556  0.333333 -0.555556   \n",
            "681   4 -0.875424 -0.333333  0.555556  0.111111 -0.333333 -0.555556 -0.333333   \n",
            "682   4 -0.875424 -0.333333  0.555556  0.555556 -0.111111 -0.333333 -0.111111   \n",
            "\n",
            "           8         9         10  \n",
            "0   -0.555556 -1.000000 -1.000000  \n",
            "1   -0.555556 -0.777778 -1.000000  \n",
            "2   -0.555556 -1.000000 -1.000000  \n",
            "3   -0.555556  0.333333 -1.000000  \n",
            "4   -0.555556 -1.000000 -1.000000  \n",
            "..        ...       ...       ...  \n",
            "678 -1.000000 -1.000000 -1.000000  \n",
            "679 -1.000000 -1.000000 -1.000000  \n",
            "680  0.555556  1.000000 -0.777778  \n",
            "681  1.000000  0.111111 -1.000000  \n",
            "682  1.000000 -0.333333 -1.000000  \n",
            "\n",
            "[683 rows x 11 columns]\n",
            "\n",
            "checking train data:\n",
            "     0         1         2         3         4         5         6         7   \\\n",
            "3     2 -0.857680  0.111111  0.555556  0.555556 -1.000000 -0.555556 -0.333333   \n",
            "5     4 -0.857554  0.555556  1.000000  1.000000  0.555556  0.333333  1.000000   \n",
            "6     2 -0.857408 -1.000000 -1.000000 -1.000000 -1.000000 -0.777778  1.000000   \n",
            "7     2 -0.857339 -0.777778 -1.000000 -0.777778 -1.000000 -0.777778 -1.000000   \n",
            "8     2 -0.855171 -0.777778 -1.000000 -1.000000 -1.000000 -0.777778 -1.000000   \n",
            "..   ..       ...       ...       ...       ...       ...       ...       ...   \n",
            "675   4 -0.905650 -0.111111  1.000000  1.000000 -0.111111 -0.333333 -0.111111   \n",
            "676   2 -0.902821 -0.555556 -1.000000 -1.000000 -1.000000 -0.777778 -1.000000   \n",
            "677   2 -0.895473 -0.555556 -1.000000 -1.000000 -1.000000 -0.777778 -1.000000   \n",
            "678   2 -0.893460 -0.555556 -1.000000 -1.000000 -1.000000 -0.555556 -0.777778   \n",
            "682   4 -0.875424 -0.333333  0.555556  0.555556 -0.111111 -0.333333 -0.111111   \n",
            "\n",
            "           8         9         10  \n",
            "3   -0.555556  0.333333 -1.000000  \n",
            "5    0.777778  0.333333 -1.000000  \n",
            "6   -0.555556 -1.000000 -1.000000  \n",
            "7   -0.555556 -1.000000 -1.000000  \n",
            "8   -1.000000 -1.000000 -0.111111  \n",
            "..        ...       ...       ...  \n",
            "675 -0.333333 -0.333333 -1.000000  \n",
            "676 -1.000000 -1.000000 -1.000000  \n",
            "677 -0.777778 -1.000000 -0.777778  \n",
            "678 -1.000000 -1.000000 -1.000000  \n",
            "682  1.000000 -0.333333 -1.000000  \n",
            "\n",
            "[500 rows x 11 columns]\n",
            "\n"
          ]
        },
        {
          "output_type": "stream",
          "name": "stderr",
          "text": [
            "<ipython-input-3-24068a0e20f7>:1: ParserWarning: Falling back to the 'python' engine because the 'c' engine does not support regex separators (separators > 1 char and different from '\\s+' are interpreted as regex); you can avoid this warning by specifying engine='python'.\n",
            "  total_data=pd.read_csv(\"/content/breast-cancer_scale.txt\", header=None, sep=\"[: ]+\")\n"
          ]
        }
      ]
    },
    {
      "cell_type": "markdown",
      "source": [
        "# **Logictic Regression**"
      ],
      "metadata": {
        "id": "lSYn0ECGfTki"
      }
    },
    {
      "cell_type": "code",
      "source": [
        "C_list = [0.1, 1.0, 10.0, 100.0, 1000.0]\n",
        "Cross_Validation_accuracy=[]\n",
        "for c in C_list:\n",
        "    print(f\"Training C={c}\")\n",
        "    params = f\"-c {c} -s 0 -v 5\"\n",
        "    train_acc=train(y_train.ravel(), X_train, params)\n",
        "    Cross_Validation_accuracy.append(train_acc)\n",
        "    print(\"Training Error=\", 100-train_acc)\n",
        "    print()\n",
        "\n",
        "print(\"Best accuracy = \",max(Cross_Validation_accuracy), \"%\")\n",
        "best_c_val=C_list[Cross_Validation_accuracy.index(max(Cross_Validation_accuracy))]\n",
        "print(\"Best C value = \",best_c_val)\n",
        "\n",
        "model = train(y_train.ravel(), X_train, f'-c {best_c_val} -s 0')\n",
        "y_pred, metrics, _ = predict(y_test.ravel(), X_test, model)"
      ],
      "metadata": {
        "colab": {
          "base_uri": "https://localhost:8080/"
        },
        "id": "JK45NIcVfS6g",
        "outputId": "9d7f1ece-103e-4af9-d593-c082cce6bc4f"
      },
      "execution_count": 4,
      "outputs": [
        {
          "output_type": "stream",
          "name": "stdout",
          "text": [
            "Training C=0.1\n",
            "Cross Validation Accuracy = 95.8%\n",
            "Training Error= 4.200000000000003\n",
            "\n",
            "Training C=1.0\n",
            "Cross Validation Accuracy = 96.6%\n",
            "Training Error= 3.4000000000000057\n",
            "\n",
            "Training C=10.0\n",
            "Cross Validation Accuracy = 96.6%\n",
            "Training Error= 3.4000000000000057\n",
            "\n",
            "Training C=100.0\n",
            "Cross Validation Accuracy = 96.8%\n",
            "Training Error= 3.200000000000003\n",
            "\n",
            "Training C=1000.0\n",
            "Cross Validation Accuracy = 97%\n",
            "Training Error= 3.0\n",
            "\n",
            "Best accuracy =  97.0 %\n",
            "Best C value =  1000.0\n",
            "Accuracy = 95.6044% (174/182) (classification)\n"
          ]
        }
      ]
    },
    {
      "cell_type": "code",
      "source": [
        "print(\"Error Rate for Logistic Regression=\",100-metrics[0])"
      ],
      "metadata": {
        "colab": {
          "base_uri": "https://localhost:8080/"
        },
        "id": "rp-Kxn1lmUGf",
        "outputId": "440392bc-db35-4677-d5e5-eb56e8b3f0a7"
      },
      "execution_count": 5,
      "outputs": [
        {
          "output_type": "stream",
          "name": "stdout",
          "text": [
            "Error Rate for Logistic Regression= 4.395604395604394\n"
          ]
        }
      ]
    },
    {
      "cell_type": "markdown",
      "source": [
        "# **Linear SVM**\n"
      ],
      "metadata": {
        "id": "FWZHHUR8f2NW"
      }
    },
    {
      "cell_type": "code",
      "source": [
        "from libsvm.svmutil import *\n",
        "import pandas as pd\n",
        "import numpy as np\n",
        "from sklearn.model_selection import train_test_split"
      ],
      "metadata": {
        "id": "8oVPVaAnf-S1"
      },
      "execution_count": 6,
      "outputs": []
    },
    {
      "cell_type": "code",
      "source": [
        "C_list = [0.1, 1.0, 10.0, 100.0, 1000.0]\n",
        "Cross_Validation_accuracy=[]\n",
        "for c in C_list:\n",
        "    print(f\"Training C={c}\")\n",
        "    params = f\"-c {c} -s 3 -v 5\"\n",
        "    train_acc=train(y_train.ravel(), X_train, params)\n",
        "    Cross_Validation_accuracy.append(train_acc)\n",
        "    print(\"Training Error=\", 100-train_acc)\n",
        "    print()\n",
        "\n",
        "print(\"Best Accuracy = \",max(Cross_Validation_accuracy), \"%\")\n",
        "best_c_val=C_list[Cross_Validation_accuracy.index(max(Cross_Validation_accuracy))]\n",
        "print(\"Best C value = \",best_c_val)\n",
        "\n",
        "model = train(y_train.ravel(), X_train, f'-c {best_c_val} -s 3')\n",
        "y_pred, metrics, _ = predict(y_test.ravel(), X_test, model)"
      ],
      "metadata": {
        "colab": {
          "base_uri": "https://localhost:8080/"
        },
        "id": "OR2CUqxqgI3j",
        "outputId": "c33a16b8-7763-41f2-c112-ab4179c55f68"
      },
      "execution_count": 11,
      "outputs": [
        {
          "output_type": "stream",
          "name": "stdout",
          "text": [
            "Training C=0.1\n",
            "Cross Validation Accuracy = 96.4%\n",
            "Training Error= 3.6000000000000085\n",
            "\n",
            "Training C=1.0\n",
            "Cross Validation Accuracy = 97.4%\n",
            "Training Error= 2.6000000000000085\n",
            "\n",
            "Training C=10.0\n",
            "Cross Validation Accuracy = 97%\n",
            "Training Error= 3.0\n",
            "\n",
            "Training C=100.0\n",
            "Cross Validation Accuracy = 96.8%\n",
            "Training Error= 3.200000000000003\n",
            "\n",
            "Training C=1000.0\n",
            "Cross Validation Accuracy = 89%\n",
            "Training Error= 11.0\n",
            "\n",
            "Best Accuracy =  97.39999999999999 %\n",
            "Best C value =  1.0\n",
            "Accuracy = 96.1538% (175/182) (classification)\n"
          ]
        }
      ]
    },
    {
      "cell_type": "code",
      "source": [
        "print(\"Error Rate for Linear SVM=\",100-metrics[0])"
      ],
      "metadata": {
        "colab": {
          "base_uri": "https://localhost:8080/"
        },
        "id": "5HallKqvmwgH",
        "outputId": "89d85b5a-c597-4bb2-9c08-18fcc7f88aef"
      },
      "execution_count": 12,
      "outputs": [
        {
          "output_type": "stream",
          "name": "stdout",
          "text": [
            "Error Rate for Linear SVM= 3.8461538461538396\n"
          ]
        }
      ]
    },
    {
      "cell_type": "markdown",
      "source": [
        "# **Kernel SVM**"
      ],
      "metadata": {
        "id": "0arOm2_6f5gf"
      }
    },
    {
      "cell_type": "markdown",
      "source": [
        "**Polynomial Kernel**"
      ],
      "metadata": {
        "id": "Wre28XprigCh"
      }
    },
    {
      "cell_type": "code",
      "source": [
        "C_list = [0.1, 1.0, 10.0, 100.0, 1000.0]\n",
        "Cross_Validation_accuracy=[]\n",
        "for c in C_list:\n",
        "    print(f\"Training C={c}\")\n",
        "    params = f\"-t 1 -c {c} -s 0 -v 5\"\n",
        "    train_acc=svm_train(y_train.ravel(), X_train, params)\n",
        "    Cross_Validation_accuracy.append(train_acc)\n",
        "    print(\"Training Error=\", 100-train_acc)\n",
        "    print()\n",
        "\n",
        "print(\"Best Accuracy = \",max(Cross_Validation_accuracy), \"%\")\n",
        "best_c_val=C_list[Cross_Validation_accuracy.index(max(Cross_Validation_accuracy))]\n",
        "print(\"Best C value = \",best_c_val)\n",
        "\n",
        "model = svm_train(y_train.ravel(), X_train, f'-t 1 -c {best_c_val} -s 0')\n",
        "y_pred, metrics, _ = svm_predict(y_test.ravel(), X_test, model)"
      ],
      "metadata": {
        "colab": {
          "base_uri": "https://localhost:8080/"
        },
        "id": "K8Sd_ESviigE",
        "outputId": "fa8e53d2-8840-4192-d2e5-1031c97ef4f1"
      },
      "execution_count": 13,
      "outputs": [
        {
          "output_type": "stream",
          "name": "stdout",
          "text": [
            "Training C=0.1\n",
            "Cross Validation Accuracy = 97%\n",
            "Training Error= 3.0\n",
            "\n",
            "Training C=1.0\n",
            "Cross Validation Accuracy = 97.2%\n",
            "Training Error= 2.799999999999997\n",
            "\n",
            "Training C=10.0\n",
            "Cross Validation Accuracy = 97.2%\n",
            "Training Error= 2.799999999999997\n",
            "\n",
            "Training C=100.0\n",
            "Cross Validation Accuracy = 96%\n",
            "Training Error= 4.0\n",
            "\n",
            "Training C=1000.0\n",
            "Cross Validation Accuracy = 94.6%\n",
            "Training Error= 5.400000000000006\n",
            "\n",
            "Best Accuracy =  97.2 %\n",
            "Best C value =  1.0\n",
            "Accuracy = 97.8022% (178/182) (classification)\n"
          ]
        }
      ]
    },
    {
      "cell_type": "code",
      "source": [
        "print(\"Error Rate for SVM Kernel (Polynomial)=\",100-metrics[0])"
      ],
      "metadata": {
        "colab": {
          "base_uri": "https://localhost:8080/"
        },
        "id": "4l-CuncUm1tb",
        "outputId": "52a7345e-0108-4a98-b534-273d15643967"
      },
      "execution_count": 14,
      "outputs": [
        {
          "output_type": "stream",
          "name": "stdout",
          "text": [
            "Error Rate for SVM Kernel (Polynomial)= 2.197802197802204\n"
          ]
        }
      ]
    },
    {
      "cell_type": "markdown",
      "source": [
        "**RBF Kernel**"
      ],
      "metadata": {
        "id": "MlukTLcgjVnQ"
      }
    },
    {
      "cell_type": "code",
      "source": [
        "C_list = [0.1, 1.0, 10.0, 100.0, 1000.0]\n",
        "Cross_Validation_accuracy=[]\n",
        "for c in C_list:\n",
        "    print(f\"Training C={c}\")\n",
        "    params = f\"-t 2 -c {c} -s 0 -v 5\"\n",
        "    train_acc=svm_train(y_train.ravel(), X_train, params)\n",
        "    Cross_Validation_accuracy.append(train_acc)\n",
        "    print(\"Training Error=\", 100-train_acc)\n",
        "    print()\n",
        "\n",
        "print(\"Best Accuracy = \",max(Cross_Validation_accuracy), \"%\")\n",
        "best_c_val=C_list[Cross_Validation_accuracy.index(max(Cross_Validation_accuracy))]\n",
        "print(\"Best C value = \",best_c_val)\n",
        "\n",
        "model = svm_train(y_train.ravel(), X_train, f'-t 2 -c {best_c_val} -s 0')\n",
        "y_pred, metrics, _ = svm_predict(y_test.ravel(), X_test, model)"
      ],
      "metadata": {
        "colab": {
          "base_uri": "https://localhost:8080/"
        },
        "id": "UaeCjBvejSv4",
        "outputId": "ae3c7dcc-4da3-48d6-e387-b804142151f9"
      },
      "execution_count": 15,
      "outputs": [
        {
          "output_type": "stream",
          "name": "stdout",
          "text": [
            "Training C=0.1\n",
            "Cross Validation Accuracy = 96.8%\n",
            "Training Error= 3.200000000000003\n",
            "\n",
            "Training C=1.0\n",
            "Cross Validation Accuracy = 97.4%\n",
            "Training Error= 2.6000000000000085\n",
            "\n",
            "Training C=10.0\n",
            "Cross Validation Accuracy = 97.2%\n",
            "Training Error= 2.799999999999997\n",
            "\n",
            "Training C=100.0\n",
            "Cross Validation Accuracy = 96.2%\n",
            "Training Error= 3.799999999999997\n",
            "\n",
            "Training C=1000.0\n",
            "Cross Validation Accuracy = 95.4%\n",
            "Training Error= 4.6000000000000085\n",
            "\n",
            "Best Accuracy =  97.39999999999999 %\n",
            "Best C value =  1.0\n",
            "Accuracy = 96.1538% (175/182) (classification)\n"
          ]
        }
      ]
    },
    {
      "cell_type": "code",
      "source": [
        "print(\"Error Rate for SVM Kernel (RBF)=\",100-metrics[0])"
      ],
      "metadata": {
        "colab": {
          "base_uri": "https://localhost:8080/"
        },
        "id": "dMwzKIzDm-uH",
        "outputId": "106e5df2-5162-477e-e403-46c86ded2ed0"
      },
      "execution_count": 16,
      "outputs": [
        {
          "output_type": "stream",
          "name": "stdout",
          "text": [
            "Error Rate for SVM Kernel (RBF)= 3.8461538461538396\n"
          ]
        }
      ]
    },
    {
      "cell_type": "markdown",
      "source": [
        "## **SONAR DATA**"
      ],
      "metadata": {
        "id": "6pp6Fc5aFdmn"
      }
    },
    {
      "cell_type": "code",
      "source": [
        "from sklearn.datasets import load_svmlight_file"
      ],
      "metadata": {
        "id": "DMaZOOplFti8"
      },
      "execution_count": 18,
      "outputs": []
    },
    {
      "cell_type": "code",
      "source": [
        "X_total, y_total=load_svmlight_file(\"/content/sonar_scale.txt\")\n",
        "train_indices = np.loadtxt('/content/sonar-scale-train-indices.txt', dtype=int)\n",
        "test_indices = np.loadtxt('/content/sonar-scale-test-indices.txt', dtype=int)\n",
        "X_train =X_total[train_indices - 1]\n",
        "y_train =y_total[train_indices -1]\n",
        "X_test  =X_total[test_indices - 1]\n",
        "y_test  =y_total[test_indices - 1]"
      ],
      "metadata": {
        "id": "t-haFrwpFc_3"
      },
      "execution_count": 19,
      "outputs": []
    },
    {
      "cell_type": "markdown",
      "source": [
        "# **LOGISTIC REGRESSION**"
      ],
      "metadata": {
        "id": "oeVh2ft4FyeI"
      }
    },
    {
      "cell_type": "code",
      "source": [
        "C_list = [0.1, 1.0, 10.0, 100.0, 1000.0]\n",
        "Cross_Validation_accuracy=[]\n",
        "for c in C_list:\n",
        "    print(f\"Training C={c}\")\n",
        "    params = f\"-c {c} -s 0 -v 5\"\n",
        "    train_acc=train(y_train.ravel(), X_train, params)\n",
        "    Cross_Validation_accuracy.append(train_acc)\n",
        "    print(\"Training Error=\", 100-train_acc)\n",
        "    print()\n",
        "\n",
        "print(\"Best accuracy = \",max(Cross_Validation_accuracy), \"%\")\n",
        "best_c_val=C_list[Cross_Validation_accuracy.index(max(Cross_Validation_accuracy))]\n",
        "print(\"Best C value = \",best_c_val)\n",
        "\n",
        "model = train(y_train.ravel(), X_train, f'-c {best_c_val} -s 0')\n",
        "y_pred, metrics, _ = predict(y_test.ravel(), X_test, model)"
      ],
      "metadata": {
        "colab": {
          "base_uri": "https://localhost:8080/"
        },
        "id": "ZV7nfdprF2L2",
        "outputId": "4fd32db0-c59b-41b2-f560-db833d11444f"
      },
      "execution_count": 34,
      "outputs": [
        {
          "output_type": "stream",
          "name": "stdout",
          "text": [
            "Training C=0.1\n",
            "Cross Validation Accuracy = 68.6667%\n",
            "Training Error= 31.33333333333333\n",
            "\n",
            "Training C=1.0\n",
            "Cross Validation Accuracy = 73.3333%\n",
            "Training Error= 26.66666666666667\n",
            "\n",
            "Training C=10.0\n",
            "Cross Validation Accuracy = 72.6667%\n",
            "Training Error= 27.33333333333333\n",
            "\n",
            "Training C=100.0\n",
            "Cross Validation Accuracy = 74%\n",
            "Training Error= 26.0\n",
            "\n",
            "Training C=1000.0\n",
            "Cross Validation Accuracy = 79.3333%\n",
            "Training Error= 20.66666666666667\n",
            "\n",
            "Best accuracy =  79.33333333333333 %\n",
            "Best C value =  1000.0\n",
            "Accuracy = 68.9655% (40/58) (classification)\n"
          ]
        }
      ]
    },
    {
      "cell_type": "code",
      "source": [
        "print(\"Error Rate for Logistic Regression=\",100-metrics[0])"
      ],
      "metadata": {
        "colab": {
          "base_uri": "https://localhost:8080/"
        },
        "id": "tb3g8lOJnLEj",
        "outputId": "5fdf0da7-ff84-400f-c250-a53450594911"
      },
      "execution_count": 35,
      "outputs": [
        {
          "output_type": "stream",
          "name": "stdout",
          "text": [
            "Error Rate for Logistic Regression= 31.034482758620683\n"
          ]
        }
      ]
    },
    {
      "cell_type": "markdown",
      "source": [
        "# **LINEAR SVM**"
      ],
      "metadata": {
        "id": "9TgHdyLhGBrm"
      }
    },
    {
      "cell_type": "code",
      "source": [
        "from libsvm.svmutil import *\n",
        "import pandas as pd\n",
        "import numpy as np\n",
        "from sklearn.model_selection import train_test_split"
      ],
      "metadata": {
        "id": "aTRVhPhyGBTb"
      },
      "execution_count": 33,
      "outputs": []
    },
    {
      "cell_type": "code",
      "source": [
        "C_list = [0.1, 1.0, 10.0, 100.0, 1000.0]\n",
        "Cross_Validation_accuracy=[]\n",
        "for c in C_list:\n",
        "    print(f\"Training C={c}\")\n",
        "    params = f\"-c {c} -s 3 -v 5\"\n",
        "    train_acc=train(y_train.ravel(), X_train, params)\n",
        "    Cross_Validation_accuracy.append(train_acc)\n",
        "    print(\"Training Error=\", 100-train_acc)\n",
        "    print()\n",
        "\n",
        "print(\"Best Accuracy = \",max(Cross_Validation_accuracy), \"%\")\n",
        "best_c_val=C_list[Cross_Validation_accuracy.index(max(Cross_Validation_accuracy))]\n",
        "print(\"Best C value = \",best_c_val)\n",
        "\n",
        "model = train(y_train.ravel(), X_train, f'-c {best_c_val} -s 3')\n",
        "y_pred, metrics, _ = predict(y_test.ravel(), X_test, model)"
      ],
      "metadata": {
        "colab": {
          "base_uri": "https://localhost:8080/"
        },
        "id": "j1PJPpd7GJ1l",
        "outputId": "7f9931a3-07d0-4632-b23d-9809ffdd7056"
      },
      "execution_count": 24,
      "outputs": [
        {
          "output_type": "stream",
          "name": "stdout",
          "text": [
            "Training C=0.1\n",
            "Cross Validation Accuracy = 71.3333%\n",
            "Training Error= 28.666666666666657\n",
            "\n",
            "Training C=1.0\n",
            "Cross Validation Accuracy = 75.3333%\n",
            "Training Error= 24.66666666666667\n",
            "\n",
            "Training C=10.0\n",
            "Cross Validation Accuracy = 72.6667%\n",
            "Training Error= 27.33333333333333\n",
            "\n",
            "Training C=100.0\n",
            "Cross Validation Accuracy = 76%\n",
            "Training Error= 24.0\n",
            "\n",
            "Training C=1000.0\n",
            "Cross Validation Accuracy = 66.6667%\n",
            "Training Error= 33.33333333333334\n",
            "\n",
            "Best Accuracy =  76.0 %\n",
            "Best C value =  100.0\n",
            "Accuracy = 70.6897% (41/58) (classification)\n"
          ]
        }
      ]
    },
    {
      "cell_type": "code",
      "source": [
        "print(\"Error Rate for SVM Linear=\",100-metrics[0])"
      ],
      "metadata": {
        "colab": {
          "base_uri": "https://localhost:8080/"
        },
        "id": "yv8azjgM1kS2",
        "outputId": "c393df89-899e-4024-c845-4fb5940f02c1"
      },
      "execution_count": 25,
      "outputs": [
        {
          "output_type": "stream",
          "name": "stdout",
          "text": [
            "Error Rate for SVM Linear= 29.310344827586206\n"
          ]
        }
      ]
    },
    {
      "cell_type": "markdown",
      "source": [
        "# **KERNEL SVM**"
      ],
      "metadata": {
        "id": "bUSB2olqGP6w"
      }
    },
    {
      "cell_type": "markdown",
      "source": [
        "**POLYNOMIAL KERNEL**"
      ],
      "metadata": {
        "id": "PUAOMq1lGS6Y"
      }
    },
    {
      "cell_type": "code",
      "source": [
        "C_list = [0.1, 1.0, 10.0, 100.0, 1000.0]\n",
        "Cross_Validation_accuracy=[]\n",
        "for c in C_list:\n",
        "    print(f\"Training C={c}\")\n",
        "    params = f\"-t 1 -c {c} -s 0 -v 5\"\n",
        "    train_acc=svm_train(y_train.ravel(), X_train, params)\n",
        "    Cross_Validation_accuracy.append(train_acc)\n",
        "    print(\"Training Error=\", 100-train_acc)\n",
        "    print()\n",
        "\n",
        "print(\"Best Accuracy = \",max(Cross_Validation_accuracy), \"%\")\n",
        "best_c_val=C_list[Cross_Validation_accuracy.index(max(Cross_Validation_accuracy))]\n",
        "print(\"Best C value = \",best_c_val)\n",
        "\n",
        "model = svm_train(y_train.ravel(), X_train, f'-t 1 -c {best_c_val} -s 0')\n",
        "y_pred, metrics, _ = svm_predict(y_test.ravel(), X_test, model)"
      ],
      "metadata": {
        "colab": {
          "base_uri": "https://localhost:8080/"
        },
        "id": "SO06IlaGGPLJ",
        "outputId": "54a66599-fb14-452e-c502-b434e293dbf3"
      },
      "execution_count": 31,
      "outputs": [
        {
          "output_type": "stream",
          "name": "stdout",
          "text": [
            "Training C=0.1\n",
            "Cross Validation Accuracy = 56%\n",
            "Training Error= 43.99999999999999\n",
            "\n",
            "Training C=1.0\n",
            "Cross Validation Accuracy = 56.6667%\n",
            "Training Error= 43.333333333333336\n",
            "\n",
            "Training C=10.0\n",
            "Cross Validation Accuracy = 75.3333%\n",
            "Training Error= 24.66666666666667\n",
            "\n",
            "Training C=100.0\n",
            "Cross Validation Accuracy = 87.3333%\n",
            "Training Error= 12.666666666666671\n",
            "\n",
            "Training C=1000.0\n",
            "Cross Validation Accuracy = 81.3333%\n",
            "Training Error= 18.66666666666667\n",
            "\n",
            "Best Accuracy =  87.33333333333333 %\n",
            "Best C value =  100.0\n",
            "Accuracy = 87.931% (51/58) (classification)\n"
          ]
        }
      ]
    },
    {
      "cell_type": "code",
      "source": [
        "print(\"Error Rate for SVM Kernel (Polynomial)=\",100-metrics[0])"
      ],
      "metadata": {
        "colab": {
          "base_uri": "https://localhost:8080/"
        },
        "id": "cxhZato6nVpK",
        "outputId": "590cdd69-f018-4826-9390-c91159a16081"
      },
      "execution_count": 32,
      "outputs": [
        {
          "output_type": "stream",
          "name": "stdout",
          "text": [
            "Error Rate for SVM Kernel (Polynomial)= 12.06896551724138\n"
          ]
        }
      ]
    },
    {
      "cell_type": "markdown",
      "source": [
        "**RBF KERNEL**"
      ],
      "metadata": {
        "id": "JMcIocLzGfyv"
      }
    },
    {
      "cell_type": "code",
      "source": [
        "C_list = [0.1, 1.0, 10.0, 100.0, 1000.0]\n",
        "Cross_Validation_accuracy=[]\n",
        "for c in C_list:\n",
        "    print(f\"Training C={c}\")\n",
        "    params = f\"-t 2 -c {c} -s 0 -v 5\"\n",
        "    train_acc=svm_train(y_train.ravel(), X_train, params)\n",
        "    Cross_Validation_accuracy.append(train_acc)\n",
        "    print(\"Training Error=\", 100-train_acc)\n",
        "    print()\n",
        "\n",
        "print(\"Best Accuracy = \",max(Cross_Validation_accuracy), \"%\")\n",
        "best_c_val=C_list[Cross_Validation_accuracy.index(max(Cross_Validation_accuracy))]\n",
        "print(\"Best C value = \",best_c_val)\n",
        "\n",
        "model = svm_train(y_train.ravel(), X_train, f'-t 2 -c {best_c_val} -s 0')\n",
        "y_pred, metrics, _ = svm_predict(y_test.ravel(), X_test, model)"
      ],
      "metadata": {
        "colab": {
          "base_uri": "https://localhost:8080/"
        },
        "id": "5Ozcysi4GeR7",
        "outputId": "c8022fb3-2bf9-48c1-ed5e-d394f24d72dd"
      },
      "execution_count": 29,
      "outputs": [
        {
          "output_type": "stream",
          "name": "stdout",
          "text": [
            "Training C=0.1\n",
            "Cross Validation Accuracy = 56%\n",
            "Training Error= 43.99999999999999\n",
            "\n",
            "Training C=1.0\n",
            "Cross Validation Accuracy = 78.6667%\n",
            "Training Error= 21.333333333333343\n",
            "\n",
            "Training C=10.0\n",
            "Cross Validation Accuracy = 80%\n",
            "Training Error= 20.0\n",
            "\n",
            "Training C=100.0\n",
            "Cross Validation Accuracy = 83.3333%\n",
            "Training Error= 16.666666666666657\n",
            "\n",
            "Training C=1000.0\n",
            "Cross Validation Accuracy = 81.3333%\n",
            "Training Error= 18.66666666666667\n",
            "\n",
            "Best Accuracy =  83.33333333333334 %\n",
            "Best C value =  100.0\n",
            "Accuracy = 86.2069% (50/58) (classification)\n"
          ]
        }
      ]
    },
    {
      "cell_type": "code",
      "source": [
        "print(\"Error Rate for SVM Kernel (RBF)=\",100-metrics[0])"
      ],
      "metadata": {
        "colab": {
          "base_uri": "https://localhost:8080/"
        },
        "id": "u3lkzdxynZR5",
        "outputId": "7516ef5e-97ed-4c57-9ac4-de03af4d1ff9"
      },
      "execution_count": 30,
      "outputs": [
        {
          "output_type": "stream",
          "name": "stdout",
          "text": [
            "Error Rate for SVM Kernel (RBF)= 13.793103448275872\n"
          ]
        }
      ]
    },
    {
      "cell_type": "markdown",
      "source": [
        "# **ACCURACY COMPARISON FOR BREAST CANCER DATA**"
      ],
      "metadata": {
        "id": "iC-QoJSejk18"
      }
    },
    {
      "cell_type": "markdown",
      "source": [
        "\n",
        "\\begin{array}{|c|c|c|c|c|} \\hline\n",
        "Factors & Train/Test Metric & Logistic Regression & Linear SVM & Kernel SVM Polynomial & Kernel SVM RBF\\\\ \\hline\n",
        "Classification Accuracy & Train Accuracy & 97.\\% & 97.4\\% & 97.2\\% & 97.4\\%\\\\ \\hline\n",
        "Classification Accuracy & Test Accuracy & 95.60\\% & 96.15\\% & 97.80\\% & 96.15\\%\\\\ \\hline\n",
        "Best C val & using Cross Validation & 1000.0 & 1.0 & 1.0 & 1.0\\\\ \\hline\n",
        "\\end{array}"
      ],
      "metadata": {
        "id": "mosKmTZLm6Pv"
      }
    },
    {
      "cell_type": "markdown",
      "source": [
        "## **ACCURACY COMPARISON FOR SONAR DATA**"
      ],
      "metadata": {
        "id": "dbDNSbkiGuQY"
      }
    },
    {
      "cell_type": "markdown",
      "source": [
        "\n",
        "\\begin{array}{|c|c|c|c|c|} \\hline\n",
        "Factors & Train/Test Metric & Logistic Regression & Linear SVM & Kernel SVM Polynomial & Kernel SVM RBF\\\\ \\hline\n",
        "Classification Accuracy & Train Accuracy & 79.33\\%\\% & 76.0\\% & 87.33\\% & 83.33\\%\\\\ \\hline\n",
        "Classification Accuracy & Test Accuracy & 68.96\\% & 70.69\\% & 87.93\\% & 86.21\\%\\\\ \\hline\n",
        "Best C val & using Cross Validation & 1000 & 100 & 100 & 100\\\\ \\hline\n",
        "\\end{array}"
      ],
      "metadata": {
        "id": "cSFiGg2sG02B"
      }
    },
    {
      "cell_type": "markdown",
      "source": [
        "# **ERROR RATE COMPARISON OF TEST DATA (as per question)**"
      ],
      "metadata": {
        "id": "laItaVMzlint"
      }
    },
    {
      "cell_type": "markdown",
      "source": [
        "\n",
        "\\begin{array}{|c|c|c|c|c|} \\hline\n",
        "Data & Logistic Regression & Linear SVM & Kernel SVM Polynomial & Kernel SVM RBF\\\\ \\hline\n",
        "Breast Cancer Data & 4.39\\% & 3.85\\% & 2.19\\% & 3.85\\%\\\\ \\hline\n",
        "Sonar Data & 31.03\\% & 29.31\\% & 12.07\\% & 13.79\\%\\\\ \\hline\n",
        "\\end{array}"
      ],
      "metadata": {
        "id": "-zuuy1rinylk"
      }
    },
    {
      "cell_type": "markdown",
      "source": [
        "# ***OBSERVATION ANALYSIS:***\n",
        "\n",
        "**We see for test accuracies-Kernel SVM polynomial behaves the best, then kernel SVM RBF. (In case of Sonar Data, both kernel SVMs behave almost similarly) 3rd best is linear SVM and last is Logistic regression.**\n",
        "\n",
        "In the case of these four models - Logistic Regression, Linear SVM, Kernel SVM Polynomial, and Kernel SVM RBF - they are all used for binary classification problems, but they have different ways of separating the data.\n",
        "\n",
        "**Logistic Regression** is a linear model that tries to find a decision boundary that separates the two classes. It works well when the data is linearly separable, but it can struggle with more complex patterns in the data.\n",
        "\n",
        "**Linear SVM** is also a linear model, but it tries to find the decision boundary that maximizes the margin between the two classes. It works well when the data is linearly separable, and** it is less affected by outliers than Logistic Regression.**\n",
        "\n",
        "**Kernel SVM Polynomial and Kernel SVM RBF** are non-linear models that use kernel functions to map the data into a higher-dimensional space where the classes can be separated by a hyperplane. Kernel SVM Polynomial uses a polynomial kernel function, while Kernel SVM RBF uses a radial basis function kernel. These models are more flexible than Logistic Regression and Linear SVM, and they can handle complex non-linear decision boundaries.\n",
        "\n",
        "In general, **Kernel SVM Polynomial and Kernel SVM RBF are more accurate than Logistic Regression and Linear SVM when the data has non-linear decision boundaries**. This is because they can map the data into a higher-dimensional space where it becomes easier to separate the classes. Among the two Kernel SVM models, **Kernel SVM Polynomial is usually more accurate than Kernel SVM RBF when the degree of the polynomial is chosen appropriately(here default value is 3)**, because it can capture more complex decision boundaries. However, Kernel SVM Polynomial can be more sensitive to overfitting if the degree of the polynomial is too high.\n",
        "\n",
        "**Linear SVM can be more accurate than Logistic Regression when the data has a clear margin between the two classes**, and it can be more robust to outliers. However, Logistic Regression can be more accurate than Linear SVM when the data is not linearly separable, but the decision boundary is still close to linear.\n",
        "\n",
        "# ***Overall,from the above observation, my CONCLUSION is as followed***:\n",
        "1.   The dataset given has non-linear decision boundary since kernel SVMs give better accuracies\n",
        "2.   The data has clear margin between two classes since Linear SVM gives better accuracy \n",
        "\n",
        "\n",
        "\n",
        "\n",
        "\n",
        "\n",
        "\n",
        "\n"
      ],
      "metadata": {
        "id": "WjJyFA45HsO-"
      }
    }
  ]
}