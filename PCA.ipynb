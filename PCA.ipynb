{
  "nbformat": 4,
  "nbformat_minor": 0,
  "metadata": {
    "colab": {
      "provenance": []
    },
    "kernelspec": {
      "name": "python3",
      "display_name": "Python 3"
    },
    "language_info": {
      "name": "python"
    }
  },
  "cells": [
    {
      "cell_type": "markdown",
      "source": [
        "# **Problem 3: PCA**"
      ],
      "metadata": {
        "id": "jwJuB0U5kVbd"
      }
    },
    {
      "cell_type": "markdown",
      "source": [
        "To build a k-Nearest Neighbor (kNN) classifier for the gisette data set and evaluate the effect of dimansionality reduction using PCA, I have done the given steps:\n",
        "\n",
        "Run the steps 1 to 5 once on Original Data, and once using Dimensionality reduction using PCA:\n",
        "\n",
        "1. Load the trainSet, trainLabels, and testSet data.\n",
        "\n",
        "2. Defined Leave One Out (LOO) model\n",
        "\n",
        "3. For each k from 1 to 10, performed KNN with LOO split, calculated error\n",
        "\n",
        "4. Check the least error and assign that k as the best k\n",
        "\n",
        "5. Predict the labels of test data with the best value of k obtained\n",
        "\n",
        "At last, compare the model score with test set given labels and predicted labels in both cases."
      ],
      "metadata": {
        "id": "TDOJvwSzjJgG"
      }
    },
    {
      "cell_type": "code",
      "execution_count": 4,
      "metadata": {
        "id": "_kQjhz50N_-R"
      },
      "outputs": [],
      "source": [
        "import numpy as np\n",
        "\n",
        "trainX = np.loadtxt(\"/content/gisette_trainSet.txt\", dtype=float)\n",
        "\n",
        "trainY = np.loadtxt(\"/content/gisette_trainLabels.txt\", dtype=float)"
      ]
    },
    {
      "cell_type": "code",
      "source": [
        "trainX.shape"
      ],
      "metadata": {
        "colab": {
          "base_uri": "https://localhost:8080/"
        },
        "id": "ZSHO4XHdOnzP",
        "outputId": "477c3f27-99ec-4dfe-9437-67f2fb9ca668"
      },
      "execution_count": 5,
      "outputs": [
        {
          "output_type": "execute_result",
          "data": {
            "text/plain": [
              "(6000, 5000)"
            ]
          },
          "metadata": {},
          "execution_count": 5
        }
      ]
    },
    {
      "cell_type": "code",
      "source": [
        "testX = np.loadtxt(\"/content/gisette_testSet.txt\", dtype=float)\n",
        "\n",
        "testY = np.loadtxt(\"/content/gisette_testLabels.txt\", dtype=float)"
      ],
      "metadata": {
        "id": "vsa9RImPOvWY"
      },
      "execution_count": 6,
      "outputs": []
    },
    {
      "cell_type": "code",
      "source": [
        "from sklearn.model_selection import cross_val_score\n",
        "from sklearn.neighbors import KNeighborsClassifier\n",
        "\n",
        "\n",
        "score_val = []\n",
        "for k in range(1, 11):\n",
        "    print(\"Executing k=\", k)\n",
        "    model = KNeighborsClassifier(n_neighbors=k)\n",
        "    score_val.append(np.mean(cross_val_score(model, trainX, trainY, cv=5)))\n",
        "\n",
        "print(score_val)\n",
        "\n",
        "max_value = max(score_val)\n",
        "max_index = np.argmax(score_val)\n",
        "print(\"Best k = {}\".format(max_index))\n",
        "    "
      ],
      "metadata": {
        "colab": {
          "base_uri": "https://localhost:8080/"
        },
        "id": "dLa1EPnEPT4P",
        "outputId": "2d41ccea-05dd-445f-f035-d9940f5af85f"
      },
      "execution_count": 10,
      "outputs": [
        {
          "output_type": "stream",
          "name": "stdout",
          "text": [
            "Executing k= 1\n",
            "Executing k= 2\n",
            "Executing k= 3\n",
            "Executing k= 4\n",
            "Executing k= 5\n",
            "Executing k= 6\n",
            "Executing k= 7\n",
            "Executing k= 8\n",
            "Executing k= 9\n",
            "Executing k= 10\n",
            "[0.9560000000000001, 0.9593333333333334, 0.9636666666666667, 0.9633333333333333, 0.9593333333333334, 0.9630000000000001, 0.9606666666666668, 0.9633333333333333, 0.9613333333333334, 0.9629999999999999]\n",
            "Best k = 2\n"
          ]
        }
      ]
    },
    {
      "cell_type": "code",
      "source": [
        "model = KNeighborsClassifier(n_neighbors=max_index)\n",
        "model.fit(trainX, trainY)\n",
        "print(\" Without PCA, Score for best k is {}\".format(model.score(testX, testY, sample_weight=None)))"
      ],
      "metadata": {
        "colab": {
          "base_uri": "https://localhost:8080/"
        },
        "id": "_SNatjVBP7kR",
        "outputId": "6747789c-6a12-49d9-cd2b-0efeb6c31900"
      },
      "execution_count": 11,
      "outputs": [
        {
          "output_type": "stream",
          "name": "stdout",
          "text": [
            " Without PCA, Score for best k is 0.961\n"
          ]
        }
      ]
    },
    {
      "cell_type": "markdown",
      "source": [
        "# **With PCA**"
      ],
      "metadata": {
        "id": "bMdMxlGOQn29"
      }
    },
    {
      "cell_type": "code",
      "source": [
        "from sklearn.decomposition import PCA\n",
        "\n",
        "# Perform PCA on the training data and reduce its dimensionality\n",
        "model_pca = PCA(n_components=50, random_state=0)\n",
        "trainX_reduced = model_pca.fit_transform(trainX)\n",
        "\n",
        "# Find the best value of k using cross-validation\n",
        "score_val = []\n",
        "for k in range(1, 11):\n",
        "    pca_knn = KNeighborsClassifier(n_neighbors=k)\n",
        "    cv_scores = cross_val_score(pca_knn, trainX_reduced, trainY, cv=5)\n",
        "    score_val.append(np.mean(cv_scores))\n",
        "    \n",
        "print(score_val)\n",
        "max_index = np.argmax(score_val) \n",
        "print(\"Best k = {}\".format(max_index))"
      ],
      "metadata": {
        "colab": {
          "base_uri": "https://localhost:8080/"
        },
        "id": "N4hYJQG0QrTN",
        "outputId": "16af9a86-86c7-457e-f269-31f7b7607e4e"
      },
      "execution_count": 16,
      "outputs": [
        {
          "output_type": "stream",
          "name": "stdout",
          "text": [
            "[0.9671666666666667, 0.9665000000000001, 0.9696666666666666, 0.9706666666666667, 0.9724999999999999, 0.9719999999999999, 0.9706666666666667, 0.9716666666666667, 0.9708333333333334, 0.9705]\n",
            "Best k = 4\n"
          ]
        }
      ]
    },
    {
      "cell_type": "code",
      "source": [
        "knn_pca = KNeighborsClassifier(n_neighbors=max_index)\n",
        "knn_pca.fit(trainX_reduced, trainY)\n",
        "\n",
        "testX_reduced = model_pca.transform(testX)\n",
        "\n",
        "print(\" With PCA, Score for best k is {}\".format(knn_pca.score(testX_reduced, testY, sample_weight=None)))"
      ],
      "metadata": {
        "colab": {
          "base_uri": "https://localhost:8080/"
        },
        "id": "7NkW4NzQSteK",
        "outputId": "faef541f-0ac3-4832-ca15-94893295104c"
      },
      "execution_count": 14,
      "outputs": [
        {
          "output_type": "stream",
          "name": "stdout",
          "text": [
            " With PCA, Score for best k is 0.971\n"
          ]
        }
      ]
    },
    {
      "cell_type": "markdown",
      "source": [
        "# **Comparison**"
      ],
      "metadata": {
        "id": "Vs5KjlhqTmCf"
      }
    },
    {
      "cell_type": "code",
      "source": [
        "print(\" Without PCA, Score for best k is {}\".format(model.score(testX, testY, sample_weight=None)))\n",
        "print(\" With PCA, Score for best k is {}\".format(knn_pca.score(testX_reduced, testY, sample_weight=None)))"
      ],
      "metadata": {
        "colab": {
          "base_uri": "https://localhost:8080/"
        },
        "id": "PWJeUNeNTZtv",
        "outputId": "f4761008-5b8b-412e-d30e-d6e53e6ca774"
      },
      "execution_count": 15,
      "outputs": [
        {
          "output_type": "stream",
          "name": "stdout",
          "text": [
            " Without PCA, Score for best k is 0.961\n",
            " With PCA, Score for best k is 0.971\n"
          ]
        }
      ]
    },
    {
      "cell_type": "markdown",
      "source": [
        "**Observation:** Here we can see a 1% implovement in accuracy score from original data without PCA and the reduced data using PCA."
      ],
      "metadata": {
        "id": "o_xEqwxzj6ss"
      }
    },
    {
      "cell_type": "markdown",
      "source": [
        "# **Cross Validation Approach:**\n",
        "\n",
        "Cross-validation is a technique used in machine learning and statistics to evaluate the performance of a predictive model by partitioning the available data into multiple sets, or \"folds,\" and using these folds to train and test the model iteratively.\n",
        "\n",
        "The basic idea of cross-validation is to split the available data into k subsets or \"folds\" of approximately equal size. One of the folds is held out as the test set, and the remaining k-1 folds are used as the training set. The model is then trained on the training set and evaluated on the test set. This process is repeated k times, with each fold serving as the test set exactly once, and the results are averaged to obtain an overall estimate of model performance.\n",
        "\n",
        "The advantage of cross-validation is that it provides a more reliable estimate of model performance than a single train/test split, since it uses multiple test sets and thus reduces the variance of the estimate. It also allows for the use of all available data for both training and testing, which is important for small data sets. In short, it helps in making the model more resilient towards Bias-Variance Tradeoff."
      ],
      "metadata": {
        "id": "nrmFUs-dnw9P"
      }
    }
  ]
}