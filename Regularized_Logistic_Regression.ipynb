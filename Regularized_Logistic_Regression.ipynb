{
  "nbformat": 4,
  "nbformat_minor": 0,
  "metadata": {
    "colab": {
      "provenance": []
    },
    "kernelspec": {
      "name": "python3",
      "display_name": "Python 3"
    },
    "language_info": {
      "name": "python"
    }
  },
  "cells": [
    {
      "cell_type": "code",
      "source": [
        "!pip install -U libsvm-official\n",
        "!pip install -U liblinear-official"
      ],
      "metadata": {
        "colab": {
          "base_uri": "https://localhost:8080/"
        },
        "id": "Nw1aZjt1JIsu",
        "outputId": "89cf0152-9be6-4fb7-e7f7-8d4c2362d6b0"
      },
      "execution_count": 1,
      "outputs": [
        {
          "output_type": "stream",
          "name": "stdout",
          "text": [
            "Looking in indexes: https://pypi.org/simple, https://us-python.pkg.dev/colab-wheels/public/simple/\n",
            "Collecting libsvm-official\n",
            "  Downloading libsvm-official-3.31.0.tar.gz (39 kB)\n",
            "  Preparing metadata (setup.py) ... \u001b[?25l\u001b[?25hdone\n",
            "Requirement already satisfied: scipy in /usr/local/lib/python3.10/dist-packages (from libsvm-official) (1.10.1)\n",
            "Requirement already satisfied: numpy<1.27.0,>=1.19.5 in /usr/local/lib/python3.10/dist-packages (from scipy->libsvm-official) (1.22.4)\n",
            "Building wheels for collected packages: libsvm-official\n",
            "  Building wheel for libsvm-official (setup.py) ... \u001b[?25l\u001b[?25hdone\n",
            "  Created wheel for libsvm-official: filename=libsvm_official-3.31.0-cp310-cp310-linux_x86_64.whl size=125901 sha256=5344c687f9308185b838cb72310006c18ebedb4a1f5a68877a5fac1f8dc25e08\n",
            "  Stored in directory: /root/.cache/pip/wheels/93/04/ec/306a03478d811cf83c10665ca5e60231f47360a367e06d94d0\n",
            "Successfully built libsvm-official\n",
            "Installing collected packages: libsvm-official\n",
            "Successfully installed libsvm-official-3.31.0\n",
            "Looking in indexes: https://pypi.org/simple, https://us-python.pkg.dev/colab-wheels/public/simple/\n",
            "Collecting liblinear-official\n",
            "  Downloading liblinear-official-2.46.1.tar.gz (46 kB)\n",
            "\u001b[2K     \u001b[90m━━━━━━━━━━━━━━━━━━━━━━━━━━━━━━━━━━━━━━━━\u001b[0m \u001b[32m46.9/46.9 kB\u001b[0m \u001b[31m2.5 MB/s\u001b[0m eta \u001b[36m0:00:00\u001b[0m\n",
            "\u001b[?25h  Preparing metadata (setup.py) ... \u001b[?25l\u001b[?25hdone\n",
            "Requirement already satisfied: scipy in /usr/local/lib/python3.10/dist-packages (from liblinear-official) (1.10.1)\n",
            "Requirement already satisfied: numpy<1.27.0,>=1.19.5 in /usr/local/lib/python3.10/dist-packages (from scipy->liblinear-official) (1.22.4)\n",
            "Building wheels for collected packages: liblinear-official\n",
            "  Building wheel for liblinear-official (setup.py) ... \u001b[?25l\u001b[?25hdone\n",
            "  Created wheel for liblinear-official: filename=liblinear_official-2.46.1-cp310-cp310-linux_x86_64.whl size=146571 sha256=da422521685c6ec76e99e01b77c6eca88cee827c539236a64c02bdcf0341c30e\n",
            "  Stored in directory: /root/.cache/pip/wheels/d1/c4/f5/0f9664e5a5484cfe73e265aaa8eb83d8d51342760c979cb846\n",
            "Successfully built liblinear-official\n",
            "Installing collected packages: liblinear-official\n",
            "Successfully installed liblinear-official-2.46.1\n"
          ]
        }
      ]
    },
    {
      "cell_type": "code",
      "execution_count": 2,
      "metadata": {
        "id": "esyJPCTuISJs"
      },
      "outputs": [],
      "source": [
        "import numpy as np\n",
        "#from sklearn.datasets import load_breast_cancer\n",
        "from sklearn.preprocessing import StandardScaler\n",
        "from sklearn.metrics import accuracy_score\n",
        "from sklearn.model_selection import train_test_split\n",
        "from liblinear.liblinearutil import *\n",
        "from sklearn.datasets import load_svmlight_file\n",
        "import pandas as pd"
      ]
    },
    {
      "cell_type": "code",
      "source": [
        "total_data=pd.read_csv(\"/content/breast-cancer_scale.txt\", header=None, sep=\"[: ]+\")"
      ],
      "metadata": {
        "colab": {
          "base_uri": "https://localhost:8080/"
        },
        "id": "AqDndOrONjcF",
        "outputId": "9bd4e0cb-028a-4e98-de45-7b9b85a0d275"
      },
      "execution_count": 3,
      "outputs": [
        {
          "output_type": "stream",
          "name": "stderr",
          "text": [
            "<ipython-input-3-8cc30ce507f5>:1: ParserWarning: Falling back to the 'python' engine because the 'c' engine does not support regex separators (separators > 1 char and different from '\\s+' are interpreted as regex); you can avoid this warning by specifying engine='python'.\n",
            "  total_data=pd.read_csv(\"/content/breast-cancer_scale.txt\", header=None, sep=\"[: ]+\")\n"
          ]
        }
      ]
    },
    {
      "cell_type": "code",
      "source": [
        "total_data"
      ],
      "metadata": {
        "colab": {
          "base_uri": "https://localhost:8080/",
          "height": 423
        },
        "id": "Cp4TSJCPNxl5",
        "outputId": "d9fa3a06-eab1-44ac-d77f-0e07d8dc7e09"
      },
      "execution_count": 4,
      "outputs": [
        {
          "output_type": "execute_result",
          "data": {
            "text/plain": [
              "     0   1         2   3         4   5         6   7         8   9   ...  11  \\\n",
              "0     2   1 -0.860107   2 -0.111111   3 -1.000000   4 -1.000000   5  ...   6   \n",
              "1     2   1 -0.859671   2 -0.111111   3 -0.333333   4 -0.333333   5  ...   6   \n",
              "2     2   1 -0.857807   2 -0.555556   3 -1.000000   4 -1.000000   5  ...   6   \n",
              "3     2   1 -0.857680   2  0.111111   3  0.555556   4  0.555556   5  ...   6   \n",
              "4     2   1 -0.857569   2 -0.333333   3 -1.000000   4 -1.000000   5  ...   6   \n",
              "..   ..  ..       ...  ..       ...  ..       ...  ..       ...  ..  ...  ..   \n",
              "678   2   1 -0.893460   2 -0.555556   3 -1.000000   4 -1.000000   5  ...   6   \n",
              "679   2   1 -0.883744   2 -0.777778   3 -1.000000   4 -1.000000   5  ...   6   \n",
              "680   4   1 -0.876716   2 -0.111111   3  1.000000   4  1.000000   5  ...   6   \n",
              "681   4   1 -0.875424   2 -0.333333   3  0.555556   4  0.111111   5  ...   6   \n",
              "682   4   1 -0.875424   2 -0.333333   3  0.555556   4  0.555556   5  ...   6   \n",
              "\n",
              "           12  13        14  15        16  17        18  19        20  \n",
              "0   -0.777778   7 -1.000000   8 -0.555556   9 -1.000000  10 -1.000000  \n",
              "1    0.333333   7  1.000000   8 -0.555556   9 -0.777778  10 -1.000000  \n",
              "2   -0.777778   7 -0.777778   8 -0.555556   9 -1.000000  10 -1.000000  \n",
              "3   -0.555556   7 -0.333333   8 -0.555556   9  0.333333  10 -1.000000  \n",
              "4   -0.777778   7 -1.000000   8 -0.555556   9 -1.000000  10 -1.000000  \n",
              "..        ...  ..       ...  ..       ...  ..       ...  ..       ...  \n",
              "678 -0.555556   7 -0.777778   8 -1.000000   9 -1.000000  10 -1.000000  \n",
              "679 -0.777778   7 -1.000000   8 -1.000000   9 -1.000000  10 -1.000000  \n",
              "680  0.333333   7 -0.555556   8  0.555556   9  1.000000  10 -0.777778  \n",
              "681 -0.555556   7 -0.333333   8  1.000000   9  0.111111  10 -1.000000  \n",
              "682 -0.333333   7 -0.111111   8  1.000000   9 -0.333333  10 -1.000000  \n",
              "\n",
              "[683 rows x 21 columns]"
            ],
            "text/html": [
              "\n",
              "  <div id=\"df-4d5acf35-69bf-4535-9341-38b38f71a019\">\n",
              "    <div class=\"colab-df-container\">\n",
              "      <div>\n",
              "<style scoped>\n",
              "    .dataframe tbody tr th:only-of-type {\n",
              "        vertical-align: middle;\n",
              "    }\n",
              "\n",
              "    .dataframe tbody tr th {\n",
              "        vertical-align: top;\n",
              "    }\n",
              "\n",
              "    .dataframe thead th {\n",
              "        text-align: right;\n",
              "    }\n",
              "</style>\n",
              "<table border=\"1\" class=\"dataframe\">\n",
              "  <thead>\n",
              "    <tr style=\"text-align: right;\">\n",
              "      <th></th>\n",
              "      <th>0</th>\n",
              "      <th>1</th>\n",
              "      <th>2</th>\n",
              "      <th>3</th>\n",
              "      <th>4</th>\n",
              "      <th>5</th>\n",
              "      <th>6</th>\n",
              "      <th>7</th>\n",
              "      <th>8</th>\n",
              "      <th>9</th>\n",
              "      <th>...</th>\n",
              "      <th>11</th>\n",
              "      <th>12</th>\n",
              "      <th>13</th>\n",
              "      <th>14</th>\n",
              "      <th>15</th>\n",
              "      <th>16</th>\n",
              "      <th>17</th>\n",
              "      <th>18</th>\n",
              "      <th>19</th>\n",
              "      <th>20</th>\n",
              "    </tr>\n",
              "  </thead>\n",
              "  <tbody>\n",
              "    <tr>\n",
              "      <th>0</th>\n",
              "      <td>2</td>\n",
              "      <td>1</td>\n",
              "      <td>-0.860107</td>\n",
              "      <td>2</td>\n",
              "      <td>-0.111111</td>\n",
              "      <td>3</td>\n",
              "      <td>-1.000000</td>\n",
              "      <td>4</td>\n",
              "      <td>-1.000000</td>\n",
              "      <td>5</td>\n",
              "      <td>...</td>\n",
              "      <td>6</td>\n",
              "      <td>-0.777778</td>\n",
              "      <td>7</td>\n",
              "      <td>-1.000000</td>\n",
              "      <td>8</td>\n",
              "      <td>-0.555556</td>\n",
              "      <td>9</td>\n",
              "      <td>-1.000000</td>\n",
              "      <td>10</td>\n",
              "      <td>-1.000000</td>\n",
              "    </tr>\n",
              "    <tr>\n",
              "      <th>1</th>\n",
              "      <td>2</td>\n",
              "      <td>1</td>\n",
              "      <td>-0.859671</td>\n",
              "      <td>2</td>\n",
              "      <td>-0.111111</td>\n",
              "      <td>3</td>\n",
              "      <td>-0.333333</td>\n",
              "      <td>4</td>\n",
              "      <td>-0.333333</td>\n",
              "      <td>5</td>\n",
              "      <td>...</td>\n",
              "      <td>6</td>\n",
              "      <td>0.333333</td>\n",
              "      <td>7</td>\n",
              "      <td>1.000000</td>\n",
              "      <td>8</td>\n",
              "      <td>-0.555556</td>\n",
              "      <td>9</td>\n",
              "      <td>-0.777778</td>\n",
              "      <td>10</td>\n",
              "      <td>-1.000000</td>\n",
              "    </tr>\n",
              "    <tr>\n",
              "      <th>2</th>\n",
              "      <td>2</td>\n",
              "      <td>1</td>\n",
              "      <td>-0.857807</td>\n",
              "      <td>2</td>\n",
              "      <td>-0.555556</td>\n",
              "      <td>3</td>\n",
              "      <td>-1.000000</td>\n",
              "      <td>4</td>\n",
              "      <td>-1.000000</td>\n",
              "      <td>5</td>\n",
              "      <td>...</td>\n",
              "      <td>6</td>\n",
              "      <td>-0.777778</td>\n",
              "      <td>7</td>\n",
              "      <td>-0.777778</td>\n",
              "      <td>8</td>\n",
              "      <td>-0.555556</td>\n",
              "      <td>9</td>\n",
              "      <td>-1.000000</td>\n",
              "      <td>10</td>\n",
              "      <td>-1.000000</td>\n",
              "    </tr>\n",
              "    <tr>\n",
              "      <th>3</th>\n",
              "      <td>2</td>\n",
              "      <td>1</td>\n",
              "      <td>-0.857680</td>\n",
              "      <td>2</td>\n",
              "      <td>0.111111</td>\n",
              "      <td>3</td>\n",
              "      <td>0.555556</td>\n",
              "      <td>4</td>\n",
              "      <td>0.555556</td>\n",
              "      <td>5</td>\n",
              "      <td>...</td>\n",
              "      <td>6</td>\n",
              "      <td>-0.555556</td>\n",
              "      <td>7</td>\n",
              "      <td>-0.333333</td>\n",
              "      <td>8</td>\n",
              "      <td>-0.555556</td>\n",
              "      <td>9</td>\n",
              "      <td>0.333333</td>\n",
              "      <td>10</td>\n",
              "      <td>-1.000000</td>\n",
              "    </tr>\n",
              "    <tr>\n",
              "      <th>4</th>\n",
              "      <td>2</td>\n",
              "      <td>1</td>\n",
              "      <td>-0.857569</td>\n",
              "      <td>2</td>\n",
              "      <td>-0.333333</td>\n",
              "      <td>3</td>\n",
              "      <td>-1.000000</td>\n",
              "      <td>4</td>\n",
              "      <td>-1.000000</td>\n",
              "      <td>5</td>\n",
              "      <td>...</td>\n",
              "      <td>6</td>\n",
              "      <td>-0.777778</td>\n",
              "      <td>7</td>\n",
              "      <td>-1.000000</td>\n",
              "      <td>8</td>\n",
              "      <td>-0.555556</td>\n",
              "      <td>9</td>\n",
              "      <td>-1.000000</td>\n",
              "      <td>10</td>\n",
              "      <td>-1.000000</td>\n",
              "    </tr>\n",
              "    <tr>\n",
              "      <th>...</th>\n",
              "      <td>...</td>\n",
              "      <td>...</td>\n",
              "      <td>...</td>\n",
              "      <td>...</td>\n",
              "      <td>...</td>\n",
              "      <td>...</td>\n",
              "      <td>...</td>\n",
              "      <td>...</td>\n",
              "      <td>...</td>\n",
              "      <td>...</td>\n",
              "      <td>...</td>\n",
              "      <td>...</td>\n",
              "      <td>...</td>\n",
              "      <td>...</td>\n",
              "      <td>...</td>\n",
              "      <td>...</td>\n",
              "      <td>...</td>\n",
              "      <td>...</td>\n",
              "      <td>...</td>\n",
              "      <td>...</td>\n",
              "      <td>...</td>\n",
              "    </tr>\n",
              "    <tr>\n",
              "      <th>678</th>\n",
              "      <td>2</td>\n",
              "      <td>1</td>\n",
              "      <td>-0.893460</td>\n",
              "      <td>2</td>\n",
              "      <td>-0.555556</td>\n",
              "      <td>3</td>\n",
              "      <td>-1.000000</td>\n",
              "      <td>4</td>\n",
              "      <td>-1.000000</td>\n",
              "      <td>5</td>\n",
              "      <td>...</td>\n",
              "      <td>6</td>\n",
              "      <td>-0.555556</td>\n",
              "      <td>7</td>\n",
              "      <td>-0.777778</td>\n",
              "      <td>8</td>\n",
              "      <td>-1.000000</td>\n",
              "      <td>9</td>\n",
              "      <td>-1.000000</td>\n",
              "      <td>10</td>\n",
              "      <td>-1.000000</td>\n",
              "    </tr>\n",
              "    <tr>\n",
              "      <th>679</th>\n",
              "      <td>2</td>\n",
              "      <td>1</td>\n",
              "      <td>-0.883744</td>\n",
              "      <td>2</td>\n",
              "      <td>-0.777778</td>\n",
              "      <td>3</td>\n",
              "      <td>-1.000000</td>\n",
              "      <td>4</td>\n",
              "      <td>-1.000000</td>\n",
              "      <td>5</td>\n",
              "      <td>...</td>\n",
              "      <td>6</td>\n",
              "      <td>-0.777778</td>\n",
              "      <td>7</td>\n",
              "      <td>-1.000000</td>\n",
              "      <td>8</td>\n",
              "      <td>-1.000000</td>\n",
              "      <td>9</td>\n",
              "      <td>-1.000000</td>\n",
              "      <td>10</td>\n",
              "      <td>-1.000000</td>\n",
              "    </tr>\n",
              "    <tr>\n",
              "      <th>680</th>\n",
              "      <td>4</td>\n",
              "      <td>1</td>\n",
              "      <td>-0.876716</td>\n",
              "      <td>2</td>\n",
              "      <td>-0.111111</td>\n",
              "      <td>3</td>\n",
              "      <td>1.000000</td>\n",
              "      <td>4</td>\n",
              "      <td>1.000000</td>\n",
              "      <td>5</td>\n",
              "      <td>...</td>\n",
              "      <td>6</td>\n",
              "      <td>0.333333</td>\n",
              "      <td>7</td>\n",
              "      <td>-0.555556</td>\n",
              "      <td>8</td>\n",
              "      <td>0.555556</td>\n",
              "      <td>9</td>\n",
              "      <td>1.000000</td>\n",
              "      <td>10</td>\n",
              "      <td>-0.777778</td>\n",
              "    </tr>\n",
              "    <tr>\n",
              "      <th>681</th>\n",
              "      <td>4</td>\n",
              "      <td>1</td>\n",
              "      <td>-0.875424</td>\n",
              "      <td>2</td>\n",
              "      <td>-0.333333</td>\n",
              "      <td>3</td>\n",
              "      <td>0.555556</td>\n",
              "      <td>4</td>\n",
              "      <td>0.111111</td>\n",
              "      <td>5</td>\n",
              "      <td>...</td>\n",
              "      <td>6</td>\n",
              "      <td>-0.555556</td>\n",
              "      <td>7</td>\n",
              "      <td>-0.333333</td>\n",
              "      <td>8</td>\n",
              "      <td>1.000000</td>\n",
              "      <td>9</td>\n",
              "      <td>0.111111</td>\n",
              "      <td>10</td>\n",
              "      <td>-1.000000</td>\n",
              "    </tr>\n",
              "    <tr>\n",
              "      <th>682</th>\n",
              "      <td>4</td>\n",
              "      <td>1</td>\n",
              "      <td>-0.875424</td>\n",
              "      <td>2</td>\n",
              "      <td>-0.333333</td>\n",
              "      <td>3</td>\n",
              "      <td>0.555556</td>\n",
              "      <td>4</td>\n",
              "      <td>0.555556</td>\n",
              "      <td>5</td>\n",
              "      <td>...</td>\n",
              "      <td>6</td>\n",
              "      <td>-0.333333</td>\n",
              "      <td>7</td>\n",
              "      <td>-0.111111</td>\n",
              "      <td>8</td>\n",
              "      <td>1.000000</td>\n",
              "      <td>9</td>\n",
              "      <td>-0.333333</td>\n",
              "      <td>10</td>\n",
              "      <td>-1.000000</td>\n",
              "    </tr>\n",
              "  </tbody>\n",
              "</table>\n",
              "<p>683 rows × 21 columns</p>\n",
              "</div>\n",
              "      <button class=\"colab-df-convert\" onclick=\"convertToInteractive('df-4d5acf35-69bf-4535-9341-38b38f71a019')\"\n",
              "              title=\"Convert this dataframe to an interactive table.\"\n",
              "              style=\"display:none;\">\n",
              "        \n",
              "  <svg xmlns=\"http://www.w3.org/2000/svg\" height=\"24px\"viewBox=\"0 0 24 24\"\n",
              "       width=\"24px\">\n",
              "    <path d=\"M0 0h24v24H0V0z\" fill=\"none\"/>\n",
              "    <path d=\"M18.56 5.44l.94 2.06.94-2.06 2.06-.94-2.06-.94-.94-2.06-.94 2.06-2.06.94zm-11 1L8.5 8.5l.94-2.06 2.06-.94-2.06-.94L8.5 2.5l-.94 2.06-2.06.94zm10 10l.94 2.06.94-2.06 2.06-.94-2.06-.94-.94-2.06-.94 2.06-2.06.94z\"/><path d=\"M17.41 7.96l-1.37-1.37c-.4-.4-.92-.59-1.43-.59-.52 0-1.04.2-1.43.59L10.3 9.45l-7.72 7.72c-.78.78-.78 2.05 0 2.83L4 21.41c.39.39.9.59 1.41.59.51 0 1.02-.2 1.41-.59l7.78-7.78 2.81-2.81c.8-.78.8-2.07 0-2.86zM5.41 20L4 18.59l7.72-7.72 1.47 1.35L5.41 20z\"/>\n",
              "  </svg>\n",
              "      </button>\n",
              "      \n",
              "  <style>\n",
              "    .colab-df-container {\n",
              "      display:flex;\n",
              "      flex-wrap:wrap;\n",
              "      gap: 12px;\n",
              "    }\n",
              "\n",
              "    .colab-df-convert {\n",
              "      background-color: #E8F0FE;\n",
              "      border: none;\n",
              "      border-radius: 50%;\n",
              "      cursor: pointer;\n",
              "      display: none;\n",
              "      fill: #1967D2;\n",
              "      height: 32px;\n",
              "      padding: 0 0 0 0;\n",
              "      width: 32px;\n",
              "    }\n",
              "\n",
              "    .colab-df-convert:hover {\n",
              "      background-color: #E2EBFA;\n",
              "      box-shadow: 0px 1px 2px rgba(60, 64, 67, 0.3), 0px 1px 3px 1px rgba(60, 64, 67, 0.15);\n",
              "      fill: #174EA6;\n",
              "    }\n",
              "\n",
              "    [theme=dark] .colab-df-convert {\n",
              "      background-color: #3B4455;\n",
              "      fill: #D2E3FC;\n",
              "    }\n",
              "\n",
              "    [theme=dark] .colab-df-convert:hover {\n",
              "      background-color: #434B5C;\n",
              "      box-shadow: 0px 1px 3px 1px rgba(0, 0, 0, 0.15);\n",
              "      filter: drop-shadow(0px 1px 2px rgba(0, 0, 0, 0.3));\n",
              "      fill: #FFFFFF;\n",
              "    }\n",
              "  </style>\n",
              "\n",
              "      <script>\n",
              "        const buttonEl =\n",
              "          document.querySelector('#df-4d5acf35-69bf-4535-9341-38b38f71a019 button.colab-df-convert');\n",
              "        buttonEl.style.display =\n",
              "          google.colab.kernel.accessAllowed ? 'block' : 'none';\n",
              "\n",
              "        async function convertToInteractive(key) {\n",
              "          const element = document.querySelector('#df-4d5acf35-69bf-4535-9341-38b38f71a019');\n",
              "          const dataTable =\n",
              "            await google.colab.kernel.invokeFunction('convertToInteractive',\n",
              "                                                     [key], {});\n",
              "          if (!dataTable) return;\n",
              "\n",
              "          const docLinkHtml = 'Like what you see? Visit the ' +\n",
              "            '<a target=\"_blank\" href=https://colab.research.google.com/notebooks/data_table.ipynb>data table notebook</a>'\n",
              "            + ' to learn more about interactive tables.';\n",
              "          element.innerHTML = '';\n",
              "          dataTable['output_type'] = 'display_data';\n",
              "          await google.colab.output.renderOutput(dataTable, element);\n",
              "          const docLink = document.createElement('div');\n",
              "          docLink.innerHTML = docLinkHtml;\n",
              "          element.appendChild(docLink);\n",
              "        }\n",
              "      </script>\n",
              "    </div>\n",
              "  </div>\n",
              "  "
            ]
          },
          "metadata": {},
          "execution_count": 4
        }
      ]
    },
    {
      "cell_type": "code",
      "source": [
        "total_data = total_data.iloc[:, ::2]\n",
        "total_data.columns = range(total_data.shape[1])\n"
      ],
      "metadata": {
        "id": "ax0UnoV1byLU"
      },
      "execution_count": 5,
      "outputs": []
    },
    {
      "cell_type": "code",
      "source": [
        "total_data"
      ],
      "metadata": {
        "colab": {
          "base_uri": "https://localhost:8080/",
          "height": 423
        },
        "id": "_tVMsc9jOa9t",
        "outputId": "41850f45-c657-4a59-9af4-7b9268f12dc9"
      },
      "execution_count": 6,
      "outputs": [
        {
          "output_type": "execute_result",
          "data": {
            "text/plain": [
              "     0         1         2         3         4         5         6         7   \\\n",
              "0     2 -0.860107 -0.111111 -1.000000 -1.000000 -1.000000 -0.777778 -1.000000   \n",
              "1     2 -0.859671 -0.111111 -0.333333 -0.333333 -0.111111  0.333333  1.000000   \n",
              "2     2 -0.857807 -0.555556 -1.000000 -1.000000 -1.000000 -0.777778 -0.777778   \n",
              "3     2 -0.857680  0.111111  0.555556  0.555556 -1.000000 -0.555556 -0.333333   \n",
              "4     2 -0.857569 -0.333333 -1.000000 -1.000000 -0.555556 -0.777778 -1.000000   \n",
              "..   ..       ...       ...       ...       ...       ...       ...       ...   \n",
              "678   2 -0.893460 -0.555556 -1.000000 -1.000000 -1.000000 -0.555556 -0.777778   \n",
              "679   2 -0.883744 -0.777778 -1.000000 -1.000000 -1.000000 -0.777778 -1.000000   \n",
              "680   4 -0.876716 -0.111111  1.000000  1.000000 -0.555556  0.333333 -0.555556   \n",
              "681   4 -0.875424 -0.333333  0.555556  0.111111 -0.333333 -0.555556 -0.333333   \n",
              "682   4 -0.875424 -0.333333  0.555556  0.555556 -0.111111 -0.333333 -0.111111   \n",
              "\n",
              "           8         9         10  \n",
              "0   -0.555556 -1.000000 -1.000000  \n",
              "1   -0.555556 -0.777778 -1.000000  \n",
              "2   -0.555556 -1.000000 -1.000000  \n",
              "3   -0.555556  0.333333 -1.000000  \n",
              "4   -0.555556 -1.000000 -1.000000  \n",
              "..        ...       ...       ...  \n",
              "678 -1.000000 -1.000000 -1.000000  \n",
              "679 -1.000000 -1.000000 -1.000000  \n",
              "680  0.555556  1.000000 -0.777778  \n",
              "681  1.000000  0.111111 -1.000000  \n",
              "682  1.000000 -0.333333 -1.000000  \n",
              "\n",
              "[683 rows x 11 columns]"
            ],
            "text/html": [
              "\n",
              "  <div id=\"df-62901ccd-060f-4b71-876b-1ae64aa22df5\">\n",
              "    <div class=\"colab-df-container\">\n",
              "      <div>\n",
              "<style scoped>\n",
              "    .dataframe tbody tr th:only-of-type {\n",
              "        vertical-align: middle;\n",
              "    }\n",
              "\n",
              "    .dataframe tbody tr th {\n",
              "        vertical-align: top;\n",
              "    }\n",
              "\n",
              "    .dataframe thead th {\n",
              "        text-align: right;\n",
              "    }\n",
              "</style>\n",
              "<table border=\"1\" class=\"dataframe\">\n",
              "  <thead>\n",
              "    <tr style=\"text-align: right;\">\n",
              "      <th></th>\n",
              "      <th>0</th>\n",
              "      <th>1</th>\n",
              "      <th>2</th>\n",
              "      <th>3</th>\n",
              "      <th>4</th>\n",
              "      <th>5</th>\n",
              "      <th>6</th>\n",
              "      <th>7</th>\n",
              "      <th>8</th>\n",
              "      <th>9</th>\n",
              "      <th>10</th>\n",
              "    </tr>\n",
              "  </thead>\n",
              "  <tbody>\n",
              "    <tr>\n",
              "      <th>0</th>\n",
              "      <td>2</td>\n",
              "      <td>-0.860107</td>\n",
              "      <td>-0.111111</td>\n",
              "      <td>-1.000000</td>\n",
              "      <td>-1.000000</td>\n",
              "      <td>-1.000000</td>\n",
              "      <td>-0.777778</td>\n",
              "      <td>-1.000000</td>\n",
              "      <td>-0.555556</td>\n",
              "      <td>-1.000000</td>\n",
              "      <td>-1.000000</td>\n",
              "    </tr>\n",
              "    <tr>\n",
              "      <th>1</th>\n",
              "      <td>2</td>\n",
              "      <td>-0.859671</td>\n",
              "      <td>-0.111111</td>\n",
              "      <td>-0.333333</td>\n",
              "      <td>-0.333333</td>\n",
              "      <td>-0.111111</td>\n",
              "      <td>0.333333</td>\n",
              "      <td>1.000000</td>\n",
              "      <td>-0.555556</td>\n",
              "      <td>-0.777778</td>\n",
              "      <td>-1.000000</td>\n",
              "    </tr>\n",
              "    <tr>\n",
              "      <th>2</th>\n",
              "      <td>2</td>\n",
              "      <td>-0.857807</td>\n",
              "      <td>-0.555556</td>\n",
              "      <td>-1.000000</td>\n",
              "      <td>-1.000000</td>\n",
              "      <td>-1.000000</td>\n",
              "      <td>-0.777778</td>\n",
              "      <td>-0.777778</td>\n",
              "      <td>-0.555556</td>\n",
              "      <td>-1.000000</td>\n",
              "      <td>-1.000000</td>\n",
              "    </tr>\n",
              "    <tr>\n",
              "      <th>3</th>\n",
              "      <td>2</td>\n",
              "      <td>-0.857680</td>\n",
              "      <td>0.111111</td>\n",
              "      <td>0.555556</td>\n",
              "      <td>0.555556</td>\n",
              "      <td>-1.000000</td>\n",
              "      <td>-0.555556</td>\n",
              "      <td>-0.333333</td>\n",
              "      <td>-0.555556</td>\n",
              "      <td>0.333333</td>\n",
              "      <td>-1.000000</td>\n",
              "    </tr>\n",
              "    <tr>\n",
              "      <th>4</th>\n",
              "      <td>2</td>\n",
              "      <td>-0.857569</td>\n",
              "      <td>-0.333333</td>\n",
              "      <td>-1.000000</td>\n",
              "      <td>-1.000000</td>\n",
              "      <td>-0.555556</td>\n",
              "      <td>-0.777778</td>\n",
              "      <td>-1.000000</td>\n",
              "      <td>-0.555556</td>\n",
              "      <td>-1.000000</td>\n",
              "      <td>-1.000000</td>\n",
              "    </tr>\n",
              "    <tr>\n",
              "      <th>...</th>\n",
              "      <td>...</td>\n",
              "      <td>...</td>\n",
              "      <td>...</td>\n",
              "      <td>...</td>\n",
              "      <td>...</td>\n",
              "      <td>...</td>\n",
              "      <td>...</td>\n",
              "      <td>...</td>\n",
              "      <td>...</td>\n",
              "      <td>...</td>\n",
              "      <td>...</td>\n",
              "    </tr>\n",
              "    <tr>\n",
              "      <th>678</th>\n",
              "      <td>2</td>\n",
              "      <td>-0.893460</td>\n",
              "      <td>-0.555556</td>\n",
              "      <td>-1.000000</td>\n",
              "      <td>-1.000000</td>\n",
              "      <td>-1.000000</td>\n",
              "      <td>-0.555556</td>\n",
              "      <td>-0.777778</td>\n",
              "      <td>-1.000000</td>\n",
              "      <td>-1.000000</td>\n",
              "      <td>-1.000000</td>\n",
              "    </tr>\n",
              "    <tr>\n",
              "      <th>679</th>\n",
              "      <td>2</td>\n",
              "      <td>-0.883744</td>\n",
              "      <td>-0.777778</td>\n",
              "      <td>-1.000000</td>\n",
              "      <td>-1.000000</td>\n",
              "      <td>-1.000000</td>\n",
              "      <td>-0.777778</td>\n",
              "      <td>-1.000000</td>\n",
              "      <td>-1.000000</td>\n",
              "      <td>-1.000000</td>\n",
              "      <td>-1.000000</td>\n",
              "    </tr>\n",
              "    <tr>\n",
              "      <th>680</th>\n",
              "      <td>4</td>\n",
              "      <td>-0.876716</td>\n",
              "      <td>-0.111111</td>\n",
              "      <td>1.000000</td>\n",
              "      <td>1.000000</td>\n",
              "      <td>-0.555556</td>\n",
              "      <td>0.333333</td>\n",
              "      <td>-0.555556</td>\n",
              "      <td>0.555556</td>\n",
              "      <td>1.000000</td>\n",
              "      <td>-0.777778</td>\n",
              "    </tr>\n",
              "    <tr>\n",
              "      <th>681</th>\n",
              "      <td>4</td>\n",
              "      <td>-0.875424</td>\n",
              "      <td>-0.333333</td>\n",
              "      <td>0.555556</td>\n",
              "      <td>0.111111</td>\n",
              "      <td>-0.333333</td>\n",
              "      <td>-0.555556</td>\n",
              "      <td>-0.333333</td>\n",
              "      <td>1.000000</td>\n",
              "      <td>0.111111</td>\n",
              "      <td>-1.000000</td>\n",
              "    </tr>\n",
              "    <tr>\n",
              "      <th>682</th>\n",
              "      <td>4</td>\n",
              "      <td>-0.875424</td>\n",
              "      <td>-0.333333</td>\n",
              "      <td>0.555556</td>\n",
              "      <td>0.555556</td>\n",
              "      <td>-0.111111</td>\n",
              "      <td>-0.333333</td>\n",
              "      <td>-0.111111</td>\n",
              "      <td>1.000000</td>\n",
              "      <td>-0.333333</td>\n",
              "      <td>-1.000000</td>\n",
              "    </tr>\n",
              "  </tbody>\n",
              "</table>\n",
              "<p>683 rows × 11 columns</p>\n",
              "</div>\n",
              "      <button class=\"colab-df-convert\" onclick=\"convertToInteractive('df-62901ccd-060f-4b71-876b-1ae64aa22df5')\"\n",
              "              title=\"Convert this dataframe to an interactive table.\"\n",
              "              style=\"display:none;\">\n",
              "        \n",
              "  <svg xmlns=\"http://www.w3.org/2000/svg\" height=\"24px\"viewBox=\"0 0 24 24\"\n",
              "       width=\"24px\">\n",
              "    <path d=\"M0 0h24v24H0V0z\" fill=\"none\"/>\n",
              "    <path d=\"M18.56 5.44l.94 2.06.94-2.06 2.06-.94-2.06-.94-.94-2.06-.94 2.06-2.06.94zm-11 1L8.5 8.5l.94-2.06 2.06-.94-2.06-.94L8.5 2.5l-.94 2.06-2.06.94zm10 10l.94 2.06.94-2.06 2.06-.94-2.06-.94-.94-2.06-.94 2.06-2.06.94z\"/><path d=\"M17.41 7.96l-1.37-1.37c-.4-.4-.92-.59-1.43-.59-.52 0-1.04.2-1.43.59L10.3 9.45l-7.72 7.72c-.78.78-.78 2.05 0 2.83L4 21.41c.39.39.9.59 1.41.59.51 0 1.02-.2 1.41-.59l7.78-7.78 2.81-2.81c.8-.78.8-2.07 0-2.86zM5.41 20L4 18.59l7.72-7.72 1.47 1.35L5.41 20z\"/>\n",
              "  </svg>\n",
              "      </button>\n",
              "      \n",
              "  <style>\n",
              "    .colab-df-container {\n",
              "      display:flex;\n",
              "      flex-wrap:wrap;\n",
              "      gap: 12px;\n",
              "    }\n",
              "\n",
              "    .colab-df-convert {\n",
              "      background-color: #E8F0FE;\n",
              "      border: none;\n",
              "      border-radius: 50%;\n",
              "      cursor: pointer;\n",
              "      display: none;\n",
              "      fill: #1967D2;\n",
              "      height: 32px;\n",
              "      padding: 0 0 0 0;\n",
              "      width: 32px;\n",
              "    }\n",
              "\n",
              "    .colab-df-convert:hover {\n",
              "      background-color: #E2EBFA;\n",
              "      box-shadow: 0px 1px 2px rgba(60, 64, 67, 0.3), 0px 1px 3px 1px rgba(60, 64, 67, 0.15);\n",
              "      fill: #174EA6;\n",
              "    }\n",
              "\n",
              "    [theme=dark] .colab-df-convert {\n",
              "      background-color: #3B4455;\n",
              "      fill: #D2E3FC;\n",
              "    }\n",
              "\n",
              "    [theme=dark] .colab-df-convert:hover {\n",
              "      background-color: #434B5C;\n",
              "      box-shadow: 0px 1px 3px 1px rgba(0, 0, 0, 0.15);\n",
              "      filter: drop-shadow(0px 1px 2px rgba(0, 0, 0, 0.3));\n",
              "      fill: #FFFFFF;\n",
              "    }\n",
              "  </style>\n",
              "\n",
              "      <script>\n",
              "        const buttonEl =\n",
              "          document.querySelector('#df-62901ccd-060f-4b71-876b-1ae64aa22df5 button.colab-df-convert');\n",
              "        buttonEl.style.display =\n",
              "          google.colab.kernel.accessAllowed ? 'block' : 'none';\n",
              "\n",
              "        async function convertToInteractive(key) {\n",
              "          const element = document.querySelector('#df-62901ccd-060f-4b71-876b-1ae64aa22df5');\n",
              "          const dataTable =\n",
              "            await google.colab.kernel.invokeFunction('convertToInteractive',\n",
              "                                                     [key], {});\n",
              "          if (!dataTable) return;\n",
              "\n",
              "          const docLinkHtml = 'Like what you see? Visit the ' +\n",
              "            '<a target=\"_blank\" href=https://colab.research.google.com/notebooks/data_table.ipynb>data table notebook</a>'\n",
              "            + ' to learn more about interactive tables.';\n",
              "          element.innerHTML = '';\n",
              "          dataTable['output_type'] = 'display_data';\n",
              "          await google.colab.output.renderOutput(dataTable, element);\n",
              "          const docLink = document.createElement('div');\n",
              "          docLink.innerHTML = docLinkHtml;\n",
              "          element.appendChild(docLink);\n",
              "        }\n",
              "      </script>\n",
              "    </div>\n",
              "  </div>\n",
              "  "
            ]
          },
          "metadata": {},
          "execution_count": 6
        }
      ]
    },
    {
      "cell_type": "code",
      "source": [
        "print(total_data.loc[0, 1])"
      ],
      "metadata": {
        "colab": {
          "base_uri": "https://localhost:8080/"
        },
        "id": "7A-w5KCQOrLq",
        "outputId": "8a6315b9-10fa-4b07-b26c-1b87ca2361a7"
      },
      "execution_count": 7,
      "outputs": [
        {
          "output_type": "stream",
          "name": "stdout",
          "text": [
            "-0.860107\n"
          ]
        }
      ]
    },
    {
      "cell_type": "code",
      "source": [
        "train_indices = pd.read_csv(\"/content/breast-cancer-scale-train-indices.txt\",header=None)\n",
        "test_indices = pd.read_csv(\"/content/breast-cancer-scale-test-indices.txt\",header=None)"
      ],
      "metadata": {
        "id": "gP9RAKPhQiHh"
      },
      "execution_count": 8,
      "outputs": []
    },
    {
      "cell_type": "code",
      "source": [
        "# Select rows from data based on train_indices\n",
        "train_data = total_data[total_data.index.isin(train_indices[0].values-1)]\n",
        "\n",
        "# Select rows from data based on test_indices\n",
        "test_data = total_data[total_data.index.isin(test_indices[0].values-1)]\n"
      ],
      "metadata": {
        "id": "JEJlA7KJR8V2"
      },
      "execution_count": 9,
      "outputs": []
    },
    {
      "cell_type": "code",
      "source": [
        "train_data"
      ],
      "metadata": {
        "colab": {
          "base_uri": "https://localhost:8080/",
          "height": 423
        },
        "id": "y0GPum8OSPTy",
        "outputId": "3a15beb5-8642-4fef-dcf6-3ddd3246f0a0"
      },
      "execution_count": 10,
      "outputs": [
        {
          "output_type": "execute_result",
          "data": {
            "text/plain": [
              "     0         1         2         3         4         5         6         7   \\\n",
              "2     2 -0.857807 -0.555556 -1.000000 -1.000000 -1.000000 -0.777778 -0.777778   \n",
              "4     2 -0.857569 -0.333333 -1.000000 -1.000000 -0.555556 -0.777778 -1.000000   \n",
              "5     4 -0.857554  0.555556  1.000000  1.000000  0.555556  0.333333  1.000000   \n",
              "6     2 -0.857408 -1.000000 -1.000000 -1.000000 -1.000000 -0.777778  1.000000   \n",
              "7     2 -0.857339 -0.777778 -1.000000 -0.777778 -1.000000 -0.777778 -1.000000   \n",
              "..   ..       ...       ...       ...       ...       ...       ...       ...   \n",
              "674   2 -0.911706 -1.000000 -1.000000 -1.000000 -0.555556 -0.777778 -1.000000   \n",
              "675   4 -0.905650 -0.111111  1.000000  1.000000 -0.111111 -0.333333 -0.111111   \n",
              "676   2 -0.902821 -0.555556 -1.000000 -1.000000 -1.000000 -0.777778 -1.000000   \n",
              "677   2 -0.895473 -0.555556 -1.000000 -1.000000 -1.000000 -0.777778 -1.000000   \n",
              "681   4 -0.875424 -0.333333  0.555556  0.111111 -0.333333 -0.555556 -0.333333   \n",
              "\n",
              "           8         9         10  \n",
              "2   -0.555556 -1.000000 -1.000000  \n",
              "4   -0.555556 -1.000000 -1.000000  \n",
              "5    0.777778  0.333333 -1.000000  \n",
              "6   -0.555556 -1.000000 -1.000000  \n",
              "7   -0.555556 -1.000000 -1.000000  \n",
              "..        ...       ...       ...  \n",
              "674 -1.000000 -1.000000 -1.000000  \n",
              "675 -0.333333 -0.333333 -1.000000  \n",
              "676 -1.000000 -1.000000 -1.000000  \n",
              "677 -0.777778 -1.000000 -0.777778  \n",
              "681  1.000000  0.111111 -1.000000  \n",
              "\n",
              "[500 rows x 11 columns]"
            ],
            "text/html": [
              "\n",
              "  <div id=\"df-0506ee2e-5225-4721-9c40-d247ca025fa0\">\n",
              "    <div class=\"colab-df-container\">\n",
              "      <div>\n",
              "<style scoped>\n",
              "    .dataframe tbody tr th:only-of-type {\n",
              "        vertical-align: middle;\n",
              "    }\n",
              "\n",
              "    .dataframe tbody tr th {\n",
              "        vertical-align: top;\n",
              "    }\n",
              "\n",
              "    .dataframe thead th {\n",
              "        text-align: right;\n",
              "    }\n",
              "</style>\n",
              "<table border=\"1\" class=\"dataframe\">\n",
              "  <thead>\n",
              "    <tr style=\"text-align: right;\">\n",
              "      <th></th>\n",
              "      <th>0</th>\n",
              "      <th>1</th>\n",
              "      <th>2</th>\n",
              "      <th>3</th>\n",
              "      <th>4</th>\n",
              "      <th>5</th>\n",
              "      <th>6</th>\n",
              "      <th>7</th>\n",
              "      <th>8</th>\n",
              "      <th>9</th>\n",
              "      <th>10</th>\n",
              "    </tr>\n",
              "  </thead>\n",
              "  <tbody>\n",
              "    <tr>\n",
              "      <th>2</th>\n",
              "      <td>2</td>\n",
              "      <td>-0.857807</td>\n",
              "      <td>-0.555556</td>\n",
              "      <td>-1.000000</td>\n",
              "      <td>-1.000000</td>\n",
              "      <td>-1.000000</td>\n",
              "      <td>-0.777778</td>\n",
              "      <td>-0.777778</td>\n",
              "      <td>-0.555556</td>\n",
              "      <td>-1.000000</td>\n",
              "      <td>-1.000000</td>\n",
              "    </tr>\n",
              "    <tr>\n",
              "      <th>4</th>\n",
              "      <td>2</td>\n",
              "      <td>-0.857569</td>\n",
              "      <td>-0.333333</td>\n",
              "      <td>-1.000000</td>\n",
              "      <td>-1.000000</td>\n",
              "      <td>-0.555556</td>\n",
              "      <td>-0.777778</td>\n",
              "      <td>-1.000000</td>\n",
              "      <td>-0.555556</td>\n",
              "      <td>-1.000000</td>\n",
              "      <td>-1.000000</td>\n",
              "    </tr>\n",
              "    <tr>\n",
              "      <th>5</th>\n",
              "      <td>4</td>\n",
              "      <td>-0.857554</td>\n",
              "      <td>0.555556</td>\n",
              "      <td>1.000000</td>\n",
              "      <td>1.000000</td>\n",
              "      <td>0.555556</td>\n",
              "      <td>0.333333</td>\n",
              "      <td>1.000000</td>\n",
              "      <td>0.777778</td>\n",
              "      <td>0.333333</td>\n",
              "      <td>-1.000000</td>\n",
              "    </tr>\n",
              "    <tr>\n",
              "      <th>6</th>\n",
              "      <td>2</td>\n",
              "      <td>-0.857408</td>\n",
              "      <td>-1.000000</td>\n",
              "      <td>-1.000000</td>\n",
              "      <td>-1.000000</td>\n",
              "      <td>-1.000000</td>\n",
              "      <td>-0.777778</td>\n",
              "      <td>1.000000</td>\n",
              "      <td>-0.555556</td>\n",
              "      <td>-1.000000</td>\n",
              "      <td>-1.000000</td>\n",
              "    </tr>\n",
              "    <tr>\n",
              "      <th>7</th>\n",
              "      <td>2</td>\n",
              "      <td>-0.857339</td>\n",
              "      <td>-0.777778</td>\n",
              "      <td>-1.000000</td>\n",
              "      <td>-0.777778</td>\n",
              "      <td>-1.000000</td>\n",
              "      <td>-0.777778</td>\n",
              "      <td>-1.000000</td>\n",
              "      <td>-0.555556</td>\n",
              "      <td>-1.000000</td>\n",
              "      <td>-1.000000</td>\n",
              "    </tr>\n",
              "    <tr>\n",
              "      <th>...</th>\n",
              "      <td>...</td>\n",
              "      <td>...</td>\n",
              "      <td>...</td>\n",
              "      <td>...</td>\n",
              "      <td>...</td>\n",
              "      <td>...</td>\n",
              "      <td>...</td>\n",
              "      <td>...</td>\n",
              "      <td>...</td>\n",
              "      <td>...</td>\n",
              "      <td>...</td>\n",
              "    </tr>\n",
              "    <tr>\n",
              "      <th>674</th>\n",
              "      <td>2</td>\n",
              "      <td>-0.911706</td>\n",
              "      <td>-1.000000</td>\n",
              "      <td>-1.000000</td>\n",
              "      <td>-1.000000</td>\n",
              "      <td>-0.555556</td>\n",
              "      <td>-0.777778</td>\n",
              "      <td>-1.000000</td>\n",
              "      <td>-1.000000</td>\n",
              "      <td>-1.000000</td>\n",
              "      <td>-1.000000</td>\n",
              "    </tr>\n",
              "    <tr>\n",
              "      <th>675</th>\n",
              "      <td>4</td>\n",
              "      <td>-0.905650</td>\n",
              "      <td>-0.111111</td>\n",
              "      <td>1.000000</td>\n",
              "      <td>1.000000</td>\n",
              "      <td>-0.111111</td>\n",
              "      <td>-0.333333</td>\n",
              "      <td>-0.111111</td>\n",
              "      <td>-0.333333</td>\n",
              "      <td>-0.333333</td>\n",
              "      <td>-1.000000</td>\n",
              "    </tr>\n",
              "    <tr>\n",
              "      <th>676</th>\n",
              "      <td>2</td>\n",
              "      <td>-0.902821</td>\n",
              "      <td>-0.555556</td>\n",
              "      <td>-1.000000</td>\n",
              "      <td>-1.000000</td>\n",
              "      <td>-1.000000</td>\n",
              "      <td>-0.777778</td>\n",
              "      <td>-1.000000</td>\n",
              "      <td>-1.000000</td>\n",
              "      <td>-1.000000</td>\n",
              "      <td>-1.000000</td>\n",
              "    </tr>\n",
              "    <tr>\n",
              "      <th>677</th>\n",
              "      <td>2</td>\n",
              "      <td>-0.895473</td>\n",
              "      <td>-0.555556</td>\n",
              "      <td>-1.000000</td>\n",
              "      <td>-1.000000</td>\n",
              "      <td>-1.000000</td>\n",
              "      <td>-0.777778</td>\n",
              "      <td>-1.000000</td>\n",
              "      <td>-0.777778</td>\n",
              "      <td>-1.000000</td>\n",
              "      <td>-0.777778</td>\n",
              "    </tr>\n",
              "    <tr>\n",
              "      <th>681</th>\n",
              "      <td>4</td>\n",
              "      <td>-0.875424</td>\n",
              "      <td>-0.333333</td>\n",
              "      <td>0.555556</td>\n",
              "      <td>0.111111</td>\n",
              "      <td>-0.333333</td>\n",
              "      <td>-0.555556</td>\n",
              "      <td>-0.333333</td>\n",
              "      <td>1.000000</td>\n",
              "      <td>0.111111</td>\n",
              "      <td>-1.000000</td>\n",
              "    </tr>\n",
              "  </tbody>\n",
              "</table>\n",
              "<p>500 rows × 11 columns</p>\n",
              "</div>\n",
              "      <button class=\"colab-df-convert\" onclick=\"convertToInteractive('df-0506ee2e-5225-4721-9c40-d247ca025fa0')\"\n",
              "              title=\"Convert this dataframe to an interactive table.\"\n",
              "              style=\"display:none;\">\n",
              "        \n",
              "  <svg xmlns=\"http://www.w3.org/2000/svg\" height=\"24px\"viewBox=\"0 0 24 24\"\n",
              "       width=\"24px\">\n",
              "    <path d=\"M0 0h24v24H0V0z\" fill=\"none\"/>\n",
              "    <path d=\"M18.56 5.44l.94 2.06.94-2.06 2.06-.94-2.06-.94-.94-2.06-.94 2.06-2.06.94zm-11 1L8.5 8.5l.94-2.06 2.06-.94-2.06-.94L8.5 2.5l-.94 2.06-2.06.94zm10 10l.94 2.06.94-2.06 2.06-.94-2.06-.94-.94-2.06-.94 2.06-2.06.94z\"/><path d=\"M17.41 7.96l-1.37-1.37c-.4-.4-.92-.59-1.43-.59-.52 0-1.04.2-1.43.59L10.3 9.45l-7.72 7.72c-.78.78-.78 2.05 0 2.83L4 21.41c.39.39.9.59 1.41.59.51 0 1.02-.2 1.41-.59l7.78-7.78 2.81-2.81c.8-.78.8-2.07 0-2.86zM5.41 20L4 18.59l7.72-7.72 1.47 1.35L5.41 20z\"/>\n",
              "  </svg>\n",
              "      </button>\n",
              "      \n",
              "  <style>\n",
              "    .colab-df-container {\n",
              "      display:flex;\n",
              "      flex-wrap:wrap;\n",
              "      gap: 12px;\n",
              "    }\n",
              "\n",
              "    .colab-df-convert {\n",
              "      background-color: #E8F0FE;\n",
              "      border: none;\n",
              "      border-radius: 50%;\n",
              "      cursor: pointer;\n",
              "      display: none;\n",
              "      fill: #1967D2;\n",
              "      height: 32px;\n",
              "      padding: 0 0 0 0;\n",
              "      width: 32px;\n",
              "    }\n",
              "\n",
              "    .colab-df-convert:hover {\n",
              "      background-color: #E2EBFA;\n",
              "      box-shadow: 0px 1px 2px rgba(60, 64, 67, 0.3), 0px 1px 3px 1px rgba(60, 64, 67, 0.15);\n",
              "      fill: #174EA6;\n",
              "    }\n",
              "\n",
              "    [theme=dark] .colab-df-convert {\n",
              "      background-color: #3B4455;\n",
              "      fill: #D2E3FC;\n",
              "    }\n",
              "\n",
              "    [theme=dark] .colab-df-convert:hover {\n",
              "      background-color: #434B5C;\n",
              "      box-shadow: 0px 1px 3px 1px rgba(0, 0, 0, 0.15);\n",
              "      filter: drop-shadow(0px 1px 2px rgba(0, 0, 0, 0.3));\n",
              "      fill: #FFFFFF;\n",
              "    }\n",
              "  </style>\n",
              "\n",
              "      <script>\n",
              "        const buttonEl =\n",
              "          document.querySelector('#df-0506ee2e-5225-4721-9c40-d247ca025fa0 button.colab-df-convert');\n",
              "        buttonEl.style.display =\n",
              "          google.colab.kernel.accessAllowed ? 'block' : 'none';\n",
              "\n",
              "        async function convertToInteractive(key) {\n",
              "          const element = document.querySelector('#df-0506ee2e-5225-4721-9c40-d247ca025fa0');\n",
              "          const dataTable =\n",
              "            await google.colab.kernel.invokeFunction('convertToInteractive',\n",
              "                                                     [key], {});\n",
              "          if (!dataTable) return;\n",
              "\n",
              "          const docLinkHtml = 'Like what you see? Visit the ' +\n",
              "            '<a target=\"_blank\" href=https://colab.research.google.com/notebooks/data_table.ipynb>data table notebook</a>'\n",
              "            + ' to learn more about interactive tables.';\n",
              "          element.innerHTML = '';\n",
              "          dataTable['output_type'] = 'display_data';\n",
              "          await google.colab.output.renderOutput(dataTable, element);\n",
              "          const docLink = document.createElement('div');\n",
              "          docLink.innerHTML = docLinkHtml;\n",
              "          element.appendChild(docLink);\n",
              "        }\n",
              "      </script>\n",
              "    </div>\n",
              "  </div>\n",
              "  "
            ]
          },
          "metadata": {},
          "execution_count": 10
        }
      ]
    },
    {
      "cell_type": "code",
      "source": [
        "# Split train_data into X_train and y_train\n",
        "X_train = train_data.drop(columns=train_data.columns[0]).values\n",
        "y_train = train_data.iloc[:, 0].values.reshape(-1, 1)\n",
        "\n",
        "# Split test_data into X_test and y_test\n",
        "X_test = test_data.drop(columns=test_data.columns[0]).values\n",
        "y_test = test_data.iloc[:, 0].values.reshape(-1, 1)\n"
      ],
      "metadata": {
        "id": "9zOU9LfZTjVK"
      },
      "execution_count": 11,
      "outputs": []
    },
    {
      "cell_type": "code",
      "source": [
        "\n",
        "C_list = [0.1, 1, 10, 100, 1000]\n",
        "Cross_Validation_accuracy=[]\n",
        "for c in C_list:\n",
        "    print(f\"Training C={c}\")\n",
        "    params = f\"-c {c} -s 0 -v 5\"\n",
        "    train_acc=train(y_train.ravel(), X_train, params)\n",
        "    Cross_Validation_accuracy.append(train_acc)\n",
        "    print(\"Training Error=\", 100-train_acc)\n",
        "    print()\n"
      ],
      "metadata": {
        "colab": {
          "base_uri": "https://localhost:8080/"
        },
        "id": "miMW2YUiUYhO",
        "outputId": "5c93f9cc-59a9-424e-acdf-fd9e1f5e961b"
      },
      "execution_count": 13,
      "outputs": [
        {
          "output_type": "stream",
          "name": "stdout",
          "text": [
            "Training C=0.1\n",
            "Cross Validation Accuracy = 95.8%\n",
            "Training Error= 4.200000000000003\n",
            "\n",
            "Training C=1\n",
            "Cross Validation Accuracy = 96.6%\n",
            "Training Error= 3.4000000000000057\n",
            "\n",
            "Training C=10\n",
            "Cross Validation Accuracy = 96.8%\n",
            "Training Error= 3.200000000000003\n",
            "\n",
            "Training C=100\n",
            "Cross Validation Accuracy = 97%\n",
            "Training Error= 3.0\n",
            "\n",
            "Training C=1000\n",
            "Cross Validation Accuracy = 97%\n",
            "Training Error= 3.0\n",
            "\n"
          ]
        }
      ]
    },
    {
      "cell_type": "code",
      "source": [
        "print(\"Best accuracy = \",max(Cross_Validation_accuracy), \"%\")\n",
        "print(\"Best C value = \",C_list[Cross_Validation_accuracy.index(max(Cross_Validation_accuracy))])"
      ],
      "metadata": {
        "colab": {
          "base_uri": "https://localhost:8080/"
        },
        "id": "GPq7W7VGViAj",
        "outputId": "ca410aff-70a8-484a-c829-b4590242d52a"
      },
      "execution_count": 14,
      "outputs": [
        {
          "output_type": "stream",
          "name": "stdout",
          "text": [
            "Best accuracy =  97.0 %\n",
            "Best C value =  100\n"
          ]
        }
      ]
    },
    {
      "cell_type": "code",
      "source": [
        "error_rate=100-max(Cross_Validation_accuracy)\n",
        "print(\"Error Rate Percentage for Breast Cancer Data(Training Data)=\", error_rate, \"%\")"
      ],
      "metadata": {
        "colab": {
          "base_uri": "https://localhost:8080/"
        },
        "id": "zbtZTS83kzuH",
        "outputId": "20969664-2f26-406a-94bd-e212ce1fc34f"
      },
      "execution_count": 15,
      "outputs": [
        {
          "output_type": "stream",
          "name": "stdout",
          "text": [
            "Error Rate Percentage for Breast Cancer Data(Training Data)= 3.0 %\n"
          ]
        }
      ]
    },
    {
      "cell_type": "code",
      "source": [
        "model = train(y_train.ravel(), X_train, '-c 10 -s 0')\n",
        "y_pred, _, _ = predict(y_test.ravel(), X_test, model)\n"
      ],
      "metadata": {
        "colab": {
          "base_uri": "https://localhost:8080/"
        },
        "id": "9bZu9Fk9WjR7",
        "outputId": "1febe457-c1c2-4c03-f43b-4f3b20b8ee77"
      },
      "execution_count": 16,
      "outputs": [
        {
          "output_type": "stream",
          "name": "stdout",
          "text": [
            "Accuracy = 96.1749% (176/183) (classification)\n"
          ]
        }
      ]
    },
    {
      "cell_type": "code",
      "source": [
        "acc = accuracy_score(y_test.tolist(), y_pred)\n",
        "print(acc)"
      ],
      "metadata": {
        "colab": {
          "base_uri": "https://localhost:8080/"
        },
        "id": "nYoQ_mb1YVMN",
        "outputId": "d99a80a4-e05f-4214-c899-31ad34b25f70"
      },
      "execution_count": 17,
      "outputs": [
        {
          "output_type": "stream",
          "name": "stdout",
          "text": [
            "0.9617486338797814\n"
          ]
        }
      ]
    },
    {
      "cell_type": "code",
      "source": [
        "error_rate=1-acc"
      ],
      "metadata": {
        "id": "Jd9rD6sZjQJA"
      },
      "execution_count": 18,
      "outputs": []
    },
    {
      "cell_type": "code",
      "source": [
        "error_rate_percent=error_rate*100\n",
        "print(\"Error Rate Percentage for Breast Cancer Data=\", error_rate_percent, \"%\")"
      ],
      "metadata": {
        "colab": {
          "base_uri": "https://localhost:8080/"
        },
        "id": "EsKqVwgijUhj",
        "outputId": "32e37a4e-87a1-4464-911d-22cd12f32bac"
      },
      "execution_count": 19,
      "outputs": [
        {
          "output_type": "stream",
          "name": "stdout",
          "text": [
            "Error Rate Percentage for Breast Cancer Data= 3.825136612021862 %\n"
          ]
        }
      ]
    },
    {
      "cell_type": "markdown",
      "source": [
        "# **SONAR DATA:**"
      ],
      "metadata": {
        "id": "pvVWYKu8Zmi1"
      }
    },
    {
      "cell_type": "code",
      "source": [
        "X_total, y_total=load_svmlight_file(\"/content/sonar_scale.txt\")"
      ],
      "metadata": {
        "id": "Ix20b0D4CZCH"
      },
      "execution_count": 20,
      "outputs": []
    },
    {
      "cell_type": "code",
      "source": [
        "X_total"
      ],
      "metadata": {
        "colab": {
          "base_uri": "https://localhost:8080/"
        },
        "id": "eTPQw4jwCkh8",
        "outputId": "02b80e9c-8eec-4c85-fe40-f5eaf6692fb9"
      },
      "execution_count": 21,
      "outputs": [
        {
          "output_type": "execute_result",
          "data": {
            "text/plain": [
              "<208x60 sparse matrix of type '<class 'numpy.float64'>'\n",
              "\twith 12479 stored elements in Compressed Sparse Row format>"
            ]
          },
          "metadata": {},
          "execution_count": 21
        }
      ]
    },
    {
      "cell_type": "code",
      "source": [
        "train_indices = np.loadtxt('/content/sonar-scale-train-indices.txt', dtype=int)\n",
        "test_indices = np.loadtxt('/content/sonar-scale-test-indices.txt', dtype=int)"
      ],
      "metadata": {
        "id": "NyK-Q2SiEqCj"
      },
      "execution_count": 22,
      "outputs": []
    },
    {
      "cell_type": "code",
      "source": [
        "X_train =X_total[train_indices - 1]\n",
        "y_train =y_total[train_indices -1]\n",
        "X_test  =X_total[test_indices - 1]\n",
        "y_test  =y_total[test_indices - 1]"
      ],
      "metadata": {
        "id": "-K6ryXkyC-lM"
      },
      "execution_count": 23,
      "outputs": []
    },
    {
      "cell_type": "code",
      "source": [
        "C_list = [0.1, 1, 10, 100, 1000]\n",
        "Cross_Validation_accuracy=[]\n",
        "for c in C_list:\n",
        "    print(f\"Training C={c}\")\n",
        "    params = f\"-c {c} -s 0 -v 5\"\n",
        "    train_acc=train(y_train.ravel(), X_train, params)\n",
        "    Cross_Validation_accuracy.append(train_acc)\n",
        "    print(\"Training Error=\", 100-train_acc)\n",
        "    print()"
      ],
      "metadata": {
        "colab": {
          "base_uri": "https://localhost:8080/"
        },
        "id": "T1sPCFsyaL1m",
        "outputId": "a203dfbc-0fd6-4224-a336-c21c55297e57"
      },
      "execution_count": 24,
      "outputs": [
        {
          "output_type": "stream",
          "name": "stdout",
          "text": [
            "Training C=0.1\n",
            "Cross Validation Accuracy = 71.3333%\n",
            "Training Error= 28.666666666666657\n",
            "\n",
            "Training C=1\n",
            "Cross Validation Accuracy = 74%\n",
            "Training Error= 26.0\n",
            "\n",
            "Training C=10\n",
            "Cross Validation Accuracy = 74%\n",
            "Training Error= 26.0\n",
            "\n",
            "Training C=100\n",
            "Cross Validation Accuracy = 71.3333%\n",
            "Training Error= 28.666666666666657\n",
            "\n",
            "Training C=1000\n",
            "Cross Validation Accuracy = 70.6667%\n",
            "Training Error= 29.33333333333333\n",
            "\n"
          ]
        }
      ]
    },
    {
      "cell_type": "code",
      "source": [
        "print(\"Best accuracy = \",max(Cross_Validation_accuracy),\"%\")\n",
        "print(\"Best C value = \",C_list[Cross_Validation_accuracy.index(max(Cross_Validation_accuracy))])"
      ],
      "metadata": {
        "colab": {
          "base_uri": "https://localhost:8080/"
        },
        "id": "NChaf0GVaSWB",
        "outputId": "a1ccdc0b-2b56-44d4-a9f3-d3645033947f"
      },
      "execution_count": 25,
      "outputs": [
        {
          "output_type": "stream",
          "name": "stdout",
          "text": [
            "Best accuracy =  74.0 %\n",
            "Best C value =  1\n"
          ]
        }
      ]
    },
    {
      "cell_type": "code",
      "source": [
        "error_rate=100-max(Cross_Validation_accuracy)\n",
        "print(\"Error Rate Percentage for Sonar Data(Training Data)=\", error_rate, \"%\")"
      ],
      "metadata": {
        "colab": {
          "base_uri": "https://localhost:8080/"
        },
        "id": "03srPczCj_Dn",
        "outputId": "53ae430a-c550-495d-90dd-7001d012b773"
      },
      "execution_count": 26,
      "outputs": [
        {
          "output_type": "stream",
          "name": "stdout",
          "text": [
            "Error Rate Percentage for Sonar Data(Training Data)= 26.0 %\n"
          ]
        }
      ]
    },
    {
      "cell_type": "code",
      "source": [
        "model = train(y_train.ravel(), X_train, '-c 10 -s 0')\n",
        "y_pred, _, _ = predict(y_test.ravel(), X_test, model)"
      ],
      "metadata": {
        "colab": {
          "base_uri": "https://localhost:8080/"
        },
        "id": "4PfYYg02aYLT",
        "outputId": "ab2233cb-c67b-4f15-911f-f612aee966ea"
      },
      "execution_count": 27,
      "outputs": [
        {
          "output_type": "stream",
          "name": "stdout",
          "text": [
            "Accuracy = 72.4138% (42/58) (classification)\n"
          ]
        }
      ]
    },
    {
      "cell_type": "code",
      "source": [
        "acc = accuracy_score(y_test.tolist(), y_pred)\n",
        "print(acc)"
      ],
      "metadata": {
        "colab": {
          "base_uri": "https://localhost:8080/"
        },
        "id": "tGllyvTxaajc",
        "outputId": "6e7a1c70-d140-49b0-e249-92075cd303b6"
      },
      "execution_count": 28,
      "outputs": [
        {
          "output_type": "stream",
          "name": "stdout",
          "text": [
            "0.7241379310344828\n"
          ]
        }
      ]
    },
    {
      "cell_type": "code",
      "source": [
        "error_rate=1-acc\n",
        "error_rate_percent=error_rate*100\n",
        "print(\"Error Rate Percentage for Sonar Data=\", error_rate_percent, \"%\")"
      ],
      "metadata": {
        "colab": {
          "base_uri": "https://localhost:8080/"
        },
        "id": "tn39ur2ujp7y",
        "outputId": "55530a7f-f009-40a8-bf1c-730a42100f3a"
      },
      "execution_count": 29,
      "outputs": [
        {
          "output_type": "stream",
          "name": "stdout",
          "text": [
            "Error Rate Percentage for Sonar Data= 27.586206896551722 %\n"
          ]
        }
      ]
    },
    {
      "cell_type": "markdown",
      "source": [
        "# **ACCURACY COMPARISON**"
      ],
      "metadata": {
        "id": "zQ9YsD-fb-Pb"
      }
    },
    {
      "cell_type": "markdown",
      "source": [
        "\\begin{array}{|c|c|c|c|} \\hline\n",
        "Data & Best C val & Training Error & Test Accuracy\\\\ \\hline\n",
        "Breast Cancer & 100 & 97.0\\% & 96.17\\%\\\\ \\hline\n",
        "Sonar & 1 & 74.0\\% & 72.41\\%\\\\ \\hline\n",
        "\\end{array}"
      ],
      "metadata": {
        "id": "s2zO5DuJhpMv"
      }
    },
    {
      "cell_type": "markdown",
      "source": [
        "# **ERROR RATE COMPARISON (As per Question)**\n",
        "\n",
        "**Calculated Error Rate=100 - Accuracy (in percentage)**"
      ],
      "metadata": {
        "id": "WslBxVWNhtWA"
      }
    },
    {
      "cell_type": "markdown",
      "source": [
        "\\begin{array}{|c|c|c|c|} \\hline\n",
        "Data & Best C val & Training Error & Test Error\\\\ \\hline\n",
        "Breast Cancer & 100 & 3.0\\% & 3.83\\%\\\\ \\hline\n",
        "Sonar & 1 & 26.0\\% & 27.59\\%\\\\ \\hline\n",
        "\\end{array}"
      ],
      "metadata": {
        "id": "Qfyi0DjbdHR5"
      }
    },
    {
      "cell_type": "markdown",
      "source": [
        "# ***OBSERVATION ANALYSIS***\n",
        "\n",
        "The accuracy of a logistic regression model can vary based on the dataset because different datasets may have different characteristics, such as the number of features, the distribution of the features, and the class balance. These characteristics can affect the performance of the logistic regression model in several ways:\n",
        "\n",
        "**Number of features**: The number of features in the dataset can affect the performance of the logistic regression model. If the dataset has a large number of features, the model may have a higher risk of overfitting, which can lead to poor performance on new, unseen data. On the other hand, if the dataset has a small number of features, the model may not be able to capture all the relevant information, which can also lead to poor performance.\n",
        "\n",
        "**Distribution of the features**: The distribution of the features in the dataset can also affect the performance of the logistic regression model. If the features have different scales or distributions, some features may have a higher impact on the model than others. This can lead to a lower accuracy if important features are not properly weighted.\n",
        "\n",
        "**Class balance**: The class balance in the dataset can also affect the performance of the logistic regression model. If the classes are imbalanced, with one class having significantly more samples than the other, the model may be biased towards the majority class. This can lead to a lower accuracy on the minority class."
      ],
      "metadata": {
        "id": "0wKVhxwBeIyK"
      }
    }
  ]
}