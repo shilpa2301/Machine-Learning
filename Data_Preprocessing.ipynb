{
  "nbformat": 4,
  "nbformat_minor": 0,
  "metadata": {
    "colab": {
      "provenance": []
    },
    "kernelspec": {
      "name": "python3",
      "display_name": "Python 3"
    },
    "language_info": {
      "name": "python"
    }
  },
  "cells": [
    {
      "cell_type": "code",
      "execution_count": 1,
      "metadata": {
        "id": "PGMqyhW7DmVB",
        "colab": {
          "base_uri": "https://localhost:8080/"
        },
        "outputId": "739a3c58-4519-4fb8-afd6-bf01be8bca87"
      },
      "outputs": [
        {
          "output_type": "stream",
          "name": "stdout",
          "text": [
            "Looking in indexes: https://pypi.org/simple, https://us-python.pkg.dev/colab-wheels/public/simple/\n",
            "Collecting libsvm-official\n",
            "  Downloading libsvm-official-3.31.0.tar.gz (39 kB)\n",
            "  Preparing metadata (setup.py) ... \u001b[?25l\u001b[?25hdone\n",
            "Requirement already satisfied: scipy in /usr/local/lib/python3.10/dist-packages (from libsvm-official) (1.10.1)\n",
            "Requirement already satisfied: numpy<1.27.0,>=1.19.5 in /usr/local/lib/python3.10/dist-packages (from scipy->libsvm-official) (1.22.4)\n",
            "Building wheels for collected packages: libsvm-official\n",
            "  Building wheel for libsvm-official (setup.py) ... \u001b[?25l\u001b[?25hdone\n",
            "  Created wheel for libsvm-official: filename=libsvm_official-3.31.0-cp310-cp310-linux_x86_64.whl size=125903 sha256=f135db10782e5230cefbf98cc0d912821ce3127810588b45b433474f1433b59e\n",
            "  Stored in directory: /root/.cache/pip/wheels/93/04/ec/306a03478d811cf83c10665ca5e60231f47360a367e06d94d0\n",
            "Successfully built libsvm-official\n",
            "Installing collected packages: libsvm-official\n",
            "Successfully installed libsvm-official-3.31.0\n"
          ]
        }
      ],
      "source": [
        "!pip install -U libsvm-official"
      ]
    },
    {
      "cell_type": "code",
      "source": [
        "!pip install -U liblinear-official"
      ],
      "metadata": {
        "id": "3EAUEsNRDvpY",
        "colab": {
          "base_uri": "https://localhost:8080/"
        },
        "outputId": "9df59f07-a5ee-436b-ae14-0a3f745995ba"
      },
      "execution_count": 2,
      "outputs": [
        {
          "output_type": "stream",
          "name": "stdout",
          "text": [
            "Looking in indexes: https://pypi.org/simple, https://us-python.pkg.dev/colab-wheels/public/simple/\n",
            "Collecting liblinear-official\n",
            "  Downloading liblinear-official-2.46.1.tar.gz (46 kB)\n",
            "\u001b[2K     \u001b[90m━━━━━━━━━━━━━━━━━━━━━━━━━━━━━━━━━━━━━━━━\u001b[0m \u001b[32m46.9/46.9 kB\u001b[0m \u001b[31m4.1 MB/s\u001b[0m eta \u001b[36m0:00:00\u001b[0m\n",
            "\u001b[?25h  Preparing metadata (setup.py) ... \u001b[?25l\u001b[?25hdone\n",
            "Requirement already satisfied: scipy in /usr/local/lib/python3.10/dist-packages (from liblinear-official) (1.10.1)\n",
            "Requirement already satisfied: numpy<1.27.0,>=1.19.5 in /usr/local/lib/python3.10/dist-packages (from scipy->liblinear-official) (1.22.4)\n",
            "Building wheels for collected packages: liblinear-official\n",
            "  Building wheel for liblinear-official (setup.py) ... \u001b[?25l\u001b[?25hdone\n",
            "  Created wheel for liblinear-official: filename=liblinear_official-2.46.1-cp310-cp310-linux_x86_64.whl size=146573 sha256=f82dc38de07b6966a965f7c47276934d6238ea982085cd43c2ca21ac262cdee1\n",
            "  Stored in directory: /root/.cache/pip/wheels/d1/c4/f5/0f9664e5a5484cfe73e265aaa8eb83d8d51342760c979cb846\n",
            "Successfully built liblinear-official\n",
            "Installing collected packages: liblinear-official\n",
            "Successfully installed liblinear-official-2.46.1\n"
          ]
        }
      ]
    },
    {
      "cell_type": "code",
      "source": [
        "import pandas as pd\n",
        "from sklearn.metrics import roc_curve\n",
        "import matplotlib.pyplot as plt\n",
        "from sklearn.metrics import auc\n",
        "import numpy as np\n",
        "from liblinear.liblinearutil import train, predict, problem\n",
        "from libsvm.svmutil import *\n",
        "from sklearn.model_selection import train_test_split"
      ],
      "metadata": {
        "id": "KDoD0U6iDzyV"
      },
      "execution_count": 3,
      "outputs": []
    },
    {
      "cell_type": "code",
      "source": [
        "total_data=pd.read_csv(\"covtype.data\",header=None)"
      ],
      "metadata": {
        "id": "t-xaiuoAD2Es"
      },
      "execution_count": 4,
      "outputs": []
    },
    {
      "cell_type": "code",
      "source": [
        "total_data"
      ],
      "metadata": {
        "id": "gpWsc2JUD3-h",
        "colab": {
          "base_uri": "https://localhost:8080/",
          "height": 423
        },
        "outputId": "6820aaa1-7307-46ca-af55-b8d3399eedcd"
      },
      "execution_count": 5,
      "outputs": [
        {
          "output_type": "execute_result",
          "data": {
            "text/plain": [
              "          0    1   2    3    4     5    6    7    8     9   ...  45  46  47  \\\n",
              "0       2596   51   3  258    0   510  221  232  148  6279  ...   0   0   0   \n",
              "1       2590   56   2  212   -6   390  220  235  151  6225  ...   0   0   0   \n",
              "2       2804  139   9  268   65  3180  234  238  135  6121  ...   0   0   0   \n",
              "3       2785  155  18  242  118  3090  238  238  122  6211  ...   0   0   0   \n",
              "4       2595   45   2  153   -1   391  220  234  150  6172  ...   0   0   0   \n",
              "...      ...  ...  ..  ...  ...   ...  ...  ...  ...   ...  ...  ..  ..  ..   \n",
              "581007  2396  153  20   85   17   108  240  237  118   837  ...   0   0   0   \n",
              "581008  2391  152  19   67   12    95  240  237  119   845  ...   0   0   0   \n",
              "581009  2386  159  17   60    7    90  236  241  130   854  ...   0   0   0   \n",
              "581010  2384  170  15   60    5    90  230  245  143   864  ...   0   0   0   \n",
              "581011  2383  165  13   60    4    67  231  244  141   875  ...   0   0   0   \n",
              "\n",
              "        48  49  50  51  52  53  54  \n",
              "0        0   0   0   0   0   0   5  \n",
              "1        0   0   0   0   0   0   5  \n",
              "2        0   0   0   0   0   0   2  \n",
              "3        0   0   0   0   0   0   2  \n",
              "4        0   0   0   0   0   0   5  \n",
              "...     ..  ..  ..  ..  ..  ..  ..  \n",
              "581007   0   0   0   0   0   0   3  \n",
              "581008   0   0   0   0   0   0   3  \n",
              "581009   0   0   0   0   0   0   3  \n",
              "581010   0   0   0   0   0   0   3  \n",
              "581011   0   0   0   0   0   0   3  \n",
              "\n",
              "[581012 rows x 55 columns]"
            ],
            "text/html": [
              "\n",
              "  <div id=\"df-76cb5447-4a26-40a2-92f5-302efed800b6\">\n",
              "    <div class=\"colab-df-container\">\n",
              "      <div>\n",
              "<style scoped>\n",
              "    .dataframe tbody tr th:only-of-type {\n",
              "        vertical-align: middle;\n",
              "    }\n",
              "\n",
              "    .dataframe tbody tr th {\n",
              "        vertical-align: top;\n",
              "    }\n",
              "\n",
              "    .dataframe thead th {\n",
              "        text-align: right;\n",
              "    }\n",
              "</style>\n",
              "<table border=\"1\" class=\"dataframe\">\n",
              "  <thead>\n",
              "    <tr style=\"text-align: right;\">\n",
              "      <th></th>\n",
              "      <th>0</th>\n",
              "      <th>1</th>\n",
              "      <th>2</th>\n",
              "      <th>3</th>\n",
              "      <th>4</th>\n",
              "      <th>5</th>\n",
              "      <th>6</th>\n",
              "      <th>7</th>\n",
              "      <th>8</th>\n",
              "      <th>9</th>\n",
              "      <th>...</th>\n",
              "      <th>45</th>\n",
              "      <th>46</th>\n",
              "      <th>47</th>\n",
              "      <th>48</th>\n",
              "      <th>49</th>\n",
              "      <th>50</th>\n",
              "      <th>51</th>\n",
              "      <th>52</th>\n",
              "      <th>53</th>\n",
              "      <th>54</th>\n",
              "    </tr>\n",
              "  </thead>\n",
              "  <tbody>\n",
              "    <tr>\n",
              "      <th>0</th>\n",
              "      <td>2596</td>\n",
              "      <td>51</td>\n",
              "      <td>3</td>\n",
              "      <td>258</td>\n",
              "      <td>0</td>\n",
              "      <td>510</td>\n",
              "      <td>221</td>\n",
              "      <td>232</td>\n",
              "      <td>148</td>\n",
              "      <td>6279</td>\n",
              "      <td>...</td>\n",
              "      <td>0</td>\n",
              "      <td>0</td>\n",
              "      <td>0</td>\n",
              "      <td>0</td>\n",
              "      <td>0</td>\n",
              "      <td>0</td>\n",
              "      <td>0</td>\n",
              "      <td>0</td>\n",
              "      <td>0</td>\n",
              "      <td>5</td>\n",
              "    </tr>\n",
              "    <tr>\n",
              "      <th>1</th>\n",
              "      <td>2590</td>\n",
              "      <td>56</td>\n",
              "      <td>2</td>\n",
              "      <td>212</td>\n",
              "      <td>-6</td>\n",
              "      <td>390</td>\n",
              "      <td>220</td>\n",
              "      <td>235</td>\n",
              "      <td>151</td>\n",
              "      <td>6225</td>\n",
              "      <td>...</td>\n",
              "      <td>0</td>\n",
              "      <td>0</td>\n",
              "      <td>0</td>\n",
              "      <td>0</td>\n",
              "      <td>0</td>\n",
              "      <td>0</td>\n",
              "      <td>0</td>\n",
              "      <td>0</td>\n",
              "      <td>0</td>\n",
              "      <td>5</td>\n",
              "    </tr>\n",
              "    <tr>\n",
              "      <th>2</th>\n",
              "      <td>2804</td>\n",
              "      <td>139</td>\n",
              "      <td>9</td>\n",
              "      <td>268</td>\n",
              "      <td>65</td>\n",
              "      <td>3180</td>\n",
              "      <td>234</td>\n",
              "      <td>238</td>\n",
              "      <td>135</td>\n",
              "      <td>6121</td>\n",
              "      <td>...</td>\n",
              "      <td>0</td>\n",
              "      <td>0</td>\n",
              "      <td>0</td>\n",
              "      <td>0</td>\n",
              "      <td>0</td>\n",
              "      <td>0</td>\n",
              "      <td>0</td>\n",
              "      <td>0</td>\n",
              "      <td>0</td>\n",
              "      <td>2</td>\n",
              "    </tr>\n",
              "    <tr>\n",
              "      <th>3</th>\n",
              "      <td>2785</td>\n",
              "      <td>155</td>\n",
              "      <td>18</td>\n",
              "      <td>242</td>\n",
              "      <td>118</td>\n",
              "      <td>3090</td>\n",
              "      <td>238</td>\n",
              "      <td>238</td>\n",
              "      <td>122</td>\n",
              "      <td>6211</td>\n",
              "      <td>...</td>\n",
              "      <td>0</td>\n",
              "      <td>0</td>\n",
              "      <td>0</td>\n",
              "      <td>0</td>\n",
              "      <td>0</td>\n",
              "      <td>0</td>\n",
              "      <td>0</td>\n",
              "      <td>0</td>\n",
              "      <td>0</td>\n",
              "      <td>2</td>\n",
              "    </tr>\n",
              "    <tr>\n",
              "      <th>4</th>\n",
              "      <td>2595</td>\n",
              "      <td>45</td>\n",
              "      <td>2</td>\n",
              "      <td>153</td>\n",
              "      <td>-1</td>\n",
              "      <td>391</td>\n",
              "      <td>220</td>\n",
              "      <td>234</td>\n",
              "      <td>150</td>\n",
              "      <td>6172</td>\n",
              "      <td>...</td>\n",
              "      <td>0</td>\n",
              "      <td>0</td>\n",
              "      <td>0</td>\n",
              "      <td>0</td>\n",
              "      <td>0</td>\n",
              "      <td>0</td>\n",
              "      <td>0</td>\n",
              "      <td>0</td>\n",
              "      <td>0</td>\n",
              "      <td>5</td>\n",
              "    </tr>\n",
              "    <tr>\n",
              "      <th>...</th>\n",
              "      <td>...</td>\n",
              "      <td>...</td>\n",
              "      <td>...</td>\n",
              "      <td>...</td>\n",
              "      <td>...</td>\n",
              "      <td>...</td>\n",
              "      <td>...</td>\n",
              "      <td>...</td>\n",
              "      <td>...</td>\n",
              "      <td>...</td>\n",
              "      <td>...</td>\n",
              "      <td>...</td>\n",
              "      <td>...</td>\n",
              "      <td>...</td>\n",
              "      <td>...</td>\n",
              "      <td>...</td>\n",
              "      <td>...</td>\n",
              "      <td>...</td>\n",
              "      <td>...</td>\n",
              "      <td>...</td>\n",
              "      <td>...</td>\n",
              "    </tr>\n",
              "    <tr>\n",
              "      <th>581007</th>\n",
              "      <td>2396</td>\n",
              "      <td>153</td>\n",
              "      <td>20</td>\n",
              "      <td>85</td>\n",
              "      <td>17</td>\n",
              "      <td>108</td>\n",
              "      <td>240</td>\n",
              "      <td>237</td>\n",
              "      <td>118</td>\n",
              "      <td>837</td>\n",
              "      <td>...</td>\n",
              "      <td>0</td>\n",
              "      <td>0</td>\n",
              "      <td>0</td>\n",
              "      <td>0</td>\n",
              "      <td>0</td>\n",
              "      <td>0</td>\n",
              "      <td>0</td>\n",
              "      <td>0</td>\n",
              "      <td>0</td>\n",
              "      <td>3</td>\n",
              "    </tr>\n",
              "    <tr>\n",
              "      <th>581008</th>\n",
              "      <td>2391</td>\n",
              "      <td>152</td>\n",
              "      <td>19</td>\n",
              "      <td>67</td>\n",
              "      <td>12</td>\n",
              "      <td>95</td>\n",
              "      <td>240</td>\n",
              "      <td>237</td>\n",
              "      <td>119</td>\n",
              "      <td>845</td>\n",
              "      <td>...</td>\n",
              "      <td>0</td>\n",
              "      <td>0</td>\n",
              "      <td>0</td>\n",
              "      <td>0</td>\n",
              "      <td>0</td>\n",
              "      <td>0</td>\n",
              "      <td>0</td>\n",
              "      <td>0</td>\n",
              "      <td>0</td>\n",
              "      <td>3</td>\n",
              "    </tr>\n",
              "    <tr>\n",
              "      <th>581009</th>\n",
              "      <td>2386</td>\n",
              "      <td>159</td>\n",
              "      <td>17</td>\n",
              "      <td>60</td>\n",
              "      <td>7</td>\n",
              "      <td>90</td>\n",
              "      <td>236</td>\n",
              "      <td>241</td>\n",
              "      <td>130</td>\n",
              "      <td>854</td>\n",
              "      <td>...</td>\n",
              "      <td>0</td>\n",
              "      <td>0</td>\n",
              "      <td>0</td>\n",
              "      <td>0</td>\n",
              "      <td>0</td>\n",
              "      <td>0</td>\n",
              "      <td>0</td>\n",
              "      <td>0</td>\n",
              "      <td>0</td>\n",
              "      <td>3</td>\n",
              "    </tr>\n",
              "    <tr>\n",
              "      <th>581010</th>\n",
              "      <td>2384</td>\n",
              "      <td>170</td>\n",
              "      <td>15</td>\n",
              "      <td>60</td>\n",
              "      <td>5</td>\n",
              "      <td>90</td>\n",
              "      <td>230</td>\n",
              "      <td>245</td>\n",
              "      <td>143</td>\n",
              "      <td>864</td>\n",
              "      <td>...</td>\n",
              "      <td>0</td>\n",
              "      <td>0</td>\n",
              "      <td>0</td>\n",
              "      <td>0</td>\n",
              "      <td>0</td>\n",
              "      <td>0</td>\n",
              "      <td>0</td>\n",
              "      <td>0</td>\n",
              "      <td>0</td>\n",
              "      <td>3</td>\n",
              "    </tr>\n",
              "    <tr>\n",
              "      <th>581011</th>\n",
              "      <td>2383</td>\n",
              "      <td>165</td>\n",
              "      <td>13</td>\n",
              "      <td>60</td>\n",
              "      <td>4</td>\n",
              "      <td>67</td>\n",
              "      <td>231</td>\n",
              "      <td>244</td>\n",
              "      <td>141</td>\n",
              "      <td>875</td>\n",
              "      <td>...</td>\n",
              "      <td>0</td>\n",
              "      <td>0</td>\n",
              "      <td>0</td>\n",
              "      <td>0</td>\n",
              "      <td>0</td>\n",
              "      <td>0</td>\n",
              "      <td>0</td>\n",
              "      <td>0</td>\n",
              "      <td>0</td>\n",
              "      <td>3</td>\n",
              "    </tr>\n",
              "  </tbody>\n",
              "</table>\n",
              "<p>581012 rows × 55 columns</p>\n",
              "</div>\n",
              "      <button class=\"colab-df-convert\" onclick=\"convertToInteractive('df-76cb5447-4a26-40a2-92f5-302efed800b6')\"\n",
              "              title=\"Convert this dataframe to an interactive table.\"\n",
              "              style=\"display:none;\">\n",
              "        \n",
              "  <svg xmlns=\"http://www.w3.org/2000/svg\" height=\"24px\"viewBox=\"0 0 24 24\"\n",
              "       width=\"24px\">\n",
              "    <path d=\"M0 0h24v24H0V0z\" fill=\"none\"/>\n",
              "    <path d=\"M18.56 5.44l.94 2.06.94-2.06 2.06-.94-2.06-.94-.94-2.06-.94 2.06-2.06.94zm-11 1L8.5 8.5l.94-2.06 2.06-.94-2.06-.94L8.5 2.5l-.94 2.06-2.06.94zm10 10l.94 2.06.94-2.06 2.06-.94-2.06-.94-.94-2.06-.94 2.06-2.06.94z\"/><path d=\"M17.41 7.96l-1.37-1.37c-.4-.4-.92-.59-1.43-.59-.52 0-1.04.2-1.43.59L10.3 9.45l-7.72 7.72c-.78.78-.78 2.05 0 2.83L4 21.41c.39.39.9.59 1.41.59.51 0 1.02-.2 1.41-.59l7.78-7.78 2.81-2.81c.8-.78.8-2.07 0-2.86zM5.41 20L4 18.59l7.72-7.72 1.47 1.35L5.41 20z\"/>\n",
              "  </svg>\n",
              "      </button>\n",
              "      \n",
              "  <style>\n",
              "    .colab-df-container {\n",
              "      display:flex;\n",
              "      flex-wrap:wrap;\n",
              "      gap: 12px;\n",
              "    }\n",
              "\n",
              "    .colab-df-convert {\n",
              "      background-color: #E8F0FE;\n",
              "      border: none;\n",
              "      border-radius: 50%;\n",
              "      cursor: pointer;\n",
              "      display: none;\n",
              "      fill: #1967D2;\n",
              "      height: 32px;\n",
              "      padding: 0 0 0 0;\n",
              "      width: 32px;\n",
              "    }\n",
              "\n",
              "    .colab-df-convert:hover {\n",
              "      background-color: #E2EBFA;\n",
              "      box-shadow: 0px 1px 2px rgba(60, 64, 67, 0.3), 0px 1px 3px 1px rgba(60, 64, 67, 0.15);\n",
              "      fill: #174EA6;\n",
              "    }\n",
              "\n",
              "    [theme=dark] .colab-df-convert {\n",
              "      background-color: #3B4455;\n",
              "      fill: #D2E3FC;\n",
              "    }\n",
              "\n",
              "    [theme=dark] .colab-df-convert:hover {\n",
              "      background-color: #434B5C;\n",
              "      box-shadow: 0px 1px 3px 1px rgba(0, 0, 0, 0.15);\n",
              "      filter: drop-shadow(0px 1px 2px rgba(0, 0, 0, 0.3));\n",
              "      fill: #FFFFFF;\n",
              "    }\n",
              "  </style>\n",
              "\n",
              "      <script>\n",
              "        const buttonEl =\n",
              "          document.querySelector('#df-76cb5447-4a26-40a2-92f5-302efed800b6 button.colab-df-convert');\n",
              "        buttonEl.style.display =\n",
              "          google.colab.kernel.accessAllowed ? 'block' : 'none';\n",
              "\n",
              "        async function convertToInteractive(key) {\n",
              "          const element = document.querySelector('#df-76cb5447-4a26-40a2-92f5-302efed800b6');\n",
              "          const dataTable =\n",
              "            await google.colab.kernel.invokeFunction('convertToInteractive',\n",
              "                                                     [key], {});\n",
              "          if (!dataTable) return;\n",
              "\n",
              "          const docLinkHtml = 'Like what you see? Visit the ' +\n",
              "            '<a target=\"_blank\" href=https://colab.research.google.com/notebooks/data_table.ipynb>data table notebook</a>'\n",
              "            + ' to learn more about interactive tables.';\n",
              "          element.innerHTML = '';\n",
              "          dataTable['output_type'] = 'display_data';\n",
              "          await google.colab.output.renderOutput(dataTable, element);\n",
              "          const docLink = document.createElement('div');\n",
              "          docLink.innerHTML = docLinkHtml;\n",
              "          element.appendChild(docLink);\n",
              "        }\n",
              "      </script>\n",
              "    </div>\n",
              "  </div>\n",
              "  "
            ]
          },
          "metadata": {},
          "execution_count": 5
        }
      ]
    },
    {
      "cell_type": "code",
      "source": [
        "print(total_data.loc[:,54].unique())"
      ],
      "metadata": {
        "id": "1TryfesBD54K",
        "colab": {
          "base_uri": "https://localhost:8080/"
        },
        "outputId": "ff7d70fc-646c-4e4c-d4df-049482b692ce"
      },
      "execution_count": 6,
      "outputs": [
        {
          "output_type": "stream",
          "name": "stdout",
          "text": [
            "[5 2 1 7 3 6 4]\n"
          ]
        }
      ]
    },
    {
      "cell_type": "code",
      "source": [
        "def extract_data_as_per_index_files(file,data, rows):\n",
        "    index=pd.read_csv(file,header=None)\n",
        "    #print(index)\n",
        "    index[0] = index[0]-1\n",
        "    indices=index[0].values\n",
        "    #print('indices:')\n",
        "    #print(indices)\n",
        "    #indices=sorted(indices)\n",
        "    indices_list=[x for x in indices if x < rows]\n",
        "    #print('indices list:')\n",
        "    #print(indices_list)\n",
        "    ret_data=data.iloc[indices_list]\n",
        "    #print(ret_data)\n",
        "    return ret_data"
      ],
      "metadata": {
        "id": "SmPcxHXdD7ii"
      },
      "execution_count": 30,
      "outputs": []
    },
    {
      "cell_type": "code",
      "source": [
        "print(total_data.shape)\n",
        "train_data=extract_data_as_per_index_files(\"covtype.train.index.txt\",total_data, total_data.shape[0])\n",
        "test_data=extract_data_as_per_index_files(\"covtype.test.index.txt\",total_data, total_data.shape[0])\n"
      ],
      "metadata": {
        "id": "eh1e9R55D-LE",
        "colab": {
          "base_uri": "https://localhost:8080/"
        },
        "outputId": "8013a051-f889-44f3-c982-1b29d948936e"
      },
      "execution_count": 31,
      "outputs": [
        {
          "output_type": "stream",
          "name": "stdout",
          "text": [
            "(581012, 55)\n"
          ]
        }
      ]
    },
    {
      "cell_type": "markdown",
      "source": [
        "# **RAW DATA**"
      ],
      "metadata": {
        "id": "qHn7hY7SFctV"
      }
    },
    {
      "cell_type": "code",
      "source": [
        "X_train = train_data.iloc[:, :-1].values\n",
        "y_train = train_data.iloc[:, -1].values\n",
        "print(X_train.shape)\n",
        "print(y_train.shape)\n",
        "#taking class 2 as +ve, rest as -ve as per question\n",
        "y_train = np.where(y_train == 2, 1, 0)\n",
        "print(np.unique(y_train))"
      ],
      "metadata": {
        "id": "mFGsRQnpEELT",
        "colab": {
          "base_uri": "https://localhost:8080/"
        },
        "outputId": "51507b86-9c88-4178-8f45-abca35e85ab4"
      },
      "execution_count": 32,
      "outputs": [
        {
          "output_type": "stream",
          "name": "stdout",
          "text": [
            "(522911, 54)\n",
            "(522911,)\n",
            "[0 1]\n"
          ]
        }
      ]
    },
    {
      "cell_type": "code",
      "source": [
        "C_list = [0.1, 1.0, 10.0, 100.0, 1000.0]\n",
        "Cross_Validation_error=[]\n",
        "for c in C_list:\n",
        "    print(f\"Training C={c}\")\n",
        "    params = f\"-c {c} -s 3 -v 5\"\n",
        "    Cross_Validation_error.append(train(y_train.ravel(), X_train, params))\n",
        "    print()"
      ],
      "metadata": {
        "colab": {
          "base_uri": "https://localhost:8080/"
        },
        "id": "DePZH15aNoiy",
        "outputId": "2c12003c-1a79-4369-b45a-277fc21edffa"
      },
      "execution_count": 10,
      "outputs": [
        {
          "output_type": "stream",
          "name": "stdout",
          "text": [
            "Training C=0.1\n",
            "Cross Validation Accuracy = 51.1054%\n",
            "\n",
            "Training C=1.0\n",
            "Cross Validation Accuracy = 54.6005%\n",
            "\n",
            "Training C=10.0\n",
            "Cross Validation Accuracy = 52.3156%\n",
            "\n",
            "Training C=100.0\n",
            "Cross Validation Accuracy = 54.3989%\n",
            "\n",
            "Training C=1000.0\n",
            "Cross Validation Accuracy = 54.8952%\n",
            "\n"
          ]
        }
      ]
    },
    {
      "cell_type": "code",
      "source": [
        "Cross_Validation_error"
      ],
      "metadata": {
        "colab": {
          "base_uri": "https://localhost:8080/"
        },
        "id": "TshEV5NCTM0U",
        "outputId": "29459aa4-76e1-4941-e6f2-455610d526a1"
      },
      "execution_count": 11,
      "outputs": [
        {
          "output_type": "execute_result",
          "data": {
            "text/plain": [
              "[51.105446242285964,\n",
              " 54.60049606912075,\n",
              " 52.31559481441393,\n",
              " 54.39893213185418,\n",
              " 54.895192489735344]"
            ]
          },
          "metadata": {},
          "execution_count": 11
        }
      ]
    },
    {
      "cell_type": "code",
      "source": [
        "X_test = test_data.iloc[:, :-1]\n",
        "y_test = test_data.iloc[:, -1]\n",
        "print(\"Best Accuracy = \",max(Cross_Validation_error), \"%\")\n",
        "best_c_val=C_list[Cross_Validation_error.index(max(Cross_Validation_error))]\n",
        "print(\"Best C value = \",best_c_val)\n"
      ],
      "metadata": {
        "colab": {
          "base_uri": "https://localhost:8080/"
        },
        "id": "i-IR18cUVZBE",
        "outputId": "d0603732-d6a3-41e1-8bac-840d77402c5f"
      },
      "execution_count": 33,
      "outputs": [
        {
          "output_type": "stream",
          "name": "stdout",
          "text": [
            "Best Accuracy =  54.895192489735344 %\n",
            "Best C value =  1000.0\n"
          ]
        }
      ]
    },
    {
      "cell_type": "code",
      "source": [
        "model = train(y_train.ravel(), X_train, f'-c {best_c_val} -s 3')"
      ],
      "metadata": {
        "id": "siNymb7CVixn"
      },
      "execution_count": 34,
      "outputs": []
    },
    {
      "cell_type": "code",
      "source": [
        "y_test = np.where(y_test == 2, 1, 0)"
      ],
      "metadata": {
        "id": "9gqCl0pfWTKo"
      },
      "execution_count": 35,
      "outputs": []
    },
    {
      "cell_type": "code",
      "source": [
        "y_test.ravel()"
      ],
      "metadata": {
        "colab": {
          "base_uri": "https://localhost:8080/"
        },
        "id": "KbsVFToaVw67",
        "outputId": "92222f0a-d510-4b46-b762-02e162002189"
      },
      "execution_count": 36,
      "outputs": [
        {
          "output_type": "execute_result",
          "data": {
            "text/plain": [
              "array([0, 1, 0, ..., 0, 0, 0])"
            ]
          },
          "metadata": {},
          "execution_count": 36
        }
      ]
    },
    {
      "cell_type": "code",
      "source": [
        "y_pred_raw, _, _ = predict(y_test.ravel(), X_test.values, model)"
      ],
      "metadata": {
        "colab": {
          "base_uri": "https://localhost:8080/"
        },
        "id": "eSimrmcXVzYN",
        "outputId": "b9544a4d-4102-41f3-a39c-9ea1bcee7aae"
      },
      "execution_count": 37,
      "outputs": [
        {
          "output_type": "stream",
          "name": "stdout",
          "text": [
            "Accuracy = 52.364% (30424/58101) (classification)\n"
          ]
        }
      ]
    },
    {
      "cell_type": "code",
      "source": [
        "print(np.unique(y_pred_raw))"
      ],
      "metadata": {
        "colab": {
          "base_uri": "https://localhost:8080/"
        },
        "id": "557mD5SRXUWO",
        "outputId": "746efc8d-1809-4c43-afda-e2116f610005"
      },
      "execution_count": 38,
      "outputs": [
        {
          "output_type": "stream",
          "name": "stdout",
          "text": [
            "[0. 1.]\n"
          ]
        }
      ]
    },
    {
      "cell_type": "code",
      "source": [
        "#taking class 2 as +ve, rest as -ve as per question\n",
        "\n",
        "from sklearn.metrics import f1_score, roc_auc_score\n",
        "from sklearn.metrics import accuracy_score\n",
        "\n",
        "\n",
        "accuracy_raw = accuracy_score(y_test, y_pred_raw)\n",
        "print(accuracy_raw,\"Accuracy of Raw Data= {:.5f}\".format(accuracy_raw))\n",
        "f1_raw = f1_score(y_test, y_pred_raw)\n",
        "auc_raw = roc_auc_score(y_test, y_pred_raw)\n",
        "\n",
        "print(f1_raw,\"F1-score on testing data for Raw Data: {:.2f}\".format(f1_raw))\n",
        "print(auc_raw,\"AUC on testing data for Raw Data: {:.2f}\".format(auc_raw))\n",
        "fpr_raw, tpr_raw, _ = roc_curve(y_test,y_pred_raw)"
      ],
      "metadata": {
        "id": "NJXntzDUEjnf",
        "colab": {
          "base_uri": "https://localhost:8080/"
        },
        "outputId": "bbcf2a04-1175-48ef-f89a-a913e85b192d"
      },
      "execution_count": 39,
      "outputs": [
        {
          "output_type": "stream",
          "name": "stdout",
          "text": [
            "0.523639868504845 Accuracy of Raw Data= 0.52364\n",
            "0.6681375076439765 F1-score on testing data for Raw Data: 0.67\n",
            "0.536429727539848 AUC on testing data for Raw Data: 0.54\n"
          ]
        }
      ]
    },
    {
      "cell_type": "markdown",
      "source": [
        "# **RESCALE PREPROCESSING**"
      ],
      "metadata": {
        "id": "DSI5tcOXHDfE"
      }
    },
    {
      "cell_type": "code",
      "source": [
        "from sklearn.preprocessing import MinMaxScaler\n",
        "total_rescale_preprocessed = total_data.iloc[:, :-1]\n",
        "scaler = MinMaxScaler()\n",
        "scaler.fit(total_rescale_preprocessed)\n",
        "total_rescale_preprocessed = scaler.transform(total_rescale_preprocessed)\n",
        "print(total_rescale_preprocessed)\n",
        "\n",
        "df_concat_rescaled = pd.concat([pd.DataFrame(total_rescale_preprocessed), total_data.iloc[:, -1]], axis=1)\n",
        "print(df_concat_rescaled)\n",
        "train_data=extract_data_as_per_index_files(\"covtype.train.index.txt\",df_concat_rescaled, df_concat_rescaled.shape[0])\n",
        "test_data=extract_data_as_per_index_files(\"covtype.test.index.txt\",df_concat_rescaled, df_concat_rescaled.shape[0])\n",
        "\n",
        "\n",
        "X_train = train_data.iloc[:,:-1]\n",
        "y_train = train_data.iloc[:, -1]\n",
        "#taking class 2 as +ve, rest as -ve as per question\n",
        "y_train = np.where(y_train == 2, 1, 0)\n",
        "print(np.unique(y_train))\n",
        "\n",
        "print(X_train.shape)\n",
        "print(y_train.shape)\n",
        "\n"
      ],
      "metadata": {
        "colab": {
          "base_uri": "https://localhost:8080/"
        },
        "id": "Kmy2_CBBHIXz",
        "outputId": "a0cb3f90-19c3-41b1-a479-5e9f6d9cef19"
      },
      "execution_count": 40,
      "outputs": [
        {
          "output_type": "stream",
          "name": "stdout",
          "text": [
            "[[0.36868434 0.14166667 0.04545455 ... 0.         0.         0.        ]\n",
            " [0.36568284 0.15555556 0.03030303 ... 0.         0.         0.        ]\n",
            " [0.47273637 0.38611111 0.13636364 ... 0.         0.         0.        ]\n",
            " ...\n",
            " [0.26363182 0.44166667 0.25757576 ... 0.         0.         0.        ]\n",
            " [0.26263132 0.47222222 0.22727273 ... 0.         0.         0.        ]\n",
            " [0.26213107 0.45833333 0.1969697  ... 0.         0.         0.        ]]\n",
            "              0         1         2         3         4         5         6   \\\n",
            "0       0.368684  0.141667  0.045455  0.184681  0.223514  0.071659  0.870079   \n",
            "1       0.365683  0.155556  0.030303  0.151754  0.215762  0.054798  0.866142   \n",
            "2       0.472736  0.386111  0.136364  0.191840  0.307494  0.446817  0.921260   \n",
            "3       0.463232  0.430556  0.272727  0.173228  0.375969  0.434172  0.937008   \n",
            "4       0.368184  0.125000  0.030303  0.109520  0.222222  0.054939  0.866142   \n",
            "...          ...       ...       ...       ...       ...       ...       ...   \n",
            "581007  0.268634  0.425000  0.303030  0.060845  0.245478  0.015175  0.944882   \n",
            "581008  0.266133  0.422222  0.287879  0.047960  0.239018  0.013348  0.944882   \n",
            "581009  0.263632  0.441667  0.257576  0.042949  0.232558  0.012646  0.929134   \n",
            "581010  0.262631  0.472222  0.227273  0.042949  0.229974  0.012646  0.905512   \n",
            "581011  0.262131  0.458333  0.196970  0.042949  0.228682  0.009414  0.909449   \n",
            "\n",
            "              7         8         9   ...   45   46   47   48   49   50   51  \\\n",
            "0       0.913386  0.582677  0.875366  ...  0.0  0.0  0.0  0.0  0.0  0.0  0.0   \n",
            "1       0.925197  0.594488  0.867838  ...  0.0  0.0  0.0  0.0  0.0  0.0  0.0   \n",
            "2       0.937008  0.531496  0.853339  ...  0.0  0.0  0.0  0.0  0.0  0.0  0.0   \n",
            "3       0.937008  0.480315  0.865886  ...  0.0  0.0  0.0  0.0  0.0  0.0  0.0   \n",
            "4       0.921260  0.590551  0.860449  ...  0.0  0.0  0.0  0.0  0.0  0.0  0.0   \n",
            "...          ...       ...       ...  ...  ...  ...  ...  ...  ...  ...  ...   \n",
            "581007  0.933071  0.464567  0.116688  ...  0.0  0.0  0.0  0.0  0.0  0.0  0.0   \n",
            "581008  0.933071  0.468504  0.117803  ...  0.0  0.0  0.0  0.0  0.0  0.0  0.0   \n",
            "581009  0.948819  0.511811  0.119058  ...  0.0  0.0  0.0  0.0  0.0  0.0  0.0   \n",
            "581010  0.964567  0.562992  0.120452  ...  0.0  0.0  0.0  0.0  0.0  0.0  0.0   \n",
            "581011  0.960630  0.555118  0.121985  ...  0.0  0.0  0.0  0.0  0.0  0.0  0.0   \n",
            "\n",
            "         52   53  54  \n",
            "0       0.0  0.0   5  \n",
            "1       0.0  0.0   5  \n",
            "2       0.0  0.0   2  \n",
            "3       0.0  0.0   2  \n",
            "4       0.0  0.0   5  \n",
            "...     ...  ...  ..  \n",
            "581007  0.0  0.0   3  \n",
            "581008  0.0  0.0   3  \n",
            "581009  0.0  0.0   3  \n",
            "581010  0.0  0.0   3  \n",
            "581011  0.0  0.0   3  \n",
            "\n",
            "[581012 rows x 55 columns]\n",
            "[0 1]\n",
            "(522911, 54)\n",
            "(522911,)\n"
          ]
        }
      ]
    },
    {
      "cell_type": "code",
      "source": [
        "C_list = [0.1, 1.0, 10.0, 100.0, 1000.0]\n",
        "Cross_Validation_acc=[]\n",
        "for c in C_list:\n",
        "    print(f\"Training C={c}\")\n",
        "    params = f\"-c {c} -s 3 -v 5\"\n",
        "    Cross_Validation_acc.append(train(y_train.ravel(), X_train.values, params))\n",
        "    print()\n",
        "\n",
        "X_test = test_data.iloc[:, :-1]\n",
        "y_test = test_data.iloc[:, -1]\n",
        "print(\"Best Accuracy = \",max(Cross_Validation_acc), \"%\")\n",
        "best_c_val=C_list[Cross_Validation_acc.index(max(Cross_Validation_acc))]\n",
        "print(\"Best C value = \",best_c_val)"
      ],
      "metadata": {
        "colab": {
          "base_uri": "https://localhost:8080/"
        },
        "id": "RmDKc4AeZ369",
        "outputId": "6518ea36-2275-4d74-fb69-1ee59921cb40"
      },
      "execution_count": 41,
      "outputs": [
        {
          "output_type": "stream",
          "name": "stdout",
          "text": [
            "Training C=0.1\n",
            "Cross Validation Accuracy = 76.2952%\n",
            "\n",
            "Training C=1.0\n",
            "Cross Validation Accuracy = 76.3002%\n",
            "\n",
            "Training C=10.0\n",
            "Cross Validation Accuracy = 76.2937%\n",
            "\n",
            "Training C=100.0\n",
            "Cross Validation Accuracy = 67.0831%\n",
            "\n",
            "Training C=1000.0\n",
            "Cross Validation Accuracy = 59.5277%\n",
            "\n",
            "Best Accuracy =  76.30017345207885 %\n",
            "Best C value =  1.0\n"
          ]
        }
      ]
    },
    {
      "cell_type": "code",
      "source": [
        "print(\"testing:\")\n",
        "y_test = np.where(y_test == 2, 1, 0)\n",
        "model = train(y_train.ravel(), X_train.values, f'-c {best_c_val} -s 3')\n",
        "y_pred_rescaled, _, _ = predict(y_test.ravel(), X_test.values, model)"
      ],
      "metadata": {
        "colab": {
          "base_uri": "https://localhost:8080/"
        },
        "id": "NnbCM7wPZ7qQ",
        "outputId": "936f1af0-e87e-4114-d3d0-28992691a762"
      },
      "execution_count": 42,
      "outputs": [
        {
          "output_type": "stream",
          "name": "stdout",
          "text": [
            "testing:\n",
            "Accuracy = 76.5667% (44486/58101) (classification)\n"
          ]
        }
      ]
    },
    {
      "cell_type": "code",
      "source": [
        "\n",
        "from sklearn.metrics import f1_score, roc_auc_score\n",
        "from sklearn.metrics import accuracy_score\n",
        "\n",
        "accuracy_rescaled = accuracy_score(y_test, y_pred_rescaled)\n",
        "print(accuracy_rescaled,\"Accuracy of Rescaled Preprocessing= {:.5f}\".format(accuracy_rescaled))\n",
        "f1_rescaled = f1_score(y_test, y_pred_rescaled)\n",
        "auc_rescaled = roc_auc_score(y_test, y_pred_rescaled)\n",
        "\n",
        "print(f1_rescaled,\"F1-score on testing data for Rescaled Preprocessing: {:.2f}\".format(f1_rescaled))\n",
        "print(auc_rescaled,\"AUC on testing data for Rescaled Preprocessing: {:.2f}\".format(auc_rescaled))\n",
        "fpr_rescaled, tpr_rescaled, _ = roc_curve(y_test,y_pred_rescaled)"
      ],
      "metadata": {
        "colab": {
          "base_uri": "https://localhost:8080/"
        },
        "id": "7CnMkj1od4wN",
        "outputId": "be99c55e-ab30-4fc8-b4a3-2f17a03ba70d"
      },
      "execution_count": 43,
      "outputs": [
        {
          "output_type": "stream",
          "name": "stdout",
          "text": [
            "0.7656666838780744 Accuracy of Rescaled Preprocessing= 0.76567\n",
            "0.7642546707530344 F1-score on testing data for Rescaled Preprocessing: 0.76\n",
            "0.7661138070570266 AUC on testing data for Rescaled Preprocessing: 0.77\n"
          ]
        }
      ]
    },
    {
      "cell_type": "markdown",
      "source": [
        "# **Standardization Preprocessing**"
      ],
      "metadata": {
        "id": "yahdOfgOIy96"
      }
    },
    {
      "cell_type": "code",
      "source": [
        "from sklearn.preprocessing import StandardScaler\n",
        "total_std_preprocessed = total_data.iloc[:, :-1]\n",
        "standar_scaler = StandardScaler()\n",
        "standar_scaler.fit(total_std_preprocessed)\n",
        "total_std_preprocessed = standar_scaler.transform(total_std_preprocessed)\n",
        "print(total_std_preprocessed)\n",
        "\n",
        "df_concat_std = pd.concat([pd.DataFrame(total_std_preprocessed), total_data.iloc[:, -1]], axis=1)\n",
        "print(df_concat_std)\n",
        "train_data=extract_data_as_per_index_files(\"covtype.train.index.txt\",df_concat_std, df_concat_std.shape[0])\n",
        "test_data=extract_data_as_per_index_files(\"covtype.test.index.txt\",df_concat_std, df_concat_std.shape[0])\n",
        "\n",
        "X_train = train_data.iloc[:,:-1]\n",
        "y_train = train_data.iloc[:, -1]\n",
        "#taking class 2 as +ve, rest as -ve as per question\n",
        "y_train = np.where(y_train == 2, 1, 0)\n",
        "print(np.unique(y_train))\n",
        "\n",
        "print(X_train.shape)\n",
        "print(y_train.shape)\n",
        "\n"
      ],
      "metadata": {
        "colab": {
          "base_uri": "https://localhost:8080/"
        },
        "id": "HfHs2E2rI-WJ",
        "outputId": "3aa7818f-0c34-4a99-c9af-d8e865f11b24"
      },
      "execution_count": 44,
      "outputs": [
        {
          "output_type": "stream",
          "name": "stdout",
          "text": [
            "[[-1.29780509 -0.93515698 -1.48281978 ... -0.16595612 -0.15601398\n",
            "  -0.12365355]\n",
            " [-1.31923485 -0.89047967 -1.61636259 ... -0.16595612 -0.15601398\n",
            "  -0.12365355]\n",
            " [-0.5549068  -0.14883628 -0.68156292 ... -0.16595612 -0.15601398\n",
            "  -0.12365355]\n",
            " ...\n",
            " [-2.04784663  0.02987297  0.38677957 ... -0.16595612 -0.15601398\n",
            "  -0.12365355]\n",
            " [-2.05498988  0.12816306  0.11969395 ... -0.16595612 -0.15601398\n",
            "  -0.12365355]\n",
            " [-2.05856151  0.08348575 -0.14739167 ... -0.16595612 -0.15601398\n",
            "  -0.12365355]]\n",
            "              0         1         2         3         4         5         6   \\\n",
            "0      -1.297805 -0.935157 -1.482820 -0.053767 -0.796273 -1.180146  0.330743   \n",
            "1      -1.319235 -0.890480 -1.616363 -0.270188 -0.899197 -1.257106  0.293388   \n",
            "2      -0.554907 -0.148836 -0.681563 -0.006719  0.318742  0.532212  0.816364   \n",
            "3      -0.622768 -0.005869  0.520322 -0.129044  1.227908  0.474492  0.965786   \n",
            "4      -1.301377 -0.988770 -1.616363 -0.547771 -0.813427 -1.256464  0.293388   \n",
            "...          ...       ...       ...       ...       ...       ...       ...   \n",
            "581007 -2.012130 -0.023740  0.787408 -0.867697 -0.504653 -1.437962  1.040496   \n",
            "581008 -2.029988 -0.032675  0.653865 -0.952383 -0.590424 -1.446299  1.040496   \n",
            "581009 -2.047847  0.029873  0.386780 -0.985317 -0.676194 -1.449506  0.891075   \n",
            "581010 -2.054990  0.128163  0.119694 -0.985317 -0.710502 -1.449506  0.666942   \n",
            "581011 -2.058562  0.083486 -0.147392 -0.985317 -0.727656 -1.464256  0.704298   \n",
            "\n",
            "              7         8         9   ...        45        46       47  \\\n",
            "0       0.439143  0.142960  3.246283  ... -0.315238 -0.290284 -0.05273   \n",
            "1       0.590899  0.221342  3.205504  ... -0.315238 -0.290284 -0.05273   \n",
            "2       0.742654 -0.196691  3.126965  ... -0.315238 -0.290284 -0.05273   \n",
            "3       0.742654 -0.536343  3.194931  ... -0.315238 -0.290284 -0.05273   \n",
            "4       0.540313  0.195215  3.165479  ... -0.315238 -0.290284 -0.05273   \n",
            "...          ...       ...       ...  ...       ...       ...      ...   \n",
            "581007  0.692069 -0.640851 -0.863386  ... -0.315238 -0.290284 -0.05273   \n",
            "581008  0.692069 -0.614724 -0.857345  ... -0.315238 -0.290284 -0.05273   \n",
            "581009  0.894409 -0.327327 -0.850548  ... -0.315238 -0.290284 -0.05273   \n",
            "581010  1.096749  0.012325 -0.842997  ... -0.315238 -0.290284 -0.05273   \n",
            "581011  1.046164 -0.039929 -0.834690  ... -0.315238 -0.290284 -0.05273   \n",
            "\n",
            "              48        49        50        51        52        53  54  \n",
            "0      -0.057143 -0.014313 -0.022653 -0.165956 -0.156014 -0.123654   5  \n",
            "1      -0.057143 -0.014313 -0.022653 -0.165956 -0.156014 -0.123654   5  \n",
            "2      -0.057143 -0.014313 -0.022653 -0.165956 -0.156014 -0.123654   2  \n",
            "3      -0.057143 -0.014313 -0.022653 -0.165956 -0.156014 -0.123654   2  \n",
            "4      -0.057143 -0.014313 -0.022653 -0.165956 -0.156014 -0.123654   5  \n",
            "...          ...       ...       ...       ...       ...       ...  ..  \n",
            "581007 -0.057143 -0.014313 -0.022653 -0.165956 -0.156014 -0.123654   3  \n",
            "581008 -0.057143 -0.014313 -0.022653 -0.165956 -0.156014 -0.123654   3  \n",
            "581009 -0.057143 -0.014313 -0.022653 -0.165956 -0.156014 -0.123654   3  \n",
            "581010 -0.057143 -0.014313 -0.022653 -0.165956 -0.156014 -0.123654   3  \n",
            "581011 -0.057143 -0.014313 -0.022653 -0.165956 -0.156014 -0.123654   3  \n",
            "\n",
            "[581012 rows x 55 columns]\n",
            "[0 1]\n",
            "(522911, 54)\n",
            "(522911,)\n"
          ]
        }
      ]
    },
    {
      "cell_type": "code",
      "source": [
        "C_list = [0.1, 1.0, 10.0, 100.0, 1000.0]\n",
        "Cross_Validation_error=[]\n",
        "for c in C_list:\n",
        "    print(f\"Training C={c}\")\n",
        "    params = f\"-c {c} -s 3 -v 5\"\n",
        "    Cross_Validation_error.append(train(y_train.ravel(), X_train.values, params))\n",
        "    print()\n",
        "\n",
        "X_test = test_data.iloc[:, :-1]\n",
        "y_test = test_data.iloc[:, -1]\n",
        "print(\"Best Accuracy = \",max(Cross_Validation_error), \"%\")\n",
        "best_c_val=C_list[Cross_Validation_error.index(max(Cross_Validation_error))]\n",
        "print(\"Best C value = \",best_c_val)\n",
        "\n",
        "print(\"testing:\")\n",
        "#taking class 2 as +ve, rest as -ve as per question\n",
        "y_test = np.where(y_test == 2, 1, 0)\n",
        "\n",
        "model = train(y_train.ravel(), X_train.values, f'-c {best_c_val} -s 3')\n",
        "y_pred_std, _, _ = predict(y_test.ravel(), X_test.values, model)"
      ],
      "metadata": {
        "colab": {
          "base_uri": "https://localhost:8080/"
        },
        "id": "Mxzh_Ivzeipd",
        "outputId": "ba9fd913-db42-4124-ba4d-a8bfa39cab54"
      },
      "execution_count": 45,
      "outputs": [
        {
          "output_type": "stream",
          "name": "stdout",
          "text": [
            "Training C=0.1\n",
            "Cross Validation Accuracy = 76.3277%\n",
            "\n",
            "Training C=1.0\n",
            "Cross Validation Accuracy = 76.2577%\n",
            "\n",
            "Training C=10.0\n",
            "Cross Validation Accuracy = 73.158%\n",
            "\n",
            "Training C=100.0\n",
            "Cross Validation Accuracy = 64.2578%\n",
            "\n",
            "Training C=1000.0\n",
            "Cross Validation Accuracy = 66.7058%\n",
            "\n",
            "Best Accuracy =  76.32771159910577 %\n",
            "Best C value =  0.1\n",
            "testing:\n",
            "Accuracy = 76.5219% (44460/58101) (classification)\n"
          ]
        }
      ]
    },
    {
      "cell_type": "code",
      "source": [
        "from sklearn.metrics import f1_score, roc_auc_score\n",
        "from sklearn.metrics import accuracy_score\n",
        "\n",
        "accuracy_std = accuracy_score(y_test, y_pred_std)\n",
        "print(accuracy_std,\"Accuracy of Rescaled Preprocessing= {:.5f}\".format(accuracy_std))\n",
        "f1_std = f1_score(y_test, y_pred_std)\n",
        "auc_std = roc_auc_score(y_test, y_pred_std)\n",
        "\n",
        "print(f1_std,\"F1-score on testing data for Rescaled Preprocessing: {:.2f}\".format(f1_std))\n",
        "print(auc_std,\"AUC on testing data for Rescaled Preprocessing: {:.2f}\".format(auc_std))\n",
        "fpr_std, tpr_std, _ = roc_curve(y_test,y_pred_std)"
      ],
      "metadata": {
        "colab": {
          "base_uri": "https://localhost:8080/"
        },
        "id": "2MnLb92Deqp8",
        "outputId": "51e1fb55-60cc-4227-97db-953c8574bb8e"
      },
      "execution_count": 46,
      "outputs": [
        {
          "output_type": "stream",
          "name": "stdout",
          "text": [
            "0.7652191872773274 Accuracy of Rescaled Preprocessing= 0.76522\n",
            "0.765154514935009 F1-score on testing data for Rescaled Preprocessing: 0.77\n",
            "0.7658282582870418 AUC on testing data for Rescaled Preprocessing: 0.77\n"
          ]
        }
      ]
    },
    {
      "cell_type": "markdown",
      "source": [
        "# **Normalization Preprocessing**"
      ],
      "metadata": {
        "id": "hCadtFqvRgK1"
      }
    },
    {
      "cell_type": "code",
      "source": [
        "from sklearn.preprocessing import Normalizer\n",
        "total_norm_preprocessed = total_data.iloc[:, :-1]\n",
        "# create a Normalizer object\n",
        "normalizer = Normalizer()\n",
        "# normalize the data\n",
        "total_norm_preprocessed = normalizer.fit_transform(total_norm_preprocessed)\n",
        "print(total_norm_preprocessed)\n",
        "\n",
        "df_concat_norm = pd.concat([pd.DataFrame(total_norm_preprocessed), total_data.iloc[:, -1]], axis=1)\n",
        "print(df_concat_norm)\n",
        "train_data=extract_data_as_per_index_files(\"covtype.train.index.txt\",df_concat_norm, df_concat_norm.shape[0])\n",
        "test_data=extract_data_as_per_index_files(\"covtype.test.index.txt\",df_concat_norm, df_concat_norm.shape[0])\n",
        "\n",
        "X_train = train_data.iloc[:,:-1]\n",
        "y_train = train_data.iloc[:, -1]\n",
        "#taking class 2 as +ve, rest as -ve as per question\n",
        "y_train = np.where(y_train == 2, 1, 0)\n",
        "print(np.unique(y_train))\n",
        "\n",
        "print(X_train.shape)\n",
        "print(y_train.shape)\n",
        "\n"
      ],
      "metadata": {
        "colab": {
          "base_uri": "https://localhost:8080/"
        },
        "id": "J4uadx6vRfY1",
        "outputId": "a6e714e0-5585-4059-9611-b46d253d750c"
      },
      "execution_count": 47,
      "outputs": [
        {
          "output_type": "stream",
          "name": "stdout",
          "text": [
            "[[3.80210116e-01 7.46945914e-03 4.39379949e-04 ... 0.00000000e+00\n",
            "  0.00000000e+00 0.00000000e+00]\n",
            " [3.82768672e-01 8.27607940e-03 2.95574264e-04 ... 0.00000000e+00\n",
            "  0.00000000e+00 0.00000000e+00]\n",
            " [3.75820888e-01 1.86302081e-02 1.20627247e-03 ... 0.00000000e+00\n",
            "  0.00000000e+00 0.00000000e+00]\n",
            " ...\n",
            " [9.29431778e-01 6.19361495e-02 6.62210404e-03 ... 0.00000000e+00\n",
            "  0.00000000e+00 0.00000000e+00]\n",
            " [9.27677164e-01 6.61514756e-02 5.83689491e-03 ... 0.00000000e+00\n",
            "  0.00000000e+00 0.00000000e+00]\n",
            " [9.26697830e-01 6.41649777e-02 5.05542249e-03 ... 0.00000000e+00\n",
            "  0.00000000e+00 0.00000000e+00]]\n",
            "              0         1         2         3         4         5         6   \\\n",
            "0       0.380210  0.007469  0.000439  0.037787  0.000000  0.074695  0.032368   \n",
            "1       0.382769  0.008276  0.000296  0.031331 -0.000887  0.057637  0.032513   \n",
            "2       0.375821  0.018630  0.001206  0.035920  0.008712  0.426216  0.031363   \n",
            "3       0.371810  0.020693  0.002403  0.032308  0.015754  0.412529  0.031774   \n",
            "4       0.386275  0.006698  0.000298  0.022775 -0.000149  0.058202  0.032748   \n",
            "...          ...       ...       ...       ...       ...       ...       ...   \n",
            "581007  0.931790  0.059501  0.007778  0.033056  0.006611  0.042001  0.093335   \n",
            "581008  0.930980  0.059184  0.007398  0.026088  0.004672  0.036990  0.093448   \n",
            "581009  0.929432  0.061936  0.006622  0.023372  0.002727  0.035058  0.091930   \n",
            "581010  0.927677  0.066151  0.005837  0.023348  0.001946  0.035021  0.089499   \n",
            "581011  0.926698  0.064165  0.005055  0.023333  0.001556  0.026055  0.089831   \n",
            "\n",
            "              7         8         9   ...   45   46   47   48   49   50   51  \\\n",
            "0       0.033979  0.021676  0.919622  ...  0.0  0.0  0.0  0.0  0.0  0.0  0.0   \n",
            "1       0.034730  0.022316  0.919975  ...  0.0  0.0  0.0  0.0  0.0  0.0  0.0   \n",
            "2       0.031899  0.018094  0.820399  ...  0.0  0.0  0.0  0.0  0.0  0.0  0.0   \n",
            "3       0.031774  0.016288  0.829196  ...  0.0  0.0  0.0  0.0  0.0  0.0  0.0   \n",
            "4       0.034832  0.022328  0.918725  ...  0.0  0.0  0.0  0.0  0.0  0.0  0.0   \n",
            "...          ...       ...       ...  ...  ...  ...  ...  ...  ...  ...  ...   \n",
            "581007  0.092168  0.045890  0.325504  ...  0.0  0.0  0.0  0.0  0.0  0.0  0.0   \n",
            "581008  0.092280  0.046335  0.329016  ...  0.0  0.0  0.0  0.0  0.0  0.0  0.0   \n",
            "581009  0.093878  0.050640  0.332663  ...  0.0  0.0  0.0  0.0  0.0  0.0  0.0   \n",
            "581010  0.095336  0.055645  0.336205  ...  0.0  0.0  0.0  0.0  0.0  0.0  0.0   \n",
            "581011  0.094886  0.054832  0.340269  ...  0.0  0.0  0.0  0.0  0.0  0.0  0.0   \n",
            "\n",
            "         52   53  54  \n",
            "0       0.0  0.0   5  \n",
            "1       0.0  0.0   5  \n",
            "2       0.0  0.0   2  \n",
            "3       0.0  0.0   2  \n",
            "4       0.0  0.0   5  \n",
            "...     ...  ...  ..  \n",
            "581007  0.0  0.0   3  \n",
            "581008  0.0  0.0   3  \n",
            "581009  0.0  0.0   3  \n",
            "581010  0.0  0.0   3  \n",
            "581011  0.0  0.0   3  \n",
            "\n",
            "[581012 rows x 55 columns]\n",
            "[0 1]\n",
            "(522911, 54)\n",
            "(522911,)\n"
          ]
        }
      ]
    },
    {
      "cell_type": "code",
      "source": [
        "C_list = [0.1, 1.0, 10.0, 100.0, 1000.0]\n",
        "Cross_Validation_acc=[]\n",
        "for c in C_list:\n",
        "    print(f\"Training C={c}\")\n",
        "    params = f\"-c {c} -s 3 -v 5\"\n",
        "    Cross_Validation_acc.append(train(y_train.ravel(), X_train.values, params))\n",
        "    print()\n",
        "\n",
        "X_test = test_data.iloc[:, :-1]\n",
        "y_test = test_data.iloc[:, -1]\n",
        "print(\"Best Accuracy = \",max(Cross_Validation_acc), \"%\")\n",
        "best_c_val=C_list[Cross_Validation_acc.index(max(Cross_Validation_acc))]\n",
        "print(\"Best C value = \",best_c_val)\n",
        "\n",
        "print(\"testing:\")\n",
        "y_test = np.where(y_test == 2, 1, 0)\n",
        "model = train(y_train.ravel(), X_train.values, f'-c {best_c_val} -s 3')\n",
        "y_pred_norm, _, _ = predict(y_test.ravel(), X_test.values, model)\n"
      ],
      "metadata": {
        "colab": {
          "base_uri": "https://localhost:8080/"
        },
        "id": "YERnu5vNt7xd",
        "outputId": "f312bd75-edf9-4587-d884-9ca0d4e6d1eb"
      },
      "execution_count": 48,
      "outputs": [
        {
          "output_type": "stream",
          "name": "stdout",
          "text": [
            "Training C=0.1\n",
            "Cross Validation Accuracy = 58.7884%\n",
            "\n",
            "Training C=1.0\n",
            "Cross Validation Accuracy = 59.2344%\n",
            "\n",
            "Training C=10.0\n",
            "Cross Validation Accuracy = 59.8392%\n",
            "\n",
            "Training C=100.0\n",
            "Cross Validation Accuracy = 61.4112%\n",
            "\n",
            "Training C=1000.0\n",
            "Cross Validation Accuracy = 56.196%\n",
            "\n",
            "Best Accuracy =  61.41121529285098 %\n",
            "Best C value =  100.0\n",
            "testing:\n",
            "Accuracy = 61.4224% (35687/58101) (classification)\n"
          ]
        }
      ]
    },
    {
      "cell_type": "code",
      "source": [
        "\n",
        "from sklearn.metrics import f1_score, roc_auc_score\n",
        "from sklearn.metrics import accuracy_score\n",
        "\n",
        "accuracy_norm = accuracy_score(y_test, y_pred_norm)\n",
        "print(accuracy_norm,\"Accuracy of Rescaled Preprocessing= {:.5f}\".format(accuracy_norm))\n",
        "f1_norm = f1_score(y_test, y_pred_std)\n",
        "auc_norm = roc_auc_score(y_test, y_pred_norm)\n",
        "\n",
        "print(f1_norm,\"F1-score on testing data for Rescaled Preprocessing: {:.2f}\".format(f1_norm))\n",
        "print(auc_norm,\"AUC on testing data for Rescaled Preprocessing: {:.2f}\".format(auc_norm))\n",
        "fpr_norm, tpr_norm, _ = roc_curve(y_test,y_pred_norm)"
      ],
      "metadata": {
        "colab": {
          "base_uri": "https://localhost:8080/"
        },
        "id": "V3Byj23xuGZO",
        "outputId": "f0eb2679-6752-4987-c9fc-f95f7b986b69"
      },
      "execution_count": 49,
      "outputs": [
        {
          "output_type": "stream",
          "name": "stdout",
          "text": [
            "0.6142235073406654 Accuracy of Rescaled Preprocessing= 0.61422\n",
            "0.765154514935009 F1-score on testing data for Rescaled Preprocessing: 0.77\n",
            "0.6159364762658364 AUC on testing data for Rescaled Preprocessing: 0.62\n"
          ]
        }
      ]
    },
    {
      "cell_type": "markdown",
      "source": [
        "# **TABLE FOR COMPARISON**"
      ],
      "metadata": {
        "id": "1BPx7dfNZ9Ab"
      }
    },
    {
      "cell_type": "code",
      "source": [
        "print('PreProcessing|Test Accuracy|Test F1-score| Test AUC ')\n",
        "print('--------------------------------------------------------------------------------------------------------------------')\n",
        "print()\n",
        "print('Raw          |    {:.5f}   |   {:.5f}    | {:.5f} '.format(accuracy_raw, f1_raw, auc_raw))\n",
        "print('Rescaled     |    {:.5f}   |   {:.5f}    | {:.5f} '.format(accuracy_rescaled, f1_rescaled, auc_rescaled))\n",
        "print('Standardized |    {:.5f}   |   {:.5f}    | {:.5f} '.format(accuracy_std, f1_std, auc_std))\n",
        "print('Normalized   |    {:.5f}   |   {:.5f}    | {:.5f} '.format(accuracy_norm, f1_norm, auc_norm))"
      ],
      "metadata": {
        "colab": {
          "base_uri": "https://localhost:8080/"
        },
        "id": "sIj4GvHiKNpE",
        "outputId": "8d19b4a7-0117-4486-acc8-857ce3eccdc8"
      },
      "execution_count": 50,
      "outputs": [
        {
          "output_type": "stream",
          "name": "stdout",
          "text": [
            "PreProcessing|Test Accuracy|Test F1-score| Test AUC \n",
            "--------------------------------------------------------------------------------------------------------------------\n",
            "\n",
            "Raw          |    0.52364   |   0.66814    | 0.53643 \n",
            "Rescaled     |    0.76567   |   0.76425    | 0.76611 \n",
            "Standardized |    0.76522   |   0.76515    | 0.76583 \n",
            "Normalized   |    0.61422   |   0.76515    | 0.61594 \n"
          ]
        }
      ]
    },
    {
      "cell_type": "markdown",
      "source": [
        "# **ROC PLOT**"
      ],
      "metadata": {
        "id": "gLQwN-ZWaG_r"
      }
    },
    {
      "cell_type": "code",
      "source": [
        "raw_label=('ROC Curve Raw='+str(auc_raw))\n",
        "std_label=('ROC Curve std='+str(auc_std))\n",
        "rescaled_label=('ROC Curve Rescaled='+str(auc_rescaled))\n",
        "norm_label=('ROC Curve Norm='+str(auc_norm))\n"
      ],
      "metadata": {
        "id": "cbxvqL2f8VKF"
      },
      "execution_count": 51,
      "outputs": []
    },
    {
      "cell_type": "code",
      "source": [
        "fig = plt.figure(figsize=(7, 7))\n",
        "plt.plot(fpr_raw, tpr_raw, label=raw_label, color='green')\n",
        "plt.plot(fpr_rescaled, tpr_rescaled, label=std_label, color='red')\n",
        "plt.plot(fpr_std, tpr_std, label=rescaled_label, color='pink')\n",
        "plt.plot(fpr_norm, tpr_norm, label=norm_label, color='blue')\n",
        "plt.plot([0, 1], [0, 1], 'k--', label='Random Data')\n",
        "plt.xlabel('False Positive Rate(FPR)')\n",
        "plt.ylabel('True Positive Rate(TPR)')\n",
        "plt.title('Receiver Operating Characteristic(ROC)')\n",
        "plt.legend(loc='lower right', fontsize=10)\n",
        "plt.grid(True)\n",
        "plt.show()"
      ],
      "metadata": {
        "colab": {
          "base_uri": "https://localhost:8080/",
          "height": 641
        },
        "id": "ZevCyCx257R1",
        "outputId": "8ba30eb0-f2b9-474f-e8f7-479ff9546434"
      },
      "execution_count": 52,
      "outputs": [
        {
          "output_type": "display_data",
          "data": {
            "text/plain": [
              "<Figure size 700x700 with 1 Axes>"
            ],
            "image/png": "[encoded data removed]"
          },
          "metadata": {}
        }
      ]
    },
    {
      "cell_type": "markdown",
      "source": [
        "# **INTERPRETATION OF ROC CURVE:**\n",
        "\n",
        "1. Performance of RAW data in green is the worst because for same TPR, it has highest FPR and is closest to the Random data identifier line (represented in black dashed)\n",
        "2. Performance of Rescaled data and Standard Scaled data is almost same here. Both have been scaled between 0 and 1. However, the fact that they are same indicates that the data exhibits mean 0 and Std Dev 1,\n",
        "3. Normalized Data falls between these curves."
      ],
      "metadata": {
        "id": "dTVzQjepP8Kz"
      }
    },
    {
      "cell_type": "markdown",
      "source": [
        "# ***OBSERVATION ANALYSIS:***\n",
        "\n",
        "Preprocessing is an important step in machine learning that involves transforming the raw data into a format that can be used by the learning algorithm. **As per question, I have used several techniques available for preprocessing the data, including raw data, rescaling, standard scaling, and normalization**. Each technique has its own advantages and disadvantages, and the choice of technique depends on the nature of the data and the learning algorithm being used.\n",
        "\n",
        "**Raw data**: Raw data is the original, unprocessed data. This can be used directly by some machine learning algorithms, such as decision trees, but other algorithms may require preprocessing to improve their performance.\n",
        "\n",
        "**Rescaling**: Rescaling involves **transforming the data so that it falls within a specified range**. This can be useful for features that have different scales, which can affect the performance of some learning algorithms. For example, some algorithms, such as K-nearest neighbors, use distance measures between data points, and features with larger scales can dominate the distance calculations. Rescaling can help to mitigate this effect. **I have used the min-max scaling, which scales the data to a range between 0 and 1.**\n",
        "\n",
        "**Standard scaling**: Standard scaling involves **transforming the data so that it has a mean of 0 and a standard deviation of 1**. This can be useful for features that have different means and variances. Standard scaling is often used in linear models, such as linear regression and logistic regression, because it can improve the convergence of the optimization algorithm.\n",
        "\n",
        "**Normalization**: The Normalizer class does not compute mean and variance. Instead, **it scales each row (sample) by its norm. This makes the length (norm) of each row equal to 1.0, and can be interpreted as normalizing the \"shape\" of the row vectors rather than scaling their \"size\"**.By doing so, the Normalizer class can be useful in situations where the magnitude of the features does not matter, but their direction (angle) does.\n",
        "\n",
        "In summary, the choice of preprocessing technique depends on the nature of the data and the learning algorithm being used. Rescaling can be useful when features have different scales, standard scaling can be useful in linear models, and normalization can be useful for skewed/direction-oriented distributions. However, it is important to be careful when preprocessing the data, as some techniques can introduce bias or distort the relationships between features. It is also important to evaluate the performance of the learning algorithm using Cross Validation to ensure that the preprocessing technique is not overfitting the data.\n",
        "\n",
        "\n",
        "\n",
        "\n",
        "\n"
      ],
      "metadata": {
        "id": "adGbZH8dLhzf"
      }
    }
  ]
}